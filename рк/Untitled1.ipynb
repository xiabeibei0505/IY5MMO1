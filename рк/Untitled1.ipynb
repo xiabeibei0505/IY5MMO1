{
 "cells": [
  {
   "cell_type": "code",
   "execution_count": 1,
   "id": "4bf1960e",
   "metadata": {},
   "outputs": [],
   "source": [
    "import numpy as np\n",
    "import pandas as pd\n",
    "import matplotlib.pyplot as plt\n",
    "import seaborn as sns \n",
    "import scipy.stats as stats\n",
    "%matplotlib inline "
   ]
  },
  {
   "cell_type": "code",
   "execution_count": 45,
   "id": "e3fa0c43",
   "metadata": {},
   "outputs": [],
   "source": [
    "data =pd.read_csv('./heart_2020_cleaned.csv')"
   ]
  },
  {
   "cell_type": "code",
   "execution_count": 46,
   "id": "af1d272c",
   "metadata": {},
   "outputs": [
    {
     "data": {
      "text/plain": [
       "(319795, 18)"
      ]
     },
     "execution_count": 46,
     "metadata": {},
     "output_type": "execute_result"
    }
   ],
   "source": [
    "data.shape"
   ]
  },
  {
   "cell_type": "code",
   "execution_count": 47,
   "id": "8dbb7adc",
   "metadata": {},
   "outputs": [
    {
     "data": {
      "text/html": [
       "<div>\n",
       "<style scoped>\n",
       "    .dataframe tbody tr th:only-of-type {\n",
       "        vertical-align: middle;\n",
       "    }\n",
       "\n",
       "    .dataframe tbody tr th {\n",
       "        vertical-align: top;\n",
       "    }\n",
       "\n",
       "    .dataframe thead th {\n",
       "        text-align: right;\n",
       "    }\n",
       "</style>\n",
       "<table border=\"1\" class=\"dataframe\">\n",
       "  <thead>\n",
       "    <tr style=\"text-align: right;\">\n",
       "      <th></th>\n",
       "      <th>HeartDisease</th>\n",
       "      <th>BMI</th>\n",
       "      <th>Smoking</th>\n",
       "      <th>AlcoholDrinking</th>\n",
       "      <th>Stroke</th>\n",
       "      <th>PhysicalHealth</th>\n",
       "      <th>MentalHealth</th>\n",
       "      <th>DiffWalking</th>\n",
       "      <th>Sex</th>\n",
       "      <th>AgeCategory</th>\n",
       "      <th>Race</th>\n",
       "      <th>Diabetic</th>\n",
       "      <th>PhysicalActivity</th>\n",
       "      <th>GenHealth</th>\n",
       "      <th>SleepTime</th>\n",
       "      <th>Asthma</th>\n",
       "      <th>KidneyDisease</th>\n",
       "      <th>SkinCancer</th>\n",
       "    </tr>\n",
       "  </thead>\n",
       "  <tbody>\n",
       "    <tr>\n",
       "      <th>0</th>\n",
       "      <td>No</td>\n",
       "      <td>16.60</td>\n",
       "      <td>Yes</td>\n",
       "      <td>No</td>\n",
       "      <td>No</td>\n",
       "      <td>3.0</td>\n",
       "      <td>30.0</td>\n",
       "      <td>No</td>\n",
       "      <td>Female</td>\n",
       "      <td>55-59</td>\n",
       "      <td>White</td>\n",
       "      <td>Yes</td>\n",
       "      <td>Yes</td>\n",
       "      <td>Very good</td>\n",
       "      <td>5.0</td>\n",
       "      <td>Yes</td>\n",
       "      <td>No</td>\n",
       "      <td>Yes</td>\n",
       "    </tr>\n",
       "    <tr>\n",
       "      <th>1</th>\n",
       "      <td>No</td>\n",
       "      <td>20.34</td>\n",
       "      <td>No</td>\n",
       "      <td>No</td>\n",
       "      <td>Yes</td>\n",
       "      <td>0.0</td>\n",
       "      <td>0.0</td>\n",
       "      <td>No</td>\n",
       "      <td>Female</td>\n",
       "      <td>80 or older</td>\n",
       "      <td>White</td>\n",
       "      <td>No</td>\n",
       "      <td>Yes</td>\n",
       "      <td>Very good</td>\n",
       "      <td>7.0</td>\n",
       "      <td>No</td>\n",
       "      <td>No</td>\n",
       "      <td>No</td>\n",
       "    </tr>\n",
       "    <tr>\n",
       "      <th>2</th>\n",
       "      <td>No</td>\n",
       "      <td>26.58</td>\n",
       "      <td>Yes</td>\n",
       "      <td>No</td>\n",
       "      <td>No</td>\n",
       "      <td>20.0</td>\n",
       "      <td>30.0</td>\n",
       "      <td>No</td>\n",
       "      <td>Male</td>\n",
       "      <td>65-69</td>\n",
       "      <td>White</td>\n",
       "      <td>Yes</td>\n",
       "      <td>Yes</td>\n",
       "      <td>Fair</td>\n",
       "      <td>8.0</td>\n",
       "      <td>Yes</td>\n",
       "      <td>No</td>\n",
       "      <td>No</td>\n",
       "    </tr>\n",
       "    <tr>\n",
       "      <th>3</th>\n",
       "      <td>No</td>\n",
       "      <td>24.21</td>\n",
       "      <td>No</td>\n",
       "      <td>No</td>\n",
       "      <td>No</td>\n",
       "      <td>0.0</td>\n",
       "      <td>0.0</td>\n",
       "      <td>No</td>\n",
       "      <td>Female</td>\n",
       "      <td>75-79</td>\n",
       "      <td>White</td>\n",
       "      <td>No</td>\n",
       "      <td>No</td>\n",
       "      <td>Good</td>\n",
       "      <td>6.0</td>\n",
       "      <td>No</td>\n",
       "      <td>No</td>\n",
       "      <td>Yes</td>\n",
       "    </tr>\n",
       "    <tr>\n",
       "      <th>4</th>\n",
       "      <td>No</td>\n",
       "      <td>23.71</td>\n",
       "      <td>No</td>\n",
       "      <td>No</td>\n",
       "      <td>No</td>\n",
       "      <td>28.0</td>\n",
       "      <td>0.0</td>\n",
       "      <td>Yes</td>\n",
       "      <td>Female</td>\n",
       "      <td>40-44</td>\n",
       "      <td>White</td>\n",
       "      <td>No</td>\n",
       "      <td>Yes</td>\n",
       "      <td>Very good</td>\n",
       "      <td>8.0</td>\n",
       "      <td>No</td>\n",
       "      <td>No</td>\n",
       "      <td>No</td>\n",
       "    </tr>\n",
       "  </tbody>\n",
       "</table>\n",
       "</div>"
      ],
      "text/plain": [
       "  HeartDisease    BMI Smoking AlcoholDrinking Stroke  PhysicalHealth  \\\n",
       "0           No  16.60     Yes              No     No             3.0   \n",
       "1           No  20.34      No              No    Yes             0.0   \n",
       "2           No  26.58     Yes              No     No            20.0   \n",
       "3           No  24.21      No              No     No             0.0   \n",
       "4           No  23.71      No              No     No            28.0   \n",
       "\n",
       "   MentalHealth DiffWalking     Sex  AgeCategory   Race Diabetic  \\\n",
       "0          30.0          No  Female        55-59  White      Yes   \n",
       "1           0.0          No  Female  80 or older  White       No   \n",
       "2          30.0          No    Male        65-69  White      Yes   \n",
       "3           0.0          No  Female        75-79  White       No   \n",
       "4           0.0         Yes  Female        40-44  White       No   \n",
       "\n",
       "  PhysicalActivity  GenHealth  SleepTime Asthma KidneyDisease SkinCancer  \n",
       "0              Yes  Very good        5.0    Yes            No        Yes  \n",
       "1              Yes  Very good        7.0     No            No         No  \n",
       "2              Yes       Fair        8.0    Yes            No         No  \n",
       "3               No       Good        6.0     No            No        Yes  \n",
       "4              Yes  Very good        8.0     No            No         No  "
      ]
     },
     "execution_count": 47,
     "metadata": {},
     "output_type": "execute_result"
    }
   ],
   "source": [
    "data.head()"
   ]
  },
  {
   "cell_type": "code",
   "execution_count": 48,
   "id": "f5ee639d",
   "metadata": {},
   "outputs": [
    {
     "data": {
      "text/plain": [
       "HeartDisease        0\n",
       "BMI                 0\n",
       "Smoking             0\n",
       "AlcoholDrinking     0\n",
       "Stroke              0\n",
       "PhysicalHealth      0\n",
       "MentalHealth        0\n",
       "DiffWalking         0\n",
       "Sex                 0\n",
       "AgeCategory         0\n",
       "Race                0\n",
       "Diabetic            0\n",
       "PhysicalActivity    0\n",
       "GenHealth           0\n",
       "SleepTime           0\n",
       "Asthma              0\n",
       "KidneyDisease       0\n",
       "SkinCancer          0\n",
       "dtype: int64"
      ]
     },
     "execution_count": 48,
     "metadata": {},
     "output_type": "execute_result"
    }
   ],
   "source": [
    "data.isna().sum()"
   ]
  },
  {
   "cell_type": "code",
   "execution_count": 49,
   "id": "19990e8d",
   "metadata": {},
   "outputs": [
    {
     "name": "stdout",
     "output_type": "stream",
     "text": [
      "<class 'pandas.core.frame.DataFrame'>\n",
      "RangeIndex: 319795 entries, 0 to 319794\n",
      "Data columns (total 18 columns):\n",
      " #   Column            Non-Null Count   Dtype  \n",
      "---  ------            --------------   -----  \n",
      " 0   HeartDisease      319795 non-null  object \n",
      " 1   BMI               319795 non-null  float64\n",
      " 2   Smoking           319795 non-null  object \n",
      " 3   AlcoholDrinking   319795 non-null  object \n",
      " 4   Stroke            319795 non-null  object \n",
      " 5   PhysicalHealth    319795 non-null  float64\n",
      " 6   MentalHealth      319795 non-null  float64\n",
      " 7   DiffWalking       319795 non-null  object \n",
      " 8   Sex               319795 non-null  object \n",
      " 9   AgeCategory       319795 non-null  object \n",
      " 10  Race              319795 non-null  object \n",
      " 11  Diabetic          319795 non-null  object \n",
      " 12  PhysicalActivity  319795 non-null  object \n",
      " 13  GenHealth         319795 non-null  object \n",
      " 14  SleepTime         319795 non-null  float64\n",
      " 15  Asthma            319795 non-null  object \n",
      " 16  KidneyDisease     319795 non-null  object \n",
      " 17  SkinCancer        319795 non-null  object \n",
      "dtypes: float64(4), object(14)\n",
      "memory usage: 43.9+ MB\n"
     ]
    }
   ],
   "source": [
    "data.info()"
   ]
  },
  {
   "cell_type": "code",
   "execution_count": 50,
   "id": "0e01e6b4",
   "metadata": {},
   "outputs": [],
   "source": [
    "def diagnostic_plots(df, variable):\n",
    "    plt.figure(figsize=(15,6))\n",
    "    # гистограмма\n",
    "    plt.subplot(1, 2, 1)\n",
    "    df[variable].hist(bins=30)\n",
    "    ## Q-Q plot\n",
    "    plt.subplot(1, 2, 2)\n",
    "    stats.probplot(df[variable], dist=\"norm\", plot=plt)\n",
    "    plt.show()"
   ]
  },
  {
   "cell_type": "code",
   "execution_count": 51,
   "id": "25cf10be",
   "metadata": {},
   "outputs": [
    {
     "name": "stdout",
     "output_type": "stream",
     "text": [
      "Оптимальное значение λ = -0.6727186978751638\n"
     ]
    },
    {
     "data": {
      "image/png": "[encoded data removed]",
      "text/plain": [
       "<Figure size 1080x432 with 2 Axes>"
      ]
     },
     "metadata": {
      "needs_background": "light"
     },
     "output_type": "display_data"
    }
   ],
   "source": [
    "# Необходимо преобразовать данные к действительному типу\n",
    "data['BMI_yeojohnson'], param = stats.yeojohnson(data['BMI']) \n",
    "print('Оптимальное значение λ = {}'.format(param))\n",
    "diagnostic_plots(data, 'BMI_yeojohnson')"
   ]
  },
  {
   "cell_type": "code",
   "execution_count": 65,
   "id": "44453652",
   "metadata": {},
   "outputs": [
    {
     "data": {
      "text/plain": [
       "(199, 6)"
      ]
     },
     "execution_count": 65,
     "metadata": {},
     "output_type": "execute_result"
    }
   ],
   "source": [
    "data2 =pd.read_csv('./Height of Male and Female by Country 2022.csv')\n",
    "data2.shape"
   ]
  },
  {
   "cell_type": "code",
   "execution_count": 66,
   "id": "6bc3718c",
   "metadata": {},
   "outputs": [
    {
     "data": {
      "text/plain": [
       "<AxesSubplot:>"
      ]
     },
     "execution_count": 66,
     "metadata": {},
     "output_type": "execute_result"
    },
    {
     "data": {
      "image/png": "[encoded data removed]",
      "text/plain": [
       "<Figure size 432x288 with 2 Axes>"
      ]
     },
     "metadata": {
      "needs_background": "light"
     },
     "output_type": "display_data"
    }
   ],
   "source": [
    "sns.heatmap(data2.corr(),annot=True,fmt=\".4f\")"
   ]
  },
  {
   "cell_type": "code",
   "execution_count": 67,
   "id": "8b7770dc",
   "metadata": {},
   "outputs": [
    {
     "data": {
      "text/html": [
       "<div>\n",
       "<style scoped>\n",
       "    .dataframe tbody tr th:only-of-type {\n",
       "        vertical-align: middle;\n",
       "    }\n",
       "\n",
       "    .dataframe tbody tr th {\n",
       "        vertical-align: top;\n",
       "    }\n",
       "\n",
       "    .dataframe thead th {\n",
       "        text-align: right;\n",
       "    }\n",
       "</style>\n",
       "<table border=\"1\" class=\"dataframe\">\n",
       "  <thead>\n",
       "    <tr style=\"text-align: right;\">\n",
       "      <th></th>\n",
       "      <th>Rank</th>\n",
       "      <th>Male Height in Cm</th>\n",
       "      <th>Female Height in Cm</th>\n",
       "      <th>Male Height in Ft</th>\n",
       "      <th>Female Height in Ft</th>\n",
       "    </tr>\n",
       "  </thead>\n",
       "  <tbody>\n",
       "    <tr>\n",
       "      <th>Rank</th>\n",
       "      <td>1.000000</td>\n",
       "      <td>-0.992041</td>\n",
       "      <td>-0.924239</td>\n",
       "      <td>-0.991887</td>\n",
       "      <td>-0.923155</td>\n",
       "    </tr>\n",
       "    <tr>\n",
       "      <th>Male Height in Cm</th>\n",
       "      <td>-0.992041</td>\n",
       "      <td>1.000000</td>\n",
       "      <td>0.928787</td>\n",
       "      <td>0.999854</td>\n",
       "      <td>0.927642</td>\n",
       "    </tr>\n",
       "    <tr>\n",
       "      <th>Female Height in Cm</th>\n",
       "      <td>-0.924239</td>\n",
       "      <td>0.928787</td>\n",
       "      <td>1.000000</td>\n",
       "      <td>0.928406</td>\n",
       "      <td>0.999792</td>\n",
       "    </tr>\n",
       "    <tr>\n",
       "      <th>Male Height in Ft</th>\n",
       "      <td>-0.991887</td>\n",
       "      <td>0.999854</td>\n",
       "      <td>0.928406</td>\n",
       "      <td>1.000000</td>\n",
       "      <td>0.927259</td>\n",
       "    </tr>\n",
       "    <tr>\n",
       "      <th>Female Height in Ft</th>\n",
       "      <td>-0.923155</td>\n",
       "      <td>0.927642</td>\n",
       "      <td>0.999792</td>\n",
       "      <td>0.927259</td>\n",
       "      <td>1.000000</td>\n",
       "    </tr>\n",
       "  </tbody>\n",
       "</table>\n",
       "</div>"
      ],
      "text/plain": [
       "                         Rank  Male Height in Cm  Female Height in Cm  \\\n",
       "Rank                 1.000000          -0.992041            -0.924239   \n",
       "Male Height in Cm   -0.992041           1.000000             0.928787   \n",
       "Female Height in Cm -0.924239           0.928787             1.000000   \n",
       "Male Height in Ft   -0.991887           0.999854             0.928406   \n",
       "Female Height in Ft -0.923155           0.927642             0.999792   \n",
       "\n",
       "                     Male Height in Ft  Female Height in Ft  \n",
       "Rank                         -0.991887            -0.923155  \n",
       "Male Height in Cm             0.999854             0.927642  \n",
       "Female Height in Cm           0.928406             0.999792  \n",
       "Male Height in Ft             1.000000             0.927259  \n",
       "Female Height in Ft           0.927259             1.000000  "
      ]
     },
     "execution_count": 67,
     "metadata": {},
     "output_type": "execute_result"
    }
   ],
   "source": [
    "data2.corr()"
   ]
  },
  {
   "cell_type": "code",
   "execution_count": 64,
   "id": "51d7fe94",
   "metadata": {},
   "outputs": [
    {
     "data": {
      "text/plain": [
       "<matplotlib.collections.PathCollection at 0x208386e9f40>"
      ]
     },
     "execution_count": 64,
     "metadata": {},
     "output_type": "execute_result"
    },
    {
     "data": {
      "image/png": "[encoded data removed]",
      "text/plain": [
       "<Figure size 432x288 with 1 Axes>"
      ]
     },
     "metadata": {
      "needs_background": "light"
     },
     "output_type": "display_data"
    }
   ],
   "source": [
    "x=data2['Male Height in Cm']\n",
    "y=data2['Rank']\n",
    "plt.scatter(x, y)"
   ]
  },
  {
   "cell_type": "code",
   "execution_count": 58,
   "id": "07757c09",
   "metadata": {},
   "outputs": [],
   "source": [
    "\n",
    "from sklearn.feature_selection import mutual_info_classif, mutual_info_regression\n",
    "from category_encoders.count import CountEncoder as ce_CountEncoder\n",
    "from sklearn.feature_selection import SelectKBest, SelectPercentile"
   ]
  },
  {
   "cell_type": "code",
   "execution_count": 59,
   "id": "a1059219",
   "metadata": {},
   "outputs": [],
   "source": [
    "data1 =pd.read_csv('./heart_2020_cleaned.csv')"
   ]
  },
  {
   "cell_type": "code",
   "execution_count": 60,
   "id": "07ff74e8",
   "metadata": {},
   "outputs": [],
   "source": [
    "ce_CountEncoder2 = ce_CountEncoder(normalize=True)\n",
    "data_FREQ_ENC = ce_CountEncoder2.fit_transform(data1[data1.columns.difference(['Survived'])])\n"
   ]
  },
  {
   "cell_type": "code",
   "execution_count": 12,
   "id": "2b64b669",
   "metadata": {},
   "outputs": [],
   "source": [
    "X1=data_FREQ_ENC\n",
    "y1=data_FREQ_ENC.HeartDisease\n",
    "feature_names=X1.columns"
   ]
  },
  {
   "cell_type": "code",
   "execution_count": 13,
   "id": "2823d5b7",
   "metadata": {},
   "outputs": [
    {
     "data": {
      "text/plain": [
       "Text(0, 0.5, 'Взаимная информация')"
      ]
     },
     "execution_count": 13,
     "metadata": {},
     "output_type": "execute_result"
    },
    {
     "data": {
      "image/png": "[encoded data removed]",
      "text/plain": [
       "<Figure size 720x360 with 1 Axes>"
      ]
     },
     "metadata": {
      "needs_background": "light"
     },
     "output_type": "display_data"
    }
   ],
   "source": [
    "mi = mutual_info_regression(X1, y1)\n",
    "mi = pd.Series(mi)\n",
    "mi.index = feature_names\n",
    "mi.sort_values(ascending=False).plot.bar(figsize=(10,5))\n",
    "plt.ylabel('Взаимная информация')"
   ]
  },
  {
   "cell_type": "code",
   "execution_count": 14,
   "id": "1c330e41",
   "metadata": {},
   "outputs": [],
   "source": [
    "from sklearn.feature_selection import SelectPercentile,f_classif,chi2\n",
    "\n",
    "def test_SelectKBest(X,y):\n",
    "\n",
    "    selector=SelectPercentile(score_func=f_classif,percentile=5)\n",
    "    selector.fit(X,y)\n",
    "    print(\"selected index:\",selector.get_support(True))\n",
    "    \n",
    "     #selector.fit(X,y)\n",
    "    #list(zip(boston_feature_names, sel_mi.get_support()))\n",
    "   # boston_feature_names[sel_mi.get_support()]\n",
    "    #print(\"scores_:\",selector.scores_)\n",
    "    #print(\"selected index:\",selector.get_support(True))\n",
    "    #print(\"after transform:\",selector.transform(X))\n",
    "    "
   ]
  },
  {
   "cell_type": "code",
   "execution_count": 16,
   "id": "43384faa",
   "metadata": {},
   "outputs": [
    {
     "name": "stdout",
     "output_type": "stream",
     "text": [
      "selected index: [7]\n"
     ]
    }
   ],
   "source": [
    "test_SelectKBest(X1,y1)\n"
   ]
  },
  {
   "cell_type": "code",
   "execution_count": 17,
   "id": "890e5a1a",
   "metadata": {},
   "outputs": [
    {
     "data": {
      "text/plain": [
       "(1797, 64)"
      ]
     },
     "execution_count": 17,
     "metadata": {},
     "output_type": "execute_result"
    }
   ],
   "source": [
    "from sklearn.datasets import load_digits\n",
    "from sklearn.feature_selection import SelectPercentile, chi2\n",
    "X, y = load_digits(return_X_y=True)\n",
    "X.shape\n",
    "\n"
   ]
  },
  {
   "cell_type": "code",
   "execution_count": 18,
   "id": "3d00c375",
   "metadata": {},
   "outputs": [
    {
     "data": {
      "text/plain": [
       "(1797, 4)"
      ]
     },
     "execution_count": 18,
     "metadata": {},
     "output_type": "execute_result"
    }
   ],
   "source": [
    "X_new = SelectPercentile(chi2, percentile=5).fit_transform(X, y)\n",
    "X_new.shape\n",
    "\n",
    "\n"
   ]
  },
  {
   "cell_type": "code",
   "execution_count": 19,
   "id": "959417c7",
   "metadata": {},
   "outputs": [
    {
     "name": "stderr",
     "output_type": "stream",
     "text": [
      "C:\\Users\\XIA~1.BEI\\AppData\\Local\\Temp/ipykernel_12864/1543537287.py:16: FutureWarning: Using short name for 'orient' is deprecated. Only the options: ('dict', list, 'series', 'split', 'records', 'index') will be used in a future version. Use one of the above to silence this warning.\n",
      "  X_train = vec.fit_transform(X_train.to_dict(orient='record'))\n",
      "C:\\Users\\XIA~1.BEI\\AppData\\Local\\Temp/ipykernel_12864/1543537287.py:17: FutureWarning: Using short name for 'orient' is deprecated. Only the options: ('dict', list, 'series', 'split', 'records', 'index') will be used in a future version. Use one of the above to silence this warning.\n",
      "  X_test = vec.transform(X_test.to_dict(orient='record'))\n"
     ]
    },
    {
     "name": "stdout",
     "output_type": "stream",
     "text": [
      "50\n"
     ]
    }
   ],
   "source": [
    "##此模型采用的titanic的数据集\n",
    "import pandas as pd\n",
    "titanic = pd.read_csv('./heart_2020_cleaned.csv')\n",
    "##分离数据特征与预测目标\n",
    "y = titanic['HeartDisease']\n",
    "X = titanic.drop(['HeartDisease'],axis=1)\n",
    "##对缺失数据进行填充\n",
    "#X['age'].fillna(X['age'].mean(),inplace=True)\n",
    "#X.fillna('UNKNOWN',inplace=True)\n",
    "##分割数据,依然采用25%用于测试\n",
    "from sklearn.model_selection import train_test_split\n",
    "X_train,X_test,y_train,y_test = train_test_split(X,y,test_size=0.25,random_state=33)\n",
    "##类别型特征向量\n",
    "from sklearn.feature_extraction import DictVectorizer\n",
    "vec = DictVectorizer()\n",
    "X_train = vec.fit_transform(X_train.to_dict(orient='record'))\n",
    "X_test = vec.transform(X_test.to_dict(orient='record'))  \n",
    "##输出处理后特征向量的维度\n",
    "print(len(vec.feature_names_))"
   ]
  },
  {
   "cell_type": "code",
   "execution_count": 20,
   "id": "16a4c91f",
   "metadata": {},
   "outputs": [
    {
     "data": {
      "text/plain": [
       "0.8677782086079876"
      ]
     },
     "execution_count": 20,
     "metadata": {},
     "output_type": "execute_result"
    }
   ],
   "source": [
    "##使用决策树模型依靠所有特征进行预测,并作出性能评价\n",
    "from sklearn.tree import DecisionTreeClassifier\n",
    "dt = DecisionTreeClassifier(criterion='entropy')\n",
    "dt.fit(X_train,y_train)\n",
    "dt.score(X_test,y_test)"
   ]
  },
  {
   "cell_type": "code",
   "execution_count": 21,
   "id": "8887273e",
   "metadata": {},
   "outputs": [
    {
     "data": {
      "text/plain": [
       "0.9141452676081001"
      ]
     },
     "execution_count": 21,
     "metadata": {},
     "output_type": "execute_result"
    }
   ],
   "source": [
    "from sklearn import feature_selection\n",
    "#筛选前5%的特征,使用相同配置的决策树模型进行预测,并且评估性能\n",
    "fs = feature_selection.SelectPercentile(feature_selection.chi2,percentile=5)\n",
    "X_train_fs = fs.fit_transform(X_train,y_train)\n",
    "dt.fit(X_train_fs,y_train)\n",
    "X_test_fs = fs.transform(X_test)\n",
    "dt.score(X_test_fs,y_test)\n"
   ]
  },
  {
   "cell_type": "code",
   "execution_count": null,
   "id": "3d6e113c",
   "metadata": {},
   "outputs": [],
   "source": [
    "#from sklearn.model_selection import cross_val_score"
   ]
  },
  {
   "cell_type": "code",
   "execution_count": null,
   "id": "8d4e12dd",
   "metadata": {},
   "outputs": [],
   "source": [
    "##通过交叉验证的方法,按照固定间隔的百分比筛选特征,并作图展示性能随\n",
    "##特征筛选比例的变化\n",
    "#import numpy as np\n",
    "#percentiles = range(1,100,2)\n",
    "#results = []\n",
    "\n",
    "#for i in percentiles:\n",
    "   # fs = feature_selection.SelectPercentile(feature_selection.chi2,percentile=i)\n",
    "   # X_train_fs = fs.fit_transform(X_train,y_train)\n",
    "   # scores = cross_val_score(dt,X_train_fs,y_train,cv=5)\n",
    "   \n",
    "#results = np.append(results,scores.mean())\n",
    "\n",
    "#print(results)\n",
    "##找到体现最佳性能特征筛选的百分比\n",
    "\n",
    "#opt = np.where(results == results.max())[0][0]\n",
    "\n",
    "#print('Optimal number of features %d' %percentiles[opt])"
   ]
  },
  {
   "cell_type": "code",
   "execution_count": null,
   "id": "1bb132ae",
   "metadata": {},
   "outputs": [],
   "source": [
    "#分布的可视化\n",
    "#import pylab as pl\n",
    "#pl.plot(percentiles,results)\n",
    "\n",
    "#pl.xlabel('percentiles of features')\n",
    "\n",
    "#pl.ylabel('accuracy')\n",
    "\n",
    "#pl.show()"
   ]
  },
  {
   "cell_type": "code",
   "execution_count": null,
   "id": "7185da31",
   "metadata": {},
   "outputs": [],
   "source": [
    "##使用最佳筛选后的特征，利用相同配置的模型在测试集上进行性能评估\n",
    "#from sklearn import feature_selection\n",
    "#fs = feature_selection.SelectPercentile(feature_selection.chi2,percentile=7)\n",
    "#X_train_fs = fs.fit_transform(X_train,y_train)\n",
    "#dt.fit(X_train_fs,y_train)\n",
    "#X_test_fs = fs.transform(X_test)\n",
    "#dt.score(X_test_fs,y_test)"
   ]
  },
  {
   "cell_type": "code",
   "execution_count": null,
   "id": "14f0dc72",
   "metadata": {},
   "outputs": [],
   "source": []
  }
 ],
 "metadata": {
  "kernelspec": {
   "display_name": "Python 3 (ipykernel)",
   "language": "python",
   "name": "python3"
  },
  "language_info": {
   "codemirror_mode": {
    "name": "ipython",
    "version": 3
   },
   "file_extension": ".py",
   "mimetype": "text/x-python",
   "name": "python",
   "nbconvert_exporter": "python",
   "pygments_lexer": "ipython3",
   "version": "3.9.7"
  }
 },
 "nbformat": 4,
 "nbformat_minor": 5
}

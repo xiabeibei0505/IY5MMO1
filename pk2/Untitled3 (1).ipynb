{
 "cells": [
  {
   "cell_type": "code",
   "execution_count": 14,
   "id": "80a728df",
   "metadata": {},
   "outputs": [],
   "source": [
    "import jieba\n",
    "from sklearn import metrics\n",
    "from sklearn.naive_bayes import MultinomialNB\n",
    "from sklearn.model_selection import train_test_split\n",
    "from sklearn.feature_extraction.text import TfidfVectorizer\n",
    "from sklearn.linear_model import LogisticRegression"
   ]
  },
  {
   "cell_type": "code",
   "execution_count": 2,
   "id": "fdb01ad0",
   "metadata": {},
   "outputs": [],
   "source": [
    "def read_data(data_path):\n",
    "    \"\"\"\n",
    "    读取数据\n",
    "    :param data_path: 数据存放路径\n",
    "    :return:读取到的数据\n",
    "    \"\"\"\n",
    "    with open(data_path, 'r', encoding='utf-8') as f:\n",
    "        data = f.readlines()\n",
    "    return data"
   ]
  },
  {
   "cell_type": "code",
   "execution_count": 3,
   "id": "bb2c3d8b",
   "metadata": {},
   "outputs": [],
   "source": [
    "def cut_words(data, stopwords, test_size=0.2):\n",
    "    \"\"\"\n",
    "    分词、去停用词并将数据集分成训练集和测试集\n",
    "    :param data:文本数据\n",
    "    :param stopwords:停用词\n",
    "    :param test_size:测试集和训练集的划分比例\n",
    "    :return:测试集和训练集\n",
    "    \"\"\"\n",
    "    stop_words = list()\n",
    "    for word in stopwords:\n",
    "        stop_words.append(word[:-1])\n",
    "    y = list()\n",
    "    text_list = list()\n",
    "    for line in data:\n",
    "        label, text = line.split('\\t', 1)\n",
    "        cut_text = [word for word in jieba.cut(text) if word not in stop_words]\n",
    "        if cut_text == '':\n",
    "            continue\n",
    "        else:\n",
    "            text_list.append(' '.join(cut_text))\n",
    "            y.append(int(label))\n",
    "    return train_test_split(text_list, y, test_size=test_size, random_state=1028)\n"
   ]
  },
  {
   "cell_type": "code",
   "execution_count": 4,
   "id": "d59b423c",
   "metadata": {},
   "outputs": [],
   "source": [
    "\n",
    "def calculate_tfidf(X_train, X_test):\n",
    "    \"\"\"\n",
    "    计算文本的tf-idf\n",
    "    :param X_train: 训练集\n",
    "    :param X_test:测试集\n",
    "    :return:返回的是文本的tf-idf特征\n",
    "    \"\"\"\n",
    "    vectorizer = TfidfVectorizer()\n",
    "    vectorizer.fit_transform(X_train)\n",
    "    X_train_tfidf = vectorizer.transform(X_train)\n",
    "    X_test_tfidf = vectorizer.transform(X_test)\n",
    "    return X_train_tfidf, X_test_tfidf, vectorizer"
   ]
  },
  {
   "cell_type": "code",
   "execution_count": 5,
   "id": "19c5d0ab",
   "metadata": {},
   "outputs": [],
   "source": [
    "def evaluate(model, X, y):\n",
    "    \"\"\"\n",
    "    模型评估\n",
    "    :param model:训练好的模型\n",
    "    :param X:测试集\n",
    "    :param y:测试集标签\n",
    "    :return:正确率和auc值\n",
    "    \"\"\"\n",
    "    accuracy = model.score(X, y)\n",
    "    fpr, tpr, thresholds = metrics.roc_curve(y, model.predict_proba(X)[:, 1], pos_label=1)\n",
    "    return accuracy, metrics.auc(fpr, tpr)"
   ]
  },
  {
   "cell_type": "code",
   "execution_count": 11,
   "id": "fb3df284",
   "metadata": {},
   "outputs": [],
   "source": [
    "    # step1 读取数据（文本和停用词）\n",
    "    data_path = \"./train.txt\"\n",
    "    stopwords_path = \"./stopwords.txt\"\n",
    "    data = read_data(data_path)\n",
    "    stopwords = read_data(stopwords_path)\n",
    "\n",
    "    # step2 分词、分为训练集和测试集\n",
    "    X_train, X_test, y_train, y_test = cut_words(data, stopwords, test_size=0.2)\n",
    "\n",
    "    # step3 提取特征参数（tf-idf）\n",
    "    X_train_tfidf, X_test_tfidf, tfidf_model = calculate_tfidf(X_train, X_test)\n",
    "   "
   ]
  },
  {
   "cell_type": "code",
   "execution_count": 19,
   "id": "34e5999d",
   "metadata": {},
   "outputs": [
    {
     "name": "stdout",
     "output_type": "stream",
     "text": [
      "TfidfVectorizer & Multinomial Naive Bayes - MNB\n",
      "\n",
      "Train Accuarcy：98.4051%\n",
      "\n",
      "Train AUC：0.999471\n",
      "\n",
      "Test Accuarcy：94.8064%\n",
      "\n",
      "Test AUC：0.990541\n",
      "\n"
     ]
    }
   ],
   "source": [
    "    print(\"TfidfVectorizer & Multinomial Naive Bayes - MNB\\n\")\n",
    "    # step4 训练lr模型\n",
    "    nb = MultinomialNB(alpha=0.01)\n",
    "    nb.fit(X_train_tfidf, y_train)\n",
    "    \n",
    "    # step5 模型评估\n",
    "    accuracy, auc = evaluate(nb, X_train_tfidf, y_train)\n",
    "    print(\"Train Accuarcy：%.4f%%\\n\" % (accuracy * 100))\n",
    "    print(\"Train AUC：%.6f\\n\" % auc)\n",
    "\n",
    "    accuracy, auc = evaluate(nb, X_test_tfidf, y_test)\n",
    "    print(\"Test Accuarcy：%.4f%%\\n\" % (accuracy * 100))\n",
    "    print(\"Test AUC：%.6f\\n\" % auc)"
   ]
  },
  {
   "cell_type": "code",
   "execution_count": 20,
   "id": "149c8fc9",
   "metadata": {},
   "outputs": [
    {
     "name": "stdout",
     "output_type": "stream",
     "text": [
      "TfidfVectorizer & LogisticRegression \n",
      "\n",
      "Train Accuarcy：95.1470%\n",
      "\n",
      "Train AUC：0.996376\n",
      "\n",
      "Test Accuarcy：93.6674%\n",
      "\n",
      "Test AUC：0.988965\n",
      "\n"
     ]
    }
   ],
   "source": [
    "    print(\"TfidfVectorizer & LogisticRegression \\n\")\n",
    "    # step4 训练lr模型\n",
    "    lr = LogisticRegression(C=1.0)\n",
    "    lr.fit(X_train_tfidf, y_train)\n",
    "\n",
    "    # step5 模型评估\n",
    "    accuracy, auc = evaluate(lr, X_train_tfidf, y_train)\n",
    "    print(\"Train Accuarcy：%.4f%%\\n\" % (accuracy * 100))\n",
    "    print(\"Train AUC：%.6f\\n\" % auc)\n",
    "\n",
    "    accuracy, auc = evaluate(lr, X_test_tfidf, y_test)\n",
    "    print(\"Test Accuarcy：%.4f%%\\n\" % (accuracy * 100))\n",
    "    print(\"Test AUC：%.6f\\n\" % auc)"
   ]
  },
  {
   "cell_type": "code",
   "execution_count": null,
   "id": "d9a21d3c",
   "metadata": {},
   "outputs": [],
   "source": []
  }
 ],
 "metadata": {
  "kernelspec": {
   "display_name": "Python 3 (ipykernel)",
   "language": "python",
   "name": "python3"
  },
  "language_info": {
   "codemirror_mode": {
    "name": "ipython",
    "version": 3
   },
   "file_extension": ".py",
   "mimetype": "text/x-python",
   "name": "python",
   "nbconvert_exporter": "python",
   "pygments_lexer": "ipython3",
   "version": "3.9.7"
  }
 },
 "nbformat": 4,
 "nbformat_minor": 5
}

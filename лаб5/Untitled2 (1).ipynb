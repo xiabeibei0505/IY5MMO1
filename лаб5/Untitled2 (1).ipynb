{
 "cells": [
  {
   "cell_type": "code",
   "execution_count": 1,
   "id": "00fad356",
   "metadata": {},
   "outputs": [],
   "source": [
    "text1 = 'Шэньчжэнь — крупный китайский город, расположенный на юге страны, возле границы с Гонконгом. Он построен в устье Жемчужной реки, на побережье Южно-Китайского моря. В мире Шэньчжэнь воспринимают как экономическое чудо. Его называют «городом парков и небоскребов», а также китайской «Силиконовой долиной».'\n",
    "text2 = 'Китай или Чжун Го, как его называют сами китайцы, является одной из самых удивительных и загадочных стран мира'\n",
    "text3 = 'Топография Китая очень разнообразна, на его территории имеются высокие горы, плато, впадины, пустыни и обширные равнины.'"
   ]
  },
  {
   "cell_type": "code",
   "execution_count": 2,
   "id": "15b9aed2",
   "metadata": {},
   "outputs": [
    {
     "name": "stderr",
     "output_type": "stream",
     "text": [
      "[nltk_data] Downloading package punkt to\n",
      "[nltk_data]     C:\\Users\\92883\\AppData\\Roaming\\nltk_data...\n",
      "[nltk_data]   Package punkt is already up-to-date!\n"
     ]
    },
    {
     "data": {
      "text/plain": [
       "True"
      ]
     },
     "execution_count": 2,
     "metadata": {},
     "output_type": "execute_result"
    }
   ],
   "source": [
    "#Natural Language Toolkit，自然语言处理工具包\n",
    "import nltk\n",
    "nltk.download('punkt')"
   ]
  },
  {
   "cell_type": "code",
   "execution_count": 3,
   "id": "4f2292fa",
   "metadata": {},
   "outputs": [
    {
     "data": {
      "text/plain": [
       "['BlanklineTokenizer',\n",
       " 'LegalitySyllableTokenizer',\n",
       " 'LineTokenizer',\n",
       " 'MWETokenizer',\n",
       " 'NLTKWordTokenizer',\n",
       " 'PunktSentenceTokenizer',\n",
       " 'RegexpTokenizer',\n",
       " 'ReppTokenizer',\n",
       " 'SExprTokenizer',\n",
       " 'SpaceTokenizer',\n",
       " 'StanfordSegmenter',\n",
       " 'SyllableTokenizer',\n",
       " 'TabTokenizer',\n",
       " 'TextTilingTokenizer',\n",
       " 'ToktokTokenizer',\n",
       " 'TreebankWordTokenizer',\n",
       " 'TweetTokenizer',\n",
       " 'WhitespaceTokenizer']"
      ]
     },
     "execution_count": 3,
     "metadata": {},
     "output_type": "execute_result"
    }
   ],
   "source": [
    "#tokenize网络符将一个字符串标记化;切分词;\n",
    "from nltk import tokenize\n",
    "dir(tokenize)[:18]"
   ]
  },
  {
   "cell_type": "code",
   "execution_count": 4,
   "id": "85f63bb8",
   "metadata": {},
   "outputs": [
    {
     "data": {
      "text/plain": [
       "['Шэньчжэнь',\n",
       " '—',\n",
       " 'крупный',\n",
       " 'китайский',\n",
       " 'город',\n",
       " ',',\n",
       " 'расположенный',\n",
       " 'на',\n",
       " 'юге',\n",
       " 'страны',\n",
       " ',',\n",
       " 'возле',\n",
       " 'границы',\n",
       " 'с',\n",
       " 'Гонконгом',\n",
       " '.',\n",
       " 'Он',\n",
       " 'построен',\n",
       " 'в',\n",
       " 'устье',\n",
       " 'Жемчужной',\n",
       " 'реки',\n",
       " ',',\n",
       " 'на',\n",
       " 'побережье',\n",
       " 'Южно',\n",
       " '-',\n",
       " 'Китайского',\n",
       " 'моря',\n",
       " '.',\n",
       " 'В',\n",
       " 'мире',\n",
       " 'Шэньчжэнь',\n",
       " 'воспринимают',\n",
       " 'как',\n",
       " 'экономическое',\n",
       " 'чудо',\n",
       " '.',\n",
       " 'Его',\n",
       " 'называют',\n",
       " '«',\n",
       " 'городом',\n",
       " 'парков',\n",
       " 'и',\n",
       " 'небоскребов',\n",
       " '»,',\n",
       " 'а',\n",
       " 'также',\n",
       " 'китайской',\n",
       " '«',\n",
       " 'Силиконовой',\n",
       " 'долиной',\n",
       " '».']"
      ]
     },
     "execution_count": 4,
     "metadata": {},
     "output_type": "execute_result"
    }
   ],
   "source": [
    "nltk_tk_1 = nltk.WordPunctTokenizer()\n",
    "nltk_tk_1.tokenize(text1)"
   ]
  },
  {
   "cell_type": "code",
   "execution_count": 5,
   "id": "cef643f7",
   "metadata": {},
   "outputs": [
    {
     "name": "stdout",
     "output_type": "stream",
     "text": [
      "4\n"
     ]
    },
    {
     "data": {
      "text/plain": [
       "['Шэньчжэнь — крупный китайский город, расположенный на юге страны, возле границы с Гонконгом.',\n",
       " 'Он построен в устье Жемчужной реки, на побережье Южно-Китайского моря.',\n",
       " 'В мире Шэньчжэнь воспринимают как экономическое чудо.',\n",
       " 'Его называют «городом парков и небоскребов», а также китайской «Силиконовой долиной».']"
      ]
     },
     "execution_count": 5,
     "metadata": {},
     "output_type": "execute_result"
    }
   ],
   "source": [
    "# Токенизация по предложениям\n",
    "nltk_tk_sents = nltk.tokenize.sent_tokenize(text1)\n",
    "print(len(nltk_tk_sents))\n",
    "nltk_tk_sents"
   ]
  },
  {
   "cell_type": "code",
   "execution_count": 6,
   "id": "af1d012f",
   "metadata": {},
   "outputs": [],
   "source": [
    "from spacy.lang.ru import Russian"
   ]
  },
  {
   "cell_type": "code",
   "execution_count": 7,
   "id": "3c4a3b92",
   "metadata": {},
   "outputs": [
    {
     "data": {
      "text/plain": [
       "Шэньчжэнь — крупный китайский город, расположенный на юге страны, возле границы с Гонконгом. Он построен в устье Жемчужной реки, на побережье Южно-Китайского моря. В мире Шэньчжэнь воспринимают как экономическое чудо. Его называют «городом парков и небоскребов», а также китайской «Силиконовой долиной»."
      ]
     },
     "execution_count": 7,
     "metadata": {},
     "output_type": "execute_result"
    }
   ],
   "source": [
    "from spacy.lang.ru import Russian\n",
    "import spacy\n",
    "nlp = spacy.load('ru_core_news_sm')\n",
    "spacy_text1 = nlp(text1)\n",
    "spacy_text1"
   ]
  },
  {
   "cell_type": "code",
   "execution_count": 8,
   "id": "12b364e5",
   "metadata": {},
   "outputs": [
    {
     "name": "stdout",
     "output_type": "stream",
     "text": [
      "Шэньчжэнь\n",
      "—\n",
      "крупный\n",
      "китайский\n",
      "город\n",
      ",\n",
      "расположенный\n",
      "на\n",
      "юге\n",
      "страны\n",
      ",\n",
      "возле\n",
      "границы\n",
      "с\n",
      "Гонконгом\n",
      ".\n",
      "Он\n",
      "построен\n",
      "в\n",
      "устье\n",
      "Жемчужной\n",
      "реки\n",
      ",\n",
      "на\n",
      "побережье\n",
      "Южно\n",
      "-\n",
      "Китайского\n",
      "моря\n",
      ".\n",
      "В\n",
      "мире\n",
      "Шэньчжэнь\n",
      "воспринимают\n",
      "как\n",
      "экономическое\n",
      "чудо\n",
      ".\n",
      "Его\n",
      "называют\n",
      "«\n",
      "городом\n",
      "парков\n",
      "и\n",
      "небоскребов\n",
      "»\n",
      ",\n",
      "а\n",
      "также\n",
      "китайской\n",
      "«\n",
      "Силиконовой\n",
      "долиной\n",
      "»\n",
      ".\n"
     ]
    }
   ],
   "source": [
    "for t in spacy_text1:\n",
    "    print(t)"
   ]
  },
  {
   "cell_type": "code",
   "execution_count": 9,
   "id": "e9fa516d",
   "metadata": {},
   "outputs": [
    {
     "data": {
      "text/plain": [
       "Китай или Чжун Го, как его называют сами китайцы, является одной из самых удивительных и загадочных стран мира"
      ]
     },
     "execution_count": 9,
     "metadata": {},
     "output_type": "execute_result"
    }
   ],
   "source": [
    "spacy_text2 = nlp(text2)\n",
    "spacy_text2"
   ]
  },
  {
   "cell_type": "code",
   "execution_count": 10,
   "id": "13a08aa4",
   "metadata": {},
   "outputs": [
    {
     "data": {
      "text/plain": [
       "Топография Китая очень разнообразна, на его территории имеются высокие горы, плато, впадины, пустыни и обширные равнины."
      ]
     },
     "execution_count": 10,
     "metadata": {},
     "output_type": "execute_result"
    }
   ],
   "source": [
    "spacy_text3 = nlp(text3)\n",
    "spacy_text3"
   ]
  },
  {
   "cell_type": "code",
   "execution_count": 11,
   "id": "4be8b96c",
   "metadata": {},
   "outputs": [],
   "source": [
    "#pip install razdel\n",
    "from razdel   import tokenize, sentenize"
   ]
  },
  {
   "cell_type": "code",
   "execution_count": 12,
   "id": "cfb0f2e7",
   "metadata": {},
   "outputs": [
    {
     "data": {
      "text/plain": [
       "[Substring(0, 9, 'Шэньчжэнь'),\n",
       " Substring(10, 11, '—'),\n",
       " Substring(12, 19, 'крупный'),\n",
       " Substring(20, 29, 'китайский'),\n",
       " Substring(30, 35, 'город'),\n",
       " Substring(35, 36, ','),\n",
       " Substring(37, 50, 'расположенный'),\n",
       " Substring(51, 53, 'на'),\n",
       " Substring(54, 57, 'юге'),\n",
       " Substring(58, 64, 'страны'),\n",
       " Substring(64, 65, ','),\n",
       " Substring(66, 71, 'возле'),\n",
       " Substring(72, 79, 'границы'),\n",
       " Substring(80, 81, 'с'),\n",
       " Substring(82, 91, 'Гонконгом'),\n",
       " Substring(91, 92, '.'),\n",
       " Substring(93, 95, 'Он'),\n",
       " Substring(96, 104, 'построен'),\n",
       " Substring(105, 106, 'в'),\n",
       " Substring(107, 112, 'устье'),\n",
       " Substring(113, 122, 'Жемчужной'),\n",
       " Substring(123, 127, 'реки'),\n",
       " Substring(127, 128, ','),\n",
       " Substring(129, 131, 'на'),\n",
       " Substring(132, 141, 'побережье'),\n",
       " Substring(142, 157, 'Южно-Китайского'),\n",
       " Substring(158, 162, 'моря'),\n",
       " Substring(162, 163, '.'),\n",
       " Substring(164, 165, 'В'),\n",
       " Substring(166, 170, 'мире'),\n",
       " Substring(171, 180, 'Шэньчжэнь'),\n",
       " Substring(181, 193, 'воспринимают'),\n",
       " Substring(194, 197, 'как'),\n",
       " Substring(198, 211, 'экономическое'),\n",
       " Substring(212, 216, 'чудо'),\n",
       " Substring(216, 217, '.'),\n",
       " Substring(218, 221, 'Его'),\n",
       " Substring(222, 230, 'называют'),\n",
       " Substring(231, 232, '«'),\n",
       " Substring(232, 239, 'городом'),\n",
       " Substring(240, 246, 'парков'),\n",
       " Substring(247, 248, 'и'),\n",
       " Substring(249, 260, 'небоскребов'),\n",
       " Substring(260, 261, '»'),\n",
       " Substring(261, 262, ','),\n",
       " Substring(263, 264, 'а'),\n",
       " Substring(265, 270, 'также'),\n",
       " Substring(271, 280, 'китайской'),\n",
       " Substring(281, 282, '«'),\n",
       " Substring(282, 293, 'Силиконовой'),\n",
       " Substring(294, 301, 'долиной'),\n",
       " Substring(301, 302, '»'),\n",
       " Substring(302, 303, '.')]"
      ]
     },
     "execution_count": 12,
     "metadata": {},
     "output_type": "execute_result"
    }
   ],
   "source": [
    "n_tok_text1 = list(tokenize(text1))\n",
    "n_tok_text1"
   ]
  },
  {
   "cell_type": "code",
   "execution_count": 13,
   "id": "6ce5c8b6",
   "metadata": {},
   "outputs": [
    {
     "data": {
      "text/plain": [
       "['Шэньчжэнь',\n",
       " '—',\n",
       " 'крупный',\n",
       " 'китайский',\n",
       " 'город',\n",
       " ',',\n",
       " 'расположенный',\n",
       " 'на',\n",
       " 'юге',\n",
       " 'страны',\n",
       " ',',\n",
       " 'возле',\n",
       " 'границы',\n",
       " 'с',\n",
       " 'Гонконгом',\n",
       " '.',\n",
       " 'Он',\n",
       " 'построен',\n",
       " 'в',\n",
       " 'устье',\n",
       " 'Жемчужной',\n",
       " 'реки',\n",
       " ',',\n",
       " 'на',\n",
       " 'побережье',\n",
       " 'Южно-Китайского',\n",
       " 'моря',\n",
       " '.',\n",
       " 'В',\n",
       " 'мире',\n",
       " 'Шэньчжэнь',\n",
       " 'воспринимают',\n",
       " 'как',\n",
       " 'экономическое',\n",
       " 'чудо',\n",
       " '.',\n",
       " 'Его',\n",
       " 'называют',\n",
       " '«',\n",
       " 'городом',\n",
       " 'парков',\n",
       " 'и',\n",
       " 'небоскребов',\n",
       " '»',\n",
       " ',',\n",
       " 'а',\n",
       " 'также',\n",
       " 'китайской',\n",
       " '«',\n",
       " 'Силиконовой',\n",
       " 'долиной',\n",
       " '»',\n",
       " '.']"
      ]
     },
     "execution_count": 13,
     "metadata": {},
     "output_type": "execute_result"
    }
   ],
   "source": [
    "[_.text for _ in n_tok_text1]"
   ]
  },
  {
   "cell_type": "code",
   "execution_count": 14,
   "id": "02ded194",
   "metadata": {},
   "outputs": [
    {
     "data": {
      "text/plain": [
       "[Substring(0,\n",
       "           92,\n",
       "           'Шэньчжэнь — крупный китайский город, расположенный на юге страны, возле границы с Гонконгом.'),\n",
       " Substring(93,\n",
       "           163,\n",
       "           'Он построен в устье Жемчужной реки, на побережье Южно-Китайского моря.'),\n",
       " Substring(164, 217, 'В мире Шэньчжэнь воспринимают как экономическое чудо.'),\n",
       " Substring(218,\n",
       "           303,\n",
       "           'Его называют «городом парков и небоскребов», а также китайской «Силиконовой долиной».')]"
      ]
     },
     "execution_count": 14,
     "metadata": {},
     "output_type": "execute_result"
    }
   ],
   "source": [
    "n_sen_text1 = list(sentenize(text1))\n",
    "n_sen_text1"
   ]
  },
  {
   "cell_type": "code",
   "execution_count": 15,
   "id": "726e2600",
   "metadata": {},
   "outputs": [
    {
     "data": {
      "text/plain": [
       "(['Шэньчжэнь — крупный китайский город, расположенный на юге страны, возле границы с Гонконгом.',\n",
       "  'Он построен в устье Жемчужной реки, на побережье Южно-Китайского моря.',\n",
       "  'В мире Шэньчжэнь воспринимают как экономическое чудо.',\n",
       "  'Его называют «городом парков и небоскребов», а также китайской «Силиконовой долиной».'],\n",
       " 4)"
      ]
     },
     "execution_count": 15,
     "metadata": {},
     "output_type": "execute_result"
    }
   ],
   "source": [
    "[_.text for _ in n_sen_text1], len([_.text for _ in n_sen_text1])"
   ]
  },
  {
   "cell_type": "code",
   "execution_count": 16,
   "id": "c96112e0",
   "metadata": {},
   "outputs": [],
   "source": [
    "# Этот вариант токенизации нужен для последующей обработки\n",
    "## 进一步处理需要这个标记化选项\n",
    "def n_sentenize(text):\n",
    "    n_sen_chunk = []\n",
    "    for sent in sentenize(text):\n",
    "        tokens = [_.text for _ in tokenize(sent.text)]\n",
    "        n_sen_chunk.append(tokens)\n",
    "    return n_sen_chunk"
   ]
  },
  {
   "cell_type": "code",
   "execution_count": 17,
   "id": "8e6f1cdb",
   "metadata": {},
   "outputs": [
    {
     "data": {
      "text/plain": [
       "[['Шэньчжэнь',\n",
       "  '—',\n",
       "  'крупный',\n",
       "  'китайский',\n",
       "  'город',\n",
       "  ',',\n",
       "  'расположенный',\n",
       "  'на',\n",
       "  'юге',\n",
       "  'страны',\n",
       "  ',',\n",
       "  'возле',\n",
       "  'границы',\n",
       "  'с',\n",
       "  'Гонконгом',\n",
       "  '.'],\n",
       " ['Он',\n",
       "  'построен',\n",
       "  'в',\n",
       "  'устье',\n",
       "  'Жемчужной',\n",
       "  'реки',\n",
       "  ',',\n",
       "  'на',\n",
       "  'побережье',\n",
       "  'Южно-Китайского',\n",
       "  'моря',\n",
       "  '.'],\n",
       " ['В',\n",
       "  'мире',\n",
       "  'Шэньчжэнь',\n",
       "  'воспринимают',\n",
       "  'как',\n",
       "  'экономическое',\n",
       "  'чудо',\n",
       "  '.'],\n",
       " ['Его',\n",
       "  'называют',\n",
       "  '«',\n",
       "  'городом',\n",
       "  'парков',\n",
       "  'и',\n",
       "  'небоскребов',\n",
       "  '»',\n",
       "  ',',\n",
       "  'а',\n",
       "  'также',\n",
       "  'китайской',\n",
       "  '«',\n",
       "  'Силиконовой',\n",
       "  'долиной',\n",
       "  '»',\n",
       "  '.']]"
      ]
     },
     "execution_count": 17,
     "metadata": {},
     "output_type": "execute_result"
    }
   ],
   "source": [
    "n_sen_chunk_1 = n_sentenize(text1)\n",
    "n_sen_chunk_1"
   ]
  },
  {
   "cell_type": "code",
   "execution_count": 18,
   "id": "c0027db3",
   "metadata": {},
   "outputs": [
    {
     "data": {
      "text/plain": [
       "[['Китай',\n",
       "  'или',\n",
       "  'Чжун',\n",
       "  'Го',\n",
       "  ',',\n",
       "  'как',\n",
       "  'его',\n",
       "  'называют',\n",
       "  'сами',\n",
       "  'китайцы',\n",
       "  ',',\n",
       "  'является',\n",
       "  'одной',\n",
       "  'из',\n",
       "  'самых',\n",
       "  'удивительных',\n",
       "  'и',\n",
       "  'загадочных',\n",
       "  'стран',\n",
       "  'мира']]"
      ]
     },
     "execution_count": 18,
     "metadata": {},
     "output_type": "execute_result"
    }
   ],
   "source": [
    "n_sen_chunk_2 = n_sentenize(text2)\n",
    "n_sen_chunk_2"
   ]
  },
  {
   "cell_type": "code",
   "execution_count": 19,
   "id": "1038870d",
   "metadata": {},
   "outputs": [
    {
     "data": {
      "text/plain": [
       "[['Топография',\n",
       "  'Китая',\n",
       "  'очень',\n",
       "  'разнообразна',\n",
       "  ',',\n",
       "  'на',\n",
       "  'его',\n",
       "  'территории',\n",
       "  'имеются',\n",
       "  'высокие',\n",
       "  'горы',\n",
       "  ',',\n",
       "  'плато',\n",
       "  ',',\n",
       "  'впадины',\n",
       "  ',',\n",
       "  'пустыни',\n",
       "  'и',\n",
       "  'обширные',\n",
       "  'равнины',\n",
       "  '.']]"
      ]
     },
     "execution_count": 19,
     "metadata": {},
     "output_type": "execute_result"
    }
   ],
   "source": [
    "n_sen_chunk_3 = n_sentenize(text3)\n",
    "n_sen_chunk_3"
   ]
  },
  {
   "cell_type": "code",
   "execution_count": 20,
   "id": "33b5b1b0",
   "metadata": {},
   "outputs": [
    {
     "name": "stdout",
     "output_type": "stream",
     "text": [
      "Шэньчжэнь - PROPN - nsubj\n",
      "— - PUNCT - punct\n",
      "крупный - ADJ - amod\n",
      "китайский - ADJ - amod\n",
      "город - NOUN - ROOT\n",
      ", - PUNCT - punct\n",
      "расположенный - ADJ - acl\n",
      "на - ADP - case\n",
      "юге - NOUN - obl\n",
      "страны - NOUN - nmod\n",
      ", - PUNCT - punct\n",
      "возле - ADP - case\n",
      "границы - NOUN - conj\n",
      "с - ADP - case\n",
      "Гонконгом - PROPN - nmod\n",
      ". - PUNCT - punct\n",
      "Он - PRON - nsubj:pass\n",
      "построен - VERB - ROOT\n",
      "в - ADP - case\n",
      "устье - NOUN - obl\n",
      "Жемчужной - ADJ - amod\n",
      "реки - NOUN - nmod\n",
      ", - PUNCT - punct\n",
      "на - ADP - case\n",
      "побережье - NOUN - conj\n",
      "Южно - ADJ - amod\n",
      "- - ADJ - amod\n",
      "Китайского - ADJ - amod\n",
      "моря - NOUN - nmod\n",
      ". - PUNCT - punct\n",
      "В - ADP - case\n",
      "мире - NOUN - obl\n",
      "Шэньчжэнь - PROPN - obj\n",
      "воспринимают - VERB - ROOT\n",
      "как - SCONJ - case\n",
      "экономическое - ADJ - amod\n",
      "чудо - NOUN - obl\n",
      ". - PUNCT - punct\n",
      "Его - PRON - obj\n",
      "называют - VERB - ROOT\n",
      "« - PUNCT - punct\n",
      "городом - NOUN - xcomp\n",
      "парков - NOUN - nmod\n",
      "и - CCONJ - cc\n",
      "небоскребов - NOUN - conj\n",
      "» - PUNCT - punct\n",
      ", - PUNCT - punct\n",
      "а - CCONJ - cc\n",
      "также - ADV - fixed\n",
      "китайской - ADJ - amod\n",
      "« - PUNCT - punct\n",
      "Силиконовой - ADJ - amod\n",
      "долиной - NOUN - conj\n",
      "» - PUNCT - punct\n",
      ". - PUNCT - punct\n"
     ]
    }
   ],
   "source": [
    "#部分标记  Частеречная разметка  Spacy\n",
    "for token in spacy_text1:\n",
    "    print('{} - {} - {}'.format(token.text, token.pos_, token.dep_))"
   ]
  },
  {
   "cell_type": "code",
   "execution_count": 21,
   "id": "58985a1a",
   "metadata": {},
   "outputs": [],
   "source": [
    "#部分标记  Частеречная разметка  Natasha pip install\n",
    "from navec import Navec\n",
    "from slovnet import Morph"
   ]
  },
  {
   "cell_type": "code",
   "execution_count": 22,
   "id": "0cf12750",
   "metadata": {},
   "outputs": [],
   "source": [
    "# Файл необходимо скачать по ссылке https://github.com/natasha/navec#downloads\n",
    "#尝试将此模型用于新闻文本。 它比“hudlit”小两倍，但涵盖了新闻文章中相同的 98% 的单词。\n",
    "navec = Navec.load('./navec_news_v1_1B_250K_300d_100q.tar')"
   ]
  },
  {
   "cell_type": "code",
   "execution_count": 23,
   "id": "80ebaa39",
   "metadata": {},
   "outputs": [],
   "source": [
    "# Файл необходимо скачать по ссылке https://github.com/natasha/slovnet#downloads\n",
    "#针对新闻文章优化的俄语形态标记器\n",
    "n_morph = Morph.load('./slovnet_morph_news_v1.tar', batch_size=4)"
   ]
  },
  {
   "cell_type": "code",
   "execution_count": 24,
   "id": "a564ba68",
   "metadata": {},
   "outputs": [],
   "source": [
    "morph_res = n_morph.navec(navec)"
   ]
  },
  {
   "cell_type": "code",
   "execution_count": 25,
   "id": "42bca586",
   "metadata": {},
   "outputs": [],
   "source": [
    "def print_pos(markup):\n",
    "    for token in markup.tokens:\n",
    "        print('{} - {}'.format(token.text, token.tag))"
   ]
  },
  {
   "cell_type": "code",
   "execution_count": 26,
   "id": "b71c0529",
   "metadata": {},
   "outputs": [
    {
     "name": "stdout",
     "output_type": "stream",
     "text": [
      "Шэньчжэнь - PROPN|Animacy=Inan|Case=Nom|Gender=Masc|Number=Sing\n",
      "— - PUNCT\n",
      "крупный - ADJ|Case=Nom|Degree=Pos|Gender=Masc|Number=Sing\n",
      "китайский - ADJ|Case=Nom|Degree=Pos|Gender=Masc|Number=Sing\n",
      "город - NOUN|Animacy=Inan|Case=Nom|Gender=Masc|Number=Sing\n",
      ", - PUNCT\n",
      "расположенный - ADJ|Animacy=Inan|Case=Acc|Degree=Pos|Gender=Masc|Number=Sing\n",
      "на - ADP\n",
      "юге - NOUN|Animacy=Inan|Case=Loc|Gender=Masc|Number=Sing\n",
      "страны - NOUN|Animacy=Inan|Case=Gen|Gender=Fem|Number=Sing\n",
      ", - PUNCT\n",
      "возле - ADP\n",
      "границы - NOUN|Animacy=Inan|Case=Gen|Gender=Fem|Number=Sing\n",
      "с - ADP\n",
      "Гонконгом - PROPN|Animacy=Inan|Case=Ins|Gender=Masc|Number=Sing\n",
      ". - PUNCT\n",
      "Он - PRON|Case=Nom|Gender=Masc|Number=Sing|Person=3\n",
      "построен - VERB|Aspect=Perf|Gender=Masc|Number=Sing|Tense=Past|Variant=Short|VerbForm=Part|Voice=Pass\n",
      "в - ADP\n",
      "устье - NOUN|Animacy=Inan|Case=Loc|Gender=Neut|Number=Sing\n",
      "Жемчужной - ADJ|Case=Gen|Degree=Pos|Gender=Fem|Number=Sing\n",
      "реки - NOUN|Animacy=Inan|Case=Gen|Gender=Fem|Number=Sing\n",
      ", - PUNCT\n",
      "на - ADP\n",
      "побережье - NOUN|Animacy=Inan|Case=Loc|Gender=Neut|Number=Sing\n",
      "Южно-Китайского - ADJ|Case=Gen|Degree=Pos|Gender=Neut|Number=Sing\n",
      "моря - NOUN|Animacy=Inan|Case=Gen|Gender=Neut|Number=Sing\n",
      ". - PUNCT\n",
      "В - ADP\n",
      "мире - NOUN|Animacy=Inan|Case=Loc|Gender=Masc|Number=Sing\n",
      "Шэньчжэнь - PROPN|Animacy=Inan|Case=Nom|Gender=Masc|Number=Sing\n",
      "воспринимают - VERB|Aspect=Imp|Mood=Ind|Number=Plur|Person=3|Tense=Pres|VerbForm=Fin|Voice=Act\n",
      "как - SCONJ\n",
      "экономическое - ADJ|Animacy=Inan|Case=Acc|Degree=Pos|Gender=Neut|Number=Sing\n",
      "чудо - NOUN|Animacy=Inan|Case=Acc|Gender=Neut|Number=Sing\n",
      ". - PUNCT\n",
      "Его - PRON|Case=Acc|Gender=Masc|Number=Sing|Person=3\n",
      "называют - VERB|Aspect=Imp|Mood=Ind|Number=Plur|Person=3|Tense=Pres|VerbForm=Fin|Voice=Act\n",
      "« - PUNCT\n",
      "городом - NOUN|Animacy=Inan|Case=Ins|Gender=Masc|Number=Sing\n",
      "парков - NOUN|Animacy=Inan|Case=Gen|Gender=Masc|Number=Plur\n",
      "и - CCONJ\n",
      "небоскребов - NOUN|Animacy=Inan|Case=Gen|Gender=Masc|Number=Plur\n",
      "» - PUNCT\n",
      ", - PUNCT\n",
      "а - CCONJ\n",
      "также - ADV|Degree=Pos\n",
      "китайской - ADJ|Case=Ins|Degree=Pos|Gender=Fem|Number=Sing\n",
      "« - PUNCT\n",
      "Силиконовой - ADJ|Case=Gen|Degree=Pos|Gender=Fem|Number=Sing\n",
      "долиной - NOUN|Animacy=Inan|Case=Ins|Gender=Fem|Number=Sing\n",
      "» - PUNCT\n",
      ". - PUNCT\n"
     ]
    },
    {
     "data": {
      "text/plain": [
       "[None, None, None, None]"
      ]
     },
     "execution_count": 26,
     "metadata": {},
     "output_type": "execute_result"
    }
   ],
   "source": [
    "n_text1_markup = list(_ for _ in n_morph.map(n_sen_chunk_1))\n",
    "[print_pos(x) for x in n_text1_markup]"
   ]
  },
  {
   "cell_type": "code",
   "execution_count": 27,
   "id": "27b860cc",
   "metadata": {},
   "outputs": [
    {
     "name": "stdout",
     "output_type": "stream",
     "text": [
      "Китай - PROPN|Animacy=Inan|Case=Nom|Gender=Masc|Number=Sing\n",
      "или - CCONJ\n",
      "Чжун - PROPN|Animacy=Anim|Case=Nom|Gender=Masc|Number=Sing\n",
      "Го - PROPN|Animacy=Anim|Case=Acc|Gender=Masc|Number=Sing\n",
      ", - PUNCT\n",
      "как - SCONJ\n",
      "его - PRON|Case=Acc|Gender=Masc|Number=Sing|Person=3\n",
      "называют - VERB|Aspect=Imp|Mood=Ind|Number=Plur|Person=3|Tense=Pres|VerbForm=Fin|Voice=Act\n",
      "сами - ADJ|Case=Nom|Degree=Pos|Number=Plur\n",
      "китайцы - NOUN|Animacy=Anim|Case=Nom|Gender=Masc|Number=Plur\n",
      ", - PUNCT\n",
      "является - VERB|Aspect=Imp|Mood=Ind|Number=Sing|Person=3|Tense=Pres|VerbForm=Fin|Voice=Mid\n",
      "одной - NUM|Case=Ins|Gender=Fem|Number=Sing\n",
      "из - ADP\n",
      "самых - ADJ|Case=Gen|Degree=Pos|Number=Plur\n",
      "удивительных - ADJ|Case=Gen|Degree=Pos|Number=Plur\n",
      "и - CCONJ\n",
      "загадочных - ADJ|Case=Gen|Degree=Pos|Number=Plur\n",
      "стран - NOUN|Animacy=Inan|Case=Gen|Gender=Fem|Number=Plur\n",
      "мира - NOUN|Animacy=Inan|Case=Gen|Gender=Masc|Number=Sing\n"
     ]
    },
    {
     "data": {
      "text/plain": [
       "[None]"
      ]
     },
     "execution_count": 27,
     "metadata": {},
     "output_type": "execute_result"
    }
   ],
   "source": [
    "n_text2_markup = list(n_morph.map(n_sen_chunk_2))\n",
    "[print_pos(x) for x in n_text2_markup]"
   ]
  },
  {
   "cell_type": "code",
   "execution_count": 28,
   "id": "562ba69b",
   "metadata": {},
   "outputs": [
    {
     "name": "stdout",
     "output_type": "stream",
     "text": [
      "Топография - NOUN|Animacy=Inan|Case=Nom|Gender=Fem|Number=Sing\n",
      "Китая - PROPN|Animacy=Inan|Case=Gen|Gender=Masc|Number=Sing\n",
      "очень - ADV|Degree=Pos\n",
      "разнообразна - ADJ|Degree=Pos|Gender=Fem|Number=Sing|Variant=Short\n",
      ", - PUNCT\n",
      "на - ADP\n",
      "его - DET\n",
      "территории - NOUN|Animacy=Inan|Case=Loc|Gender=Fem|Number=Sing\n",
      "имеются - VERB|Aspect=Imp|Mood=Ind|Number=Plur|Person=3|Tense=Pres|VerbForm=Fin|Voice=Mid\n",
      "высокие - ADJ|Case=Nom|Degree=Pos|Number=Plur\n",
      "горы - NOUN|Animacy=Inan|Case=Nom|Gender=Fem|Number=Plur\n",
      ", - PUNCT\n",
      "плато - NOUN|Animacy=Inan|Case=Nom|Gender=Neut|Number=Sing\n",
      ", - PUNCT\n",
      "впадины - NOUN|Animacy=Inan|Case=Gen|Gender=Fem|Number=Sing\n",
      ", - PUNCT\n",
      "пустыни - NOUN|Animacy=Inan|Case=Nom|Gender=Fem|Number=Plur\n",
      "и - CCONJ\n",
      "обширные - ADJ|Case=Nom|Degree=Pos|Number=Plur\n",
      "равнины - NOUN|Animacy=Inan|Case=Acc|Gender=Fem|Number=Plur\n",
      ". - PUNCT\n"
     ]
    },
    {
     "data": {
      "text/plain": [
       "[None]"
      ]
     },
     "execution_count": 28,
     "metadata": {},
     "output_type": "execute_result"
    }
   ],
   "source": [
    "n_text3_markup = list(n_morph.map(n_sen_chunk_3))\n",
    "[print_pos(x) for x in n_text3_markup]"
   ]
  },
  {
   "cell_type": "code",
   "execution_count": 29,
   "id": "452bb5a3",
   "metadata": {},
   "outputs": [
    {
     "name": "stdout",
     "output_type": "stream",
     "text": [
      "Шэньчжэнь 7185727914262277272 шэньчжэнь\n",
      "— 13657828488461764581 —\n",
      "крупный 8753118944057884320 крупный\n",
      "китайский 17143932885149659824 китайский\n",
      "город 6063391427805833384 город\n",
      ", 2593208677638477497 ,\n",
      "расположенный 11348170133137897564 расположенный\n",
      "на 16191904166009283104 на\n",
      "юге 5472666064066444577 юг\n",
      "страны 16360468073211545296 страна\n",
      ", 2593208677638477497 ,\n",
      "возле 14512160503988266662 возле\n",
      "границы 15595961654697241156 граница\n",
      "с 5863529159893111856 с\n",
      "Гонконгом 669429918178398540 гонконг\n",
      ". 12646065887601541794 .\n",
      "Он 7004339974413567607 он\n",
      "построен 4369257707187989914 построить\n",
      "в 15939375860797385675 в\n",
      "устье 17149409378721191859 устье\n",
      "Жемчужной 1633469237953584080 жемчужный\n",
      "реки 2877229459635558614 река\n",
      ", 2593208677638477497 ,\n",
      "на 16191904166009283104 на\n",
      "побережье 6486368253002029509 побережье\n",
      "Южно 7036795413400176135 южный\n",
      "- 9153284864653046197 -\n",
      "Китайского 17143932885149659824 китайский\n",
      "моря 9548742372896973111 море\n",
      ". 12646065887601541794 .\n",
      "В 15939375860797385675 в\n",
      "мире 3830696184003690382 мир\n",
      "Шэньчжэнь 7185727914262277272 шэньчжэнь\n",
      "воспринимают 12354405791645288502 воспринимать\n",
      "как 13039644133688645009 как\n",
      "экономическое 3234076322849381152 экономический\n",
      "чудо 11580237937156347669 чудо\n",
      ". 12646065887601541794 .\n",
      "Его 6166162853077514292 его\n",
      "называют 11386615351854264840 называть\n",
      "« 15884554869126768810 \"\n",
      "городом 6063391427805833384 город\n",
      "парков 692657576553750008 парк\n",
      "и 15015917632809974589 и\n",
      "небоскребов 8004092246376594234 небоскрёб\n",
      "» 15884554869126768810 \"\n",
      ", 2593208677638477497 ,\n",
      "а 17720396644590851627 а\n",
      "также 11546836710665881258 также\n",
      "китайской 17143932885149659824 китайский\n",
      "« 15884554869126768810 \"\n",
      "Силиконовой 14116301186638013780 силиконовый\n",
      "долиной 4490348030667012269 долина\n",
      "» 15884554869126768810 \"\n",
      ". 12646065887601541794 .\n"
     ]
    }
   ],
   "source": [
    "#Лемматизация 词形还原\n",
    "for token in spacy_text1:\n",
    "      print(token, token.lemma, token.lemma_)"
   ]
  },
  {
   "cell_type": "code",
   "execution_count": 30,
   "id": "aac6b1c8",
   "metadata": {},
   "outputs": [],
   "source": [
    "from natasha import Doc, Segmenter, NewsEmbedding, NewsMorphTagger, MorphVocab"
   ]
  },
  {
   "cell_type": "code",
   "execution_count": 31,
   "id": "776dcff1",
   "metadata": {},
   "outputs": [],
   "source": [
    "def n_lemmatize(text):\n",
    "    emb = NewsEmbedding()\n",
    "    morph_tagger = NewsMorphTagger(emb)\n",
    "    segmenter = Segmenter()\n",
    "    morph_vocab = MorphVocab()\n",
    "    doc = Doc(text)\n",
    "    doc.segment(segmenter)\n",
    "    doc.tag_morph(morph_tagger)\n",
    "    for token in doc.tokens:\n",
    "        token.lemmatize(morph_vocab)\n",
    "    return doc"
   ]
  },
  {
   "cell_type": "code",
   "execution_count": 32,
   "id": "002095f5",
   "metadata": {},
   "outputs": [
    {
     "data": {
      "text/plain": [
       "{'Шэньчжэнь': 'шэньчжэнь',\n",
       " '—': '—',\n",
       " 'крупный': 'крупный',\n",
       " 'китайский': 'китайский',\n",
       " 'город': 'город',\n",
       " ',': ',',\n",
       " 'расположенный': 'расположить',\n",
       " 'на': 'на',\n",
       " 'юге': 'юг',\n",
       " 'страны': 'страна',\n",
       " 'возле': 'возле',\n",
       " 'границы': 'граница',\n",
       " 'с': 'с',\n",
       " 'Гонконгом': 'гонконг',\n",
       " '.': '.',\n",
       " 'Он': 'он',\n",
       " 'построен': 'построить',\n",
       " 'в': 'в',\n",
       " 'устье': 'устье',\n",
       " 'Жемчужной': 'жемчужный',\n",
       " 'реки': 'река',\n",
       " 'побережье': 'побережье',\n",
       " 'Южно-Китайского': 'южно-китайский',\n",
       " 'моря': 'море',\n",
       " 'В': 'в',\n",
       " 'мире': 'мир',\n",
       " 'воспринимают': 'воспринимать',\n",
       " 'как': 'как',\n",
       " 'экономическое': 'экономический',\n",
       " 'чудо': 'чудо',\n",
       " 'Его': 'он',\n",
       " 'называют': 'называть',\n",
       " '«': '«',\n",
       " 'городом': 'город',\n",
       " 'парков': 'парк',\n",
       " 'и': 'и',\n",
       " 'небоскребов': 'небоскреб',\n",
       " '»': '»',\n",
       " 'а': 'а',\n",
       " 'также': 'также',\n",
       " 'китайской': 'китайский',\n",
       " 'Силиконовой': 'силиконовый',\n",
       " 'долиной': 'долина'}"
      ]
     },
     "execution_count": 32,
     "metadata": {},
     "output_type": "execute_result"
    }
   ],
   "source": [
    "n_doc1 = n_lemmatize(text1)\n",
    "{_.text: _.lemma for _ in n_doc1.tokens}"
   ]
  },
  {
   "cell_type": "code",
   "execution_count": 33,
   "id": "3e1f5eb1",
   "metadata": {},
   "outputs": [
    {
     "data": {
      "text/plain": [
       "{'Китай': 'китай',\n",
       " 'или': 'или',\n",
       " 'Чжун': 'чжун',\n",
       " 'Го': 'го',\n",
       " ',': ',',\n",
       " 'как': 'как',\n",
       " 'его': 'он',\n",
       " 'называют': 'называть',\n",
       " 'сами': 'сам',\n",
       " 'китайцы': 'китаец',\n",
       " 'является': 'являться',\n",
       " 'одной': 'один',\n",
       " 'из': 'из',\n",
       " 'самых': 'самый',\n",
       " 'удивительных': 'удивительный',\n",
       " 'и': 'и',\n",
       " 'загадочных': 'загадочный',\n",
       " 'стран': 'страна',\n",
       " 'мира': 'мир'}"
      ]
     },
     "execution_count": 33,
     "metadata": {},
     "output_type": "execute_result"
    }
   ],
   "source": [
    "n_doc2 = n_lemmatize(text2)\n",
    "{_.text: _.lemma for _ in n_doc2.tokens}"
   ]
  },
  {
   "cell_type": "code",
   "execution_count": 34,
   "id": "3e0b957d",
   "metadata": {},
   "outputs": [
    {
     "data": {
      "text/plain": [
       "{'Топография': 'топография',\n",
       " 'Китая': 'китай',\n",
       " 'очень': 'очень',\n",
       " 'разнообразна': 'разнообразный',\n",
       " ',': ',',\n",
       " 'на': 'на',\n",
       " 'его': 'его',\n",
       " 'территории': 'территория',\n",
       " 'имеются': 'иметься',\n",
       " 'высокие': 'высокий',\n",
       " 'горы': 'гора',\n",
       " 'плато': 'плато',\n",
       " 'впадины': 'впадина',\n",
       " 'пустыни': 'пустынь',\n",
       " 'и': 'и',\n",
       " 'обширные': 'обширный',\n",
       " 'равнины': 'равнина',\n",
       " '.': '.'}"
      ]
     },
     "execution_count": 34,
     "metadata": {},
     "output_type": "execute_result"
    }
   ],
   "source": [
    "n_doc3 = n_lemmatize(text3)\n",
    "{_.text: _.lemma for _ in n_doc3.tokens}"
   ]
  },
  {
   "cell_type": "code",
   "execution_count": 35,
   "id": "64b14269",
   "metadata": {},
   "outputs": [
    {
     "name": "stdout",
     "output_type": "stream",
     "text": [
      "Китая LOC\n",
      "впадины LOC\n"
     ]
    }
   ],
   "source": [
    "#Выделение  选择  #Spacy\n",
    "for ent in spacy_text3.ents:\n",
    "    print(ent.text, ent.label_)"
   ]
  },
  {
   "cell_type": "code",
   "execution_count": 36,
   "id": "2dc6f8e4",
   "metadata": {},
   "outputs": [
    {
     "data": {
      "text/html": [
       "<span class=\"tex2jax_ignore\"><div class=\"entities\" style=\"line-height: 2.5; direction: ltr\">Топография \n",
       "<mark class=\"entity\" style=\"background: #ff9561; padding: 0.45em 0.6em; margin: 0 0.25em; line-height: 1; border-radius: 0.35em;\">\n",
       "    Китая\n",
       "    <span style=\"font-size: 0.8em; font-weight: bold; line-height: 1; border-radius: 0.35em; vertical-align: middle; margin-left: 0.5rem\">LOC</span>\n",
       "</mark>\n",
       " очень разнообразна, на его территории имеются высокие горы, плато, \n",
       "<mark class=\"entity\" style=\"background: #ff9561; padding: 0.45em 0.6em; margin: 0 0.25em; line-height: 1; border-radius: 0.35em;\">\n",
       "    впадины\n",
       "    <span style=\"font-size: 0.8em; font-weight: bold; line-height: 1; border-radius: 0.35em; vertical-align: middle; margin-left: 0.5rem\">LOC</span>\n",
       "</mark>\n",
       ", пустыни и обширные равнины.</div></span>"
      ],
      "text/plain": [
       "<IPython.core.display.HTML object>"
      ]
     },
     "metadata": {},
     "output_type": "display_data"
    }
   ],
   "source": [
    "from spacy import displacy\n",
    "displacy.render(spacy_text3, style='ent', jupyter=True)"
   ]
  },
  {
   "cell_type": "code",
   "execution_count": 37,
   "id": "25fd18e4",
   "metadata": {},
   "outputs": [
    {
     "name": "stdout",
     "output_type": "stream",
     "text": [
      "Non-GPE locations, mountain ranges, bodies of water\n"
     ]
    }
   ],
   "source": [
    "print(spacy.explain(\"LOC\"))"
   ]
  },
  {
   "cell_type": "code",
   "execution_count": 38,
   "id": "6630a0b3",
   "metadata": {},
   "outputs": [
    {
     "name": "stdout",
     "output_type": "stream",
     "text": [
      "Named person or family.\n"
     ]
    }
   ],
   "source": [
    "print(spacy.explain(\"PER\"))"
   ]
  },
  {
   "cell_type": "code",
   "execution_count": 39,
   "id": "5c6b52b7",
   "metadata": {},
   "outputs": [],
   "source": [
    "from slovnet import NER\n",
    "from ipymarkup import show_span_ascii_markup as show_markup"
   ]
  },
  {
   "cell_type": "code",
   "execution_count": 40,
   "id": "7d7a23b9",
   "metadata": {},
   "outputs": [],
   "source": [
    "#俄语 NER、标准 PER、LOC、ORG 注释，受过新闻文章培训\n",
    "ner = NER.load('./slovnet_ner_news_v1.tar')"
   ]
  },
  {
   "cell_type": "code",
   "execution_count": 41,
   "id": "af9e461d",
   "metadata": {},
   "outputs": [],
   "source": [
    "ner_res = ner.navec(navec)"
   ]
  },
  {
   "cell_type": "code",
   "execution_count": 42,
   "id": "6ade5a61",
   "metadata": {},
   "outputs": [],
   "source": [
    "markup_ner3 = ner(text3)"
   ]
  },
  {
   "cell_type": "code",
   "execution_count": 43,
   "id": "842e5f41",
   "metadata": {},
   "outputs": [
    {
     "data": {
      "text/plain": [
       "SpanMarkup(\n",
       "    text='Топография Китая очень разнообразна, на его территории имеются высокие горы, плато, впадины, пустыни и обширные равнины.',\n",
       "    spans=[Span(\n",
       "         start=0,\n",
       "         stop=10,\n",
       "         type='ORG'\n",
       "     ),\n",
       "     Span(\n",
       "         start=11,\n",
       "         stop=16,\n",
       "         type='LOC'\n",
       "     )]\n",
       ")"
      ]
     },
     "execution_count": 43,
     "metadata": {},
     "output_type": "execute_result"
    }
   ],
   "source": [
    "markup_ner3"
   ]
  },
  {
   "cell_type": "code",
   "execution_count": 44,
   "id": "e47e56c2",
   "metadata": {},
   "outputs": [
    {
     "name": "stdout",
     "output_type": "stream",
     "text": [
      "Топография Китая очень разнообразна, на его территории имеются высокие\n",
      "ORG─────── LOC──                                                      \n",
      " горы, плато, впадины, пустыни и обширные равнины.\n"
     ]
    }
   ],
   "source": [
    "show_markup(markup_ner3.text, markup_ner3.spans)"
   ]
  },
  {
   "cell_type": "code",
   "execution_count": 45,
   "id": "d40ae0ce",
   "metadata": {},
   "outputs": [
    {
     "data": {
      "text/html": [
       "<span class=\"tex2jax_ignore\"><svg xmlns=\"http://www.w3.org/2000/svg\" xmlns:xlink=\"http://www.w3.org/1999/xlink\" xml:lang=\"ru\" id=\"be041dc7084c468b87ec1eddb841d0cd-0\" class=\"displacy\" width=\"7225\" height=\"662.0\" direction=\"ltr\" style=\"max-width: none; height: 662.0px; color: #000000; background: #ffffff; font-family: Arial; direction: ltr\">\n",
       "<text class=\"displacy-token\" fill=\"currentColor\" text-anchor=\"middle\" y=\"572.0\">\n",
       "    <tspan class=\"displacy-word\" fill=\"currentColor\" x=\"50\">Шэньчжэнь —</tspan>\n",
       "    <tspan class=\"displacy-tag\" dy=\"2em\" fill=\"currentColor\" x=\"50\">PROPN</tspan>\n",
       "</text>\n",
       "\n",
       "<text class=\"displacy-token\" fill=\"currentColor\" text-anchor=\"middle\" y=\"572.0\">\n",
       "    <tspan class=\"displacy-word\" fill=\"currentColor\" x=\"225\">крупный</tspan>\n",
       "    <tspan class=\"displacy-tag\" dy=\"2em\" fill=\"currentColor\" x=\"225\">ADJ</tspan>\n",
       "</text>\n",
       "\n",
       "<text class=\"displacy-token\" fill=\"currentColor\" text-anchor=\"middle\" y=\"572.0\">\n",
       "    <tspan class=\"displacy-word\" fill=\"currentColor\" x=\"400\">китайский</tspan>\n",
       "    <tspan class=\"displacy-tag\" dy=\"2em\" fill=\"currentColor\" x=\"400\">ADJ</tspan>\n",
       "</text>\n",
       "\n",
       "<text class=\"displacy-token\" fill=\"currentColor\" text-anchor=\"middle\" y=\"572.0\">\n",
       "    <tspan class=\"displacy-word\" fill=\"currentColor\" x=\"575\">город,</tspan>\n",
       "    <tspan class=\"displacy-tag\" dy=\"2em\" fill=\"currentColor\" x=\"575\">NOUN</tspan>\n",
       "</text>\n",
       "\n",
       "<text class=\"displacy-token\" fill=\"currentColor\" text-anchor=\"middle\" y=\"572.0\">\n",
       "    <tspan class=\"displacy-word\" fill=\"currentColor\" x=\"750\">расположенный</tspan>\n",
       "    <tspan class=\"displacy-tag\" dy=\"2em\" fill=\"currentColor\" x=\"750\">ADJ</tspan>\n",
       "</text>\n",
       "\n",
       "<text class=\"displacy-token\" fill=\"currentColor\" text-anchor=\"middle\" y=\"572.0\">\n",
       "    <tspan class=\"displacy-word\" fill=\"currentColor\" x=\"925\">на</tspan>\n",
       "    <tspan class=\"displacy-tag\" dy=\"2em\" fill=\"currentColor\" x=\"925\">ADP</tspan>\n",
       "</text>\n",
       "\n",
       "<text class=\"displacy-token\" fill=\"currentColor\" text-anchor=\"middle\" y=\"572.0\">\n",
       "    <tspan class=\"displacy-word\" fill=\"currentColor\" x=\"1100\">юге</tspan>\n",
       "    <tspan class=\"displacy-tag\" dy=\"2em\" fill=\"currentColor\" x=\"1100\">NOUN</tspan>\n",
       "</text>\n",
       "\n",
       "<text class=\"displacy-token\" fill=\"currentColor\" text-anchor=\"middle\" y=\"572.0\">\n",
       "    <tspan class=\"displacy-word\" fill=\"currentColor\" x=\"1275\">страны,</tspan>\n",
       "    <tspan class=\"displacy-tag\" dy=\"2em\" fill=\"currentColor\" x=\"1275\">NOUN</tspan>\n",
       "</text>\n",
       "\n",
       "<text class=\"displacy-token\" fill=\"currentColor\" text-anchor=\"middle\" y=\"572.0\">\n",
       "    <tspan class=\"displacy-word\" fill=\"currentColor\" x=\"1450\">возле</tspan>\n",
       "    <tspan class=\"displacy-tag\" dy=\"2em\" fill=\"currentColor\" x=\"1450\">ADP</tspan>\n",
       "</text>\n",
       "\n",
       "<text class=\"displacy-token\" fill=\"currentColor\" text-anchor=\"middle\" y=\"572.0\">\n",
       "    <tspan class=\"displacy-word\" fill=\"currentColor\" x=\"1625\">границы</tspan>\n",
       "    <tspan class=\"displacy-tag\" dy=\"2em\" fill=\"currentColor\" x=\"1625\">NOUN</tspan>\n",
       "</text>\n",
       "\n",
       "<text class=\"displacy-token\" fill=\"currentColor\" text-anchor=\"middle\" y=\"572.0\">\n",
       "    <tspan class=\"displacy-word\" fill=\"currentColor\" x=\"1800\">с</tspan>\n",
       "    <tspan class=\"displacy-tag\" dy=\"2em\" fill=\"currentColor\" x=\"1800\">ADP</tspan>\n",
       "</text>\n",
       "\n",
       "<text class=\"displacy-token\" fill=\"currentColor\" text-anchor=\"middle\" y=\"572.0\">\n",
       "    <tspan class=\"displacy-word\" fill=\"currentColor\" x=\"1975\">Гонконгом.</tspan>\n",
       "    <tspan class=\"displacy-tag\" dy=\"2em\" fill=\"currentColor\" x=\"1975\">PROPN</tspan>\n",
       "</text>\n",
       "\n",
       "<text class=\"displacy-token\" fill=\"currentColor\" text-anchor=\"middle\" y=\"572.0\">\n",
       "    <tspan class=\"displacy-word\" fill=\"currentColor\" x=\"2150\">Он</tspan>\n",
       "    <tspan class=\"displacy-tag\" dy=\"2em\" fill=\"currentColor\" x=\"2150\">PRON</tspan>\n",
       "</text>\n",
       "\n",
       "<text class=\"displacy-token\" fill=\"currentColor\" text-anchor=\"middle\" y=\"572.0\">\n",
       "    <tspan class=\"displacy-word\" fill=\"currentColor\" x=\"2325\">построен</tspan>\n",
       "    <tspan class=\"displacy-tag\" dy=\"2em\" fill=\"currentColor\" x=\"2325\">VERB</tspan>\n",
       "</text>\n",
       "\n",
       "<text class=\"displacy-token\" fill=\"currentColor\" text-anchor=\"middle\" y=\"572.0\">\n",
       "    <tspan class=\"displacy-word\" fill=\"currentColor\" x=\"2500\">в</tspan>\n",
       "    <tspan class=\"displacy-tag\" dy=\"2em\" fill=\"currentColor\" x=\"2500\">ADP</tspan>\n",
       "</text>\n",
       "\n",
       "<text class=\"displacy-token\" fill=\"currentColor\" text-anchor=\"middle\" y=\"572.0\">\n",
       "    <tspan class=\"displacy-word\" fill=\"currentColor\" x=\"2675\">устье</tspan>\n",
       "    <tspan class=\"displacy-tag\" dy=\"2em\" fill=\"currentColor\" x=\"2675\">NOUN</tspan>\n",
       "</text>\n",
       "\n",
       "<text class=\"displacy-token\" fill=\"currentColor\" text-anchor=\"middle\" y=\"572.0\">\n",
       "    <tspan class=\"displacy-word\" fill=\"currentColor\" x=\"2850\">Жемчужной</tspan>\n",
       "    <tspan class=\"displacy-tag\" dy=\"2em\" fill=\"currentColor\" x=\"2850\">ADJ</tspan>\n",
       "</text>\n",
       "\n",
       "<text class=\"displacy-token\" fill=\"currentColor\" text-anchor=\"middle\" y=\"572.0\">\n",
       "    <tspan class=\"displacy-word\" fill=\"currentColor\" x=\"3025\">реки,</tspan>\n",
       "    <tspan class=\"displacy-tag\" dy=\"2em\" fill=\"currentColor\" x=\"3025\">NOUN</tspan>\n",
       "</text>\n",
       "\n",
       "<text class=\"displacy-token\" fill=\"currentColor\" text-anchor=\"middle\" y=\"572.0\">\n",
       "    <tspan class=\"displacy-word\" fill=\"currentColor\" x=\"3200\">на</tspan>\n",
       "    <tspan class=\"displacy-tag\" dy=\"2em\" fill=\"currentColor\" x=\"3200\">ADP</tspan>\n",
       "</text>\n",
       "\n",
       "<text class=\"displacy-token\" fill=\"currentColor\" text-anchor=\"middle\" y=\"572.0\">\n",
       "    <tspan class=\"displacy-word\" fill=\"currentColor\" x=\"3375\">побережье</tspan>\n",
       "    <tspan class=\"displacy-tag\" dy=\"2em\" fill=\"currentColor\" x=\"3375\">NOUN</tspan>\n",
       "</text>\n",
       "\n",
       "<text class=\"displacy-token\" fill=\"currentColor\" text-anchor=\"middle\" y=\"572.0\">\n",
       "    <tspan class=\"displacy-word\" fill=\"currentColor\" x=\"3550\">Южно-</tspan>\n",
       "    <tspan class=\"displacy-tag\" dy=\"2em\" fill=\"currentColor\" x=\"3550\">ADJ</tspan>\n",
       "</text>\n",
       "\n",
       "<text class=\"displacy-token\" fill=\"currentColor\" text-anchor=\"middle\" y=\"572.0\">\n",
       "    <tspan class=\"displacy-word\" fill=\"currentColor\" x=\"3725\">Китайского</tspan>\n",
       "    <tspan class=\"displacy-tag\" dy=\"2em\" fill=\"currentColor\" x=\"3725\">ADJ</tspan>\n",
       "</text>\n",
       "\n",
       "<text class=\"displacy-token\" fill=\"currentColor\" text-anchor=\"middle\" y=\"572.0\">\n",
       "    <tspan class=\"displacy-word\" fill=\"currentColor\" x=\"3900\">моря.</tspan>\n",
       "    <tspan class=\"displacy-tag\" dy=\"2em\" fill=\"currentColor\" x=\"3900\">NOUN</tspan>\n",
       "</text>\n",
       "\n",
       "<text class=\"displacy-token\" fill=\"currentColor\" text-anchor=\"middle\" y=\"572.0\">\n",
       "    <tspan class=\"displacy-word\" fill=\"currentColor\" x=\"4075\">В</tspan>\n",
       "    <tspan class=\"displacy-tag\" dy=\"2em\" fill=\"currentColor\" x=\"4075\">ADP</tspan>\n",
       "</text>\n",
       "\n",
       "<text class=\"displacy-token\" fill=\"currentColor\" text-anchor=\"middle\" y=\"572.0\">\n",
       "    <tspan class=\"displacy-word\" fill=\"currentColor\" x=\"4250\">мире</tspan>\n",
       "    <tspan class=\"displacy-tag\" dy=\"2em\" fill=\"currentColor\" x=\"4250\">NOUN</tspan>\n",
       "</text>\n",
       "\n",
       "<text class=\"displacy-token\" fill=\"currentColor\" text-anchor=\"middle\" y=\"572.0\">\n",
       "    <tspan class=\"displacy-word\" fill=\"currentColor\" x=\"4425\">Шэньчжэнь</tspan>\n",
       "    <tspan class=\"displacy-tag\" dy=\"2em\" fill=\"currentColor\" x=\"4425\">PROPN</tspan>\n",
       "</text>\n",
       "\n",
       "<text class=\"displacy-token\" fill=\"currentColor\" text-anchor=\"middle\" y=\"572.0\">\n",
       "    <tspan class=\"displacy-word\" fill=\"currentColor\" x=\"4600\">воспринимают</tspan>\n",
       "    <tspan class=\"displacy-tag\" dy=\"2em\" fill=\"currentColor\" x=\"4600\">VERB</tspan>\n",
       "</text>\n",
       "\n",
       "<text class=\"displacy-token\" fill=\"currentColor\" text-anchor=\"middle\" y=\"572.0\">\n",
       "    <tspan class=\"displacy-word\" fill=\"currentColor\" x=\"4775\">как</tspan>\n",
       "    <tspan class=\"displacy-tag\" dy=\"2em\" fill=\"currentColor\" x=\"4775\">SCONJ</tspan>\n",
       "</text>\n",
       "\n",
       "<text class=\"displacy-token\" fill=\"currentColor\" text-anchor=\"middle\" y=\"572.0\">\n",
       "    <tspan class=\"displacy-word\" fill=\"currentColor\" x=\"4950\">экономическое</tspan>\n",
       "    <tspan class=\"displacy-tag\" dy=\"2em\" fill=\"currentColor\" x=\"4950\">ADJ</tspan>\n",
       "</text>\n",
       "\n",
       "<text class=\"displacy-token\" fill=\"currentColor\" text-anchor=\"middle\" y=\"572.0\">\n",
       "    <tspan class=\"displacy-word\" fill=\"currentColor\" x=\"5125\">чудо.</tspan>\n",
       "    <tspan class=\"displacy-tag\" dy=\"2em\" fill=\"currentColor\" x=\"5125\">NOUN</tspan>\n",
       "</text>\n",
       "\n",
       "<text class=\"displacy-token\" fill=\"currentColor\" text-anchor=\"middle\" y=\"572.0\">\n",
       "    <tspan class=\"displacy-word\" fill=\"currentColor\" x=\"5300\">Его</tspan>\n",
       "    <tspan class=\"displacy-tag\" dy=\"2em\" fill=\"currentColor\" x=\"5300\">PRON</tspan>\n",
       "</text>\n",
       "\n",
       "<text class=\"displacy-token\" fill=\"currentColor\" text-anchor=\"middle\" y=\"572.0\">\n",
       "    <tspan class=\"displacy-word\" fill=\"currentColor\" x=\"5475\">называют «</tspan>\n",
       "    <tspan class=\"displacy-tag\" dy=\"2em\" fill=\"currentColor\" x=\"5475\">VERB</tspan>\n",
       "</text>\n",
       "\n",
       "<text class=\"displacy-token\" fill=\"currentColor\" text-anchor=\"middle\" y=\"572.0\">\n",
       "    <tspan class=\"displacy-word\" fill=\"currentColor\" x=\"5650\">городом</tspan>\n",
       "    <tspan class=\"displacy-tag\" dy=\"2em\" fill=\"currentColor\" x=\"5650\">NOUN</tspan>\n",
       "</text>\n",
       "\n",
       "<text class=\"displacy-token\" fill=\"currentColor\" text-anchor=\"middle\" y=\"572.0\">\n",
       "    <tspan class=\"displacy-word\" fill=\"currentColor\" x=\"5825\">парков</tspan>\n",
       "    <tspan class=\"displacy-tag\" dy=\"2em\" fill=\"currentColor\" x=\"5825\">NOUN</tspan>\n",
       "</text>\n",
       "\n",
       "<text class=\"displacy-token\" fill=\"currentColor\" text-anchor=\"middle\" y=\"572.0\">\n",
       "    <tspan class=\"displacy-word\" fill=\"currentColor\" x=\"6000\">и</tspan>\n",
       "    <tspan class=\"displacy-tag\" dy=\"2em\" fill=\"currentColor\" x=\"6000\">CCONJ</tspan>\n",
       "</text>\n",
       "\n",
       "<text class=\"displacy-token\" fill=\"currentColor\" text-anchor=\"middle\" y=\"572.0\">\n",
       "    <tspan class=\"displacy-word\" fill=\"currentColor\" x=\"6175\">небоскребов»,</tspan>\n",
       "    <tspan class=\"displacy-tag\" dy=\"2em\" fill=\"currentColor\" x=\"6175\">NOUN</tspan>\n",
       "</text>\n",
       "\n",
       "<text class=\"displacy-token\" fill=\"currentColor\" text-anchor=\"middle\" y=\"572.0\">\n",
       "    <tspan class=\"displacy-word\" fill=\"currentColor\" x=\"6350\">а</tspan>\n",
       "    <tspan class=\"displacy-tag\" dy=\"2em\" fill=\"currentColor\" x=\"6350\">CCONJ</tspan>\n",
       "</text>\n",
       "\n",
       "<text class=\"displacy-token\" fill=\"currentColor\" text-anchor=\"middle\" y=\"572.0\">\n",
       "    <tspan class=\"displacy-word\" fill=\"currentColor\" x=\"6525\">также</tspan>\n",
       "    <tspan class=\"displacy-tag\" dy=\"2em\" fill=\"currentColor\" x=\"6525\">ADV</tspan>\n",
       "</text>\n",
       "\n",
       "<text class=\"displacy-token\" fill=\"currentColor\" text-anchor=\"middle\" y=\"572.0\">\n",
       "    <tspan class=\"displacy-word\" fill=\"currentColor\" x=\"6700\">китайской «</tspan>\n",
       "    <tspan class=\"displacy-tag\" dy=\"2em\" fill=\"currentColor\" x=\"6700\">ADJ</tspan>\n",
       "</text>\n",
       "\n",
       "<text class=\"displacy-token\" fill=\"currentColor\" text-anchor=\"middle\" y=\"572.0\">\n",
       "    <tspan class=\"displacy-word\" fill=\"currentColor\" x=\"6875\">Силиконовой</tspan>\n",
       "    <tspan class=\"displacy-tag\" dy=\"2em\" fill=\"currentColor\" x=\"6875\">ADJ</tspan>\n",
       "</text>\n",
       "\n",
       "<text class=\"displacy-token\" fill=\"currentColor\" text-anchor=\"middle\" y=\"572.0\">\n",
       "    <tspan class=\"displacy-word\" fill=\"currentColor\" x=\"7050\">долиной».</tspan>\n",
       "    <tspan class=\"displacy-tag\" dy=\"2em\" fill=\"currentColor\" x=\"7050\">NOUN</tspan>\n",
       "</text>\n",
       "\n",
       "<g class=\"displacy-arrow\">\n",
       "    <path class=\"displacy-arc\" id=\"arrow-be041dc7084c468b87ec1eddb841d0cd-0-0\" stroke-width=\"2px\" d=\"M70,527.0 C70,264.5 560.0,264.5 560.0,527.0\" fill=\"none\" stroke=\"currentColor\"/>\n",
       "    <text dy=\"1.25em\" style=\"font-size: 0.8em; letter-spacing: 1px\">\n",
       "        <textPath xlink:href=\"#arrow-be041dc7084c468b87ec1eddb841d0cd-0-0\" class=\"displacy-label\" startOffset=\"50%\" side=\"left\" fill=\"currentColor\" text-anchor=\"middle\">nsubj</textPath>\n",
       "    </text>\n",
       "    <path class=\"displacy-arrowhead\" d=\"M70,529.0 L62,517.0 78,517.0\" fill=\"currentColor\"/>\n",
       "</g>\n",
       "\n",
       "<g class=\"displacy-arrow\">\n",
       "    <path class=\"displacy-arc\" id=\"arrow-be041dc7084c468b87ec1eddb841d0cd-0-1\" stroke-width=\"2px\" d=\"M245,527.0 C245,352.0 555.0,352.0 555.0,527.0\" fill=\"none\" stroke=\"currentColor\"/>\n",
       "    <text dy=\"1.25em\" style=\"font-size: 0.8em; letter-spacing: 1px\">\n",
       "        <textPath xlink:href=\"#arrow-be041dc7084c468b87ec1eddb841d0cd-0-1\" class=\"displacy-label\" startOffset=\"50%\" side=\"left\" fill=\"currentColor\" text-anchor=\"middle\">amod</textPath>\n",
       "    </text>\n",
       "    <path class=\"displacy-arrowhead\" d=\"M245,529.0 L237,517.0 253,517.0\" fill=\"currentColor\"/>\n",
       "</g>\n",
       "\n",
       "<g class=\"displacy-arrow\">\n",
       "    <path class=\"displacy-arc\" id=\"arrow-be041dc7084c468b87ec1eddb841d0cd-0-2\" stroke-width=\"2px\" d=\"M420,527.0 C420,439.5 550.0,439.5 550.0,527.0\" fill=\"none\" stroke=\"currentColor\"/>\n",
       "    <text dy=\"1.25em\" style=\"font-size: 0.8em; letter-spacing: 1px\">\n",
       "        <textPath xlink:href=\"#arrow-be041dc7084c468b87ec1eddb841d0cd-0-2\" class=\"displacy-label\" startOffset=\"50%\" side=\"left\" fill=\"currentColor\" text-anchor=\"middle\">amod</textPath>\n",
       "    </text>\n",
       "    <path class=\"displacy-arrowhead\" d=\"M420,529.0 L412,517.0 428,517.0\" fill=\"currentColor\"/>\n",
       "</g>\n",
       "\n",
       "<g class=\"displacy-arrow\">\n",
       "    <path class=\"displacy-arc\" id=\"arrow-be041dc7084c468b87ec1eddb841d0cd-0-3\" stroke-width=\"2px\" d=\"M595,527.0 C595,439.5 725.0,439.5 725.0,527.0\" fill=\"none\" stroke=\"currentColor\"/>\n",
       "    <text dy=\"1.25em\" style=\"font-size: 0.8em; letter-spacing: 1px\">\n",
       "        <textPath xlink:href=\"#arrow-be041dc7084c468b87ec1eddb841d0cd-0-3\" class=\"displacy-label\" startOffset=\"50%\" side=\"left\" fill=\"currentColor\" text-anchor=\"middle\">acl</textPath>\n",
       "    </text>\n",
       "    <path class=\"displacy-arrowhead\" d=\"M725.0,529.0 L733.0,517.0 717.0,517.0\" fill=\"currentColor\"/>\n",
       "</g>\n",
       "\n",
       "<g class=\"displacy-arrow\">\n",
       "    <path class=\"displacy-arc\" id=\"arrow-be041dc7084c468b87ec1eddb841d0cd-0-4\" stroke-width=\"2px\" d=\"M945,527.0 C945,439.5 1075.0,439.5 1075.0,527.0\" fill=\"none\" stroke=\"currentColor\"/>\n",
       "    <text dy=\"1.25em\" style=\"font-size: 0.8em; letter-spacing: 1px\">\n",
       "        <textPath xlink:href=\"#arrow-be041dc7084c468b87ec1eddb841d0cd-0-4\" class=\"displacy-label\" startOffset=\"50%\" side=\"left\" fill=\"currentColor\" text-anchor=\"middle\">case</textPath>\n",
       "    </text>\n",
       "    <path class=\"displacy-arrowhead\" d=\"M945,529.0 L937,517.0 953,517.0\" fill=\"currentColor\"/>\n",
       "</g>\n",
       "\n",
       "<g class=\"displacy-arrow\">\n",
       "    <path class=\"displacy-arc\" id=\"arrow-be041dc7084c468b87ec1eddb841d0cd-0-5\" stroke-width=\"2px\" d=\"M770,527.0 C770,352.0 1080.0,352.0 1080.0,527.0\" fill=\"none\" stroke=\"currentColor\"/>\n",
       "    <text dy=\"1.25em\" style=\"font-size: 0.8em; letter-spacing: 1px\">\n",
       "        <textPath xlink:href=\"#arrow-be041dc7084c468b87ec1eddb841d0cd-0-5\" class=\"displacy-label\" startOffset=\"50%\" side=\"left\" fill=\"currentColor\" text-anchor=\"middle\">obl</textPath>\n",
       "    </text>\n",
       "    <path class=\"displacy-arrowhead\" d=\"M1080.0,529.0 L1088.0,517.0 1072.0,517.0\" fill=\"currentColor\"/>\n",
       "</g>\n",
       "\n",
       "<g class=\"displacy-arrow\">\n",
       "    <path class=\"displacy-arc\" id=\"arrow-be041dc7084c468b87ec1eddb841d0cd-0-6\" stroke-width=\"2px\" d=\"M1120,527.0 C1120,439.5 1250.0,439.5 1250.0,527.0\" fill=\"none\" stroke=\"currentColor\"/>\n",
       "    <text dy=\"1.25em\" style=\"font-size: 0.8em; letter-spacing: 1px\">\n",
       "        <textPath xlink:href=\"#arrow-be041dc7084c468b87ec1eddb841d0cd-0-6\" class=\"displacy-label\" startOffset=\"50%\" side=\"left\" fill=\"currentColor\" text-anchor=\"middle\">nmod</textPath>\n",
       "    </text>\n",
       "    <path class=\"displacy-arrowhead\" d=\"M1250.0,529.0 L1258.0,517.0 1242.0,517.0\" fill=\"currentColor\"/>\n",
       "</g>\n",
       "\n",
       "<g class=\"displacy-arrow\">\n",
       "    <path class=\"displacy-arc\" id=\"arrow-be041dc7084c468b87ec1eddb841d0cd-0-7\" stroke-width=\"2px\" d=\"M1470,527.0 C1470,439.5 1600.0,439.5 1600.0,527.0\" fill=\"none\" stroke=\"currentColor\"/>\n",
       "    <text dy=\"1.25em\" style=\"font-size: 0.8em; letter-spacing: 1px\">\n",
       "        <textPath xlink:href=\"#arrow-be041dc7084c468b87ec1eddb841d0cd-0-7\" class=\"displacy-label\" startOffset=\"50%\" side=\"left\" fill=\"currentColor\" text-anchor=\"middle\">case</textPath>\n",
       "    </text>\n",
       "    <path class=\"displacy-arrowhead\" d=\"M1470,529.0 L1462,517.0 1478,517.0\" fill=\"currentColor\"/>\n",
       "</g>\n",
       "\n",
       "<g class=\"displacy-arrow\">\n",
       "    <path class=\"displacy-arc\" id=\"arrow-be041dc7084c468b87ec1eddb841d0cd-0-8\" stroke-width=\"2px\" d=\"M595,527.0 C595,89.5 1620.0,89.5 1620.0,527.0\" fill=\"none\" stroke=\"currentColor\"/>\n",
       "    <text dy=\"1.25em\" style=\"font-size: 0.8em; letter-spacing: 1px\">\n",
       "        <textPath xlink:href=\"#arrow-be041dc7084c468b87ec1eddb841d0cd-0-8\" class=\"displacy-label\" startOffset=\"50%\" side=\"left\" fill=\"currentColor\" text-anchor=\"middle\">conj</textPath>\n",
       "    </text>\n",
       "    <path class=\"displacy-arrowhead\" d=\"M1620.0,529.0 L1628.0,517.0 1612.0,517.0\" fill=\"currentColor\"/>\n",
       "</g>\n",
       "\n",
       "<g class=\"displacy-arrow\">\n",
       "    <path class=\"displacy-arc\" id=\"arrow-be041dc7084c468b87ec1eddb841d0cd-0-9\" stroke-width=\"2px\" d=\"M1820,527.0 C1820,439.5 1950.0,439.5 1950.0,527.0\" fill=\"none\" stroke=\"currentColor\"/>\n",
       "    <text dy=\"1.25em\" style=\"font-size: 0.8em; letter-spacing: 1px\">\n",
       "        <textPath xlink:href=\"#arrow-be041dc7084c468b87ec1eddb841d0cd-0-9\" class=\"displacy-label\" startOffset=\"50%\" side=\"left\" fill=\"currentColor\" text-anchor=\"middle\">case</textPath>\n",
       "    </text>\n",
       "    <path class=\"displacy-arrowhead\" d=\"M1820,529.0 L1812,517.0 1828,517.0\" fill=\"currentColor\"/>\n",
       "</g>\n",
       "\n",
       "<g class=\"displacy-arrow\">\n",
       "    <path class=\"displacy-arc\" id=\"arrow-be041dc7084c468b87ec1eddb841d0cd-0-10\" stroke-width=\"2px\" d=\"M1645,527.0 C1645,352.0 1955.0,352.0 1955.0,527.0\" fill=\"none\" stroke=\"currentColor\"/>\n",
       "    <text dy=\"1.25em\" style=\"font-size: 0.8em; letter-spacing: 1px\">\n",
       "        <textPath xlink:href=\"#arrow-be041dc7084c468b87ec1eddb841d0cd-0-10\" class=\"displacy-label\" startOffset=\"50%\" side=\"left\" fill=\"currentColor\" text-anchor=\"middle\">nmod</textPath>\n",
       "    </text>\n",
       "    <path class=\"displacy-arrowhead\" d=\"M1955.0,529.0 L1963.0,517.0 1947.0,517.0\" fill=\"currentColor\"/>\n",
       "</g>\n",
       "\n",
       "<g class=\"displacy-arrow\">\n",
       "    <path class=\"displacy-arc\" id=\"arrow-be041dc7084c468b87ec1eddb841d0cd-0-11\" stroke-width=\"2px\" d=\"M2170,527.0 C2170,439.5 2300.0,439.5 2300.0,527.0\" fill=\"none\" stroke=\"currentColor\"/>\n",
       "    <text dy=\"1.25em\" style=\"font-size: 0.8em; letter-spacing: 1px\">\n",
       "        <textPath xlink:href=\"#arrow-be041dc7084c468b87ec1eddb841d0cd-0-11\" class=\"displacy-label\" startOffset=\"50%\" side=\"left\" fill=\"currentColor\" text-anchor=\"middle\">nsubj:pass</textPath>\n",
       "    </text>\n",
       "    <path class=\"displacy-arrowhead\" d=\"M2170,529.0 L2162,517.0 2178,517.0\" fill=\"currentColor\"/>\n",
       "</g>\n",
       "\n",
       "<g class=\"displacy-arrow\">\n",
       "    <path class=\"displacy-arc\" id=\"arrow-be041dc7084c468b87ec1eddb841d0cd-0-12\" stroke-width=\"2px\" d=\"M2520,527.0 C2520,439.5 2650.0,439.5 2650.0,527.0\" fill=\"none\" stroke=\"currentColor\"/>\n",
       "    <text dy=\"1.25em\" style=\"font-size: 0.8em; letter-spacing: 1px\">\n",
       "        <textPath xlink:href=\"#arrow-be041dc7084c468b87ec1eddb841d0cd-0-12\" class=\"displacy-label\" startOffset=\"50%\" side=\"left\" fill=\"currentColor\" text-anchor=\"middle\">case</textPath>\n",
       "    </text>\n",
       "    <path class=\"displacy-arrowhead\" d=\"M2520,529.0 L2512,517.0 2528,517.0\" fill=\"currentColor\"/>\n",
       "</g>\n",
       "\n",
       "<g class=\"displacy-arrow\">\n",
       "    <path class=\"displacy-arc\" id=\"arrow-be041dc7084c468b87ec1eddb841d0cd-0-13\" stroke-width=\"2px\" d=\"M2345,527.0 C2345,352.0 2655.0,352.0 2655.0,527.0\" fill=\"none\" stroke=\"currentColor\"/>\n",
       "    <text dy=\"1.25em\" style=\"font-size: 0.8em; letter-spacing: 1px\">\n",
       "        <textPath xlink:href=\"#arrow-be041dc7084c468b87ec1eddb841d0cd-0-13\" class=\"displacy-label\" startOffset=\"50%\" side=\"left\" fill=\"currentColor\" text-anchor=\"middle\">obl</textPath>\n",
       "    </text>\n",
       "    <path class=\"displacy-arrowhead\" d=\"M2655.0,529.0 L2663.0,517.0 2647.0,517.0\" fill=\"currentColor\"/>\n",
       "</g>\n",
       "\n",
       "<g class=\"displacy-arrow\">\n",
       "    <path class=\"displacy-arc\" id=\"arrow-be041dc7084c468b87ec1eddb841d0cd-0-14\" stroke-width=\"2px\" d=\"M2870,527.0 C2870,439.5 3000.0,439.5 3000.0,527.0\" fill=\"none\" stroke=\"currentColor\"/>\n",
       "    <text dy=\"1.25em\" style=\"font-size: 0.8em; letter-spacing: 1px\">\n",
       "        <textPath xlink:href=\"#arrow-be041dc7084c468b87ec1eddb841d0cd-0-14\" class=\"displacy-label\" startOffset=\"50%\" side=\"left\" fill=\"currentColor\" text-anchor=\"middle\">amod</textPath>\n",
       "    </text>\n",
       "    <path class=\"displacy-arrowhead\" d=\"M2870,529.0 L2862,517.0 2878,517.0\" fill=\"currentColor\"/>\n",
       "</g>\n",
       "\n",
       "<g class=\"displacy-arrow\">\n",
       "    <path class=\"displacy-arc\" id=\"arrow-be041dc7084c468b87ec1eddb841d0cd-0-15\" stroke-width=\"2px\" d=\"M2695,527.0 C2695,352.0 3005.0,352.0 3005.0,527.0\" fill=\"none\" stroke=\"currentColor\"/>\n",
       "    <text dy=\"1.25em\" style=\"font-size: 0.8em; letter-spacing: 1px\">\n",
       "        <textPath xlink:href=\"#arrow-be041dc7084c468b87ec1eddb841d0cd-0-15\" class=\"displacy-label\" startOffset=\"50%\" side=\"left\" fill=\"currentColor\" text-anchor=\"middle\">nmod</textPath>\n",
       "    </text>\n",
       "    <path class=\"displacy-arrowhead\" d=\"M3005.0,529.0 L3013.0,517.0 2997.0,517.0\" fill=\"currentColor\"/>\n",
       "</g>\n",
       "\n",
       "<g class=\"displacy-arrow\">\n",
       "    <path class=\"displacy-arc\" id=\"arrow-be041dc7084c468b87ec1eddb841d0cd-0-16\" stroke-width=\"2px\" d=\"M3220,527.0 C3220,439.5 3350.0,439.5 3350.0,527.0\" fill=\"none\" stroke=\"currentColor\"/>\n",
       "    <text dy=\"1.25em\" style=\"font-size: 0.8em; letter-spacing: 1px\">\n",
       "        <textPath xlink:href=\"#arrow-be041dc7084c468b87ec1eddb841d0cd-0-16\" class=\"displacy-label\" startOffset=\"50%\" side=\"left\" fill=\"currentColor\" text-anchor=\"middle\">case</textPath>\n",
       "    </text>\n",
       "    <path class=\"displacy-arrowhead\" d=\"M3220,529.0 L3212,517.0 3228,517.0\" fill=\"currentColor\"/>\n",
       "</g>\n",
       "\n",
       "<g class=\"displacy-arrow\">\n",
       "    <path class=\"displacy-arc\" id=\"arrow-be041dc7084c468b87ec1eddb841d0cd-0-17\" stroke-width=\"2px\" d=\"M2695,527.0 C2695,177.0 3365.0,177.0 3365.0,527.0\" fill=\"none\" stroke=\"currentColor\"/>\n",
       "    <text dy=\"1.25em\" style=\"font-size: 0.8em; letter-spacing: 1px\">\n",
       "        <textPath xlink:href=\"#arrow-be041dc7084c468b87ec1eddb841d0cd-0-17\" class=\"displacy-label\" startOffset=\"50%\" side=\"left\" fill=\"currentColor\" text-anchor=\"middle\">conj</textPath>\n",
       "    </text>\n",
       "    <path class=\"displacy-arrowhead\" d=\"M3365.0,529.0 L3373.0,517.0 3357.0,517.0\" fill=\"currentColor\"/>\n",
       "</g>\n",
       "\n",
       "<g class=\"displacy-arrow\">\n",
       "    <path class=\"displacy-arc\" id=\"arrow-be041dc7084c468b87ec1eddb841d0cd-0-18\" stroke-width=\"2px\" d=\"M3570,527.0 C3570,352.0 3880.0,352.0 3880.0,527.0\" fill=\"none\" stroke=\"currentColor\"/>\n",
       "    <text dy=\"1.25em\" style=\"font-size: 0.8em; letter-spacing: 1px\">\n",
       "        <textPath xlink:href=\"#arrow-be041dc7084c468b87ec1eddb841d0cd-0-18\" class=\"displacy-label\" startOffset=\"50%\" side=\"left\" fill=\"currentColor\" text-anchor=\"middle\">amod</textPath>\n",
       "    </text>\n",
       "    <path class=\"displacy-arrowhead\" d=\"M3570,529.0 L3562,517.0 3578,517.0\" fill=\"currentColor\"/>\n",
       "</g>\n",
       "\n",
       "<g class=\"displacy-arrow\">\n",
       "    <path class=\"displacy-arc\" id=\"arrow-be041dc7084c468b87ec1eddb841d0cd-0-19\" stroke-width=\"2px\" d=\"M3745,527.0 C3745,439.5 3875.0,439.5 3875.0,527.0\" fill=\"none\" stroke=\"currentColor\"/>\n",
       "    <text dy=\"1.25em\" style=\"font-size: 0.8em; letter-spacing: 1px\">\n",
       "        <textPath xlink:href=\"#arrow-be041dc7084c468b87ec1eddb841d0cd-0-19\" class=\"displacy-label\" startOffset=\"50%\" side=\"left\" fill=\"currentColor\" text-anchor=\"middle\">amod</textPath>\n",
       "    </text>\n",
       "    <path class=\"displacy-arrowhead\" d=\"M3745,529.0 L3737,517.0 3753,517.0\" fill=\"currentColor\"/>\n",
       "</g>\n",
       "\n",
       "<g class=\"displacy-arrow\">\n",
       "    <path class=\"displacy-arc\" id=\"arrow-be041dc7084c468b87ec1eddb841d0cd-0-20\" stroke-width=\"2px\" d=\"M3395,527.0 C3395,264.5 3885.0,264.5 3885.0,527.0\" fill=\"none\" stroke=\"currentColor\"/>\n",
       "    <text dy=\"1.25em\" style=\"font-size: 0.8em; letter-spacing: 1px\">\n",
       "        <textPath xlink:href=\"#arrow-be041dc7084c468b87ec1eddb841d0cd-0-20\" class=\"displacy-label\" startOffset=\"50%\" side=\"left\" fill=\"currentColor\" text-anchor=\"middle\">nmod</textPath>\n",
       "    </text>\n",
       "    <path class=\"displacy-arrowhead\" d=\"M3885.0,529.0 L3893.0,517.0 3877.0,517.0\" fill=\"currentColor\"/>\n",
       "</g>\n",
       "\n",
       "<g class=\"displacy-arrow\">\n",
       "    <path class=\"displacy-arc\" id=\"arrow-be041dc7084c468b87ec1eddb841d0cd-0-21\" stroke-width=\"2px\" d=\"M4095,527.0 C4095,439.5 4225.0,439.5 4225.0,527.0\" fill=\"none\" stroke=\"currentColor\"/>\n",
       "    <text dy=\"1.25em\" style=\"font-size: 0.8em; letter-spacing: 1px\">\n",
       "        <textPath xlink:href=\"#arrow-be041dc7084c468b87ec1eddb841d0cd-0-21\" class=\"displacy-label\" startOffset=\"50%\" side=\"left\" fill=\"currentColor\" text-anchor=\"middle\">case</textPath>\n",
       "    </text>\n",
       "    <path class=\"displacy-arrowhead\" d=\"M4095,529.0 L4087,517.0 4103,517.0\" fill=\"currentColor\"/>\n",
       "</g>\n",
       "\n",
       "<g class=\"displacy-arrow\">\n",
       "    <path class=\"displacy-arc\" id=\"arrow-be041dc7084c468b87ec1eddb841d0cd-0-22\" stroke-width=\"2px\" d=\"M4270,527.0 C4270,352.0 4580.0,352.0 4580.0,527.0\" fill=\"none\" stroke=\"currentColor\"/>\n",
       "    <text dy=\"1.25em\" style=\"font-size: 0.8em; letter-spacing: 1px\">\n",
       "        <textPath xlink:href=\"#arrow-be041dc7084c468b87ec1eddb841d0cd-0-22\" class=\"displacy-label\" startOffset=\"50%\" side=\"left\" fill=\"currentColor\" text-anchor=\"middle\">obl</textPath>\n",
       "    </text>\n",
       "    <path class=\"displacy-arrowhead\" d=\"M4270,529.0 L4262,517.0 4278,517.0\" fill=\"currentColor\"/>\n",
       "</g>\n",
       "\n",
       "<g class=\"displacy-arrow\">\n",
       "    <path class=\"displacy-arc\" id=\"arrow-be041dc7084c468b87ec1eddb841d0cd-0-23\" stroke-width=\"2px\" d=\"M4445,527.0 C4445,439.5 4575.0,439.5 4575.0,527.0\" fill=\"none\" stroke=\"currentColor\"/>\n",
       "    <text dy=\"1.25em\" style=\"font-size: 0.8em; letter-spacing: 1px\">\n",
       "        <textPath xlink:href=\"#arrow-be041dc7084c468b87ec1eddb841d0cd-0-23\" class=\"displacy-label\" startOffset=\"50%\" side=\"left\" fill=\"currentColor\" text-anchor=\"middle\">obj</textPath>\n",
       "    </text>\n",
       "    <path class=\"displacy-arrowhead\" d=\"M4445,529.0 L4437,517.0 4453,517.0\" fill=\"currentColor\"/>\n",
       "</g>\n",
       "\n",
       "<g class=\"displacy-arrow\">\n",
       "    <path class=\"displacy-arc\" id=\"arrow-be041dc7084c468b87ec1eddb841d0cd-0-24\" stroke-width=\"2px\" d=\"M4795,527.0 C4795,352.0 5105.0,352.0 5105.0,527.0\" fill=\"none\" stroke=\"currentColor\"/>\n",
       "    <text dy=\"1.25em\" style=\"font-size: 0.8em; letter-spacing: 1px\">\n",
       "        <textPath xlink:href=\"#arrow-be041dc7084c468b87ec1eddb841d0cd-0-24\" class=\"displacy-label\" startOffset=\"50%\" side=\"left\" fill=\"currentColor\" text-anchor=\"middle\">case</textPath>\n",
       "    </text>\n",
       "    <path class=\"displacy-arrowhead\" d=\"M4795,529.0 L4787,517.0 4803,517.0\" fill=\"currentColor\"/>\n",
       "</g>\n",
       "\n",
       "<g class=\"displacy-arrow\">\n",
       "    <path class=\"displacy-arc\" id=\"arrow-be041dc7084c468b87ec1eddb841d0cd-0-25\" stroke-width=\"2px\" d=\"M4970,527.0 C4970,439.5 5100.0,439.5 5100.0,527.0\" fill=\"none\" stroke=\"currentColor\"/>\n",
       "    <text dy=\"1.25em\" style=\"font-size: 0.8em; letter-spacing: 1px\">\n",
       "        <textPath xlink:href=\"#arrow-be041dc7084c468b87ec1eddb841d0cd-0-25\" class=\"displacy-label\" startOffset=\"50%\" side=\"left\" fill=\"currentColor\" text-anchor=\"middle\">amod</textPath>\n",
       "    </text>\n",
       "    <path class=\"displacy-arrowhead\" d=\"M4970,529.0 L4962,517.0 4978,517.0\" fill=\"currentColor\"/>\n",
       "</g>\n",
       "\n",
       "<g class=\"displacy-arrow\">\n",
       "    <path class=\"displacy-arc\" id=\"arrow-be041dc7084c468b87ec1eddb841d0cd-0-26\" stroke-width=\"2px\" d=\"M4620,527.0 C4620,264.5 5110.0,264.5 5110.0,527.0\" fill=\"none\" stroke=\"currentColor\"/>\n",
       "    <text dy=\"1.25em\" style=\"font-size: 0.8em; letter-spacing: 1px\">\n",
       "        <textPath xlink:href=\"#arrow-be041dc7084c468b87ec1eddb841d0cd-0-26\" class=\"displacy-label\" startOffset=\"50%\" side=\"left\" fill=\"currentColor\" text-anchor=\"middle\">obl</textPath>\n",
       "    </text>\n",
       "    <path class=\"displacy-arrowhead\" d=\"M5110.0,529.0 L5118.0,517.0 5102.0,517.0\" fill=\"currentColor\"/>\n",
       "</g>\n",
       "\n",
       "<g class=\"displacy-arrow\">\n",
       "    <path class=\"displacy-arc\" id=\"arrow-be041dc7084c468b87ec1eddb841d0cd-0-27\" stroke-width=\"2px\" d=\"M5320,527.0 C5320,439.5 5450.0,439.5 5450.0,527.0\" fill=\"none\" stroke=\"currentColor\"/>\n",
       "    <text dy=\"1.25em\" style=\"font-size: 0.8em; letter-spacing: 1px\">\n",
       "        <textPath xlink:href=\"#arrow-be041dc7084c468b87ec1eddb841d0cd-0-27\" class=\"displacy-label\" startOffset=\"50%\" side=\"left\" fill=\"currentColor\" text-anchor=\"middle\">obj</textPath>\n",
       "    </text>\n",
       "    <path class=\"displacy-arrowhead\" d=\"M5320,529.0 L5312,517.0 5328,517.0\" fill=\"currentColor\"/>\n",
       "</g>\n",
       "\n",
       "<g class=\"displacy-arrow\">\n",
       "    <path class=\"displacy-arc\" id=\"arrow-be041dc7084c468b87ec1eddb841d0cd-0-28\" stroke-width=\"2px\" d=\"M5495,527.0 C5495,439.5 5625.0,439.5 5625.0,527.0\" fill=\"none\" stroke=\"currentColor\"/>\n",
       "    <text dy=\"1.25em\" style=\"font-size: 0.8em; letter-spacing: 1px\">\n",
       "        <textPath xlink:href=\"#arrow-be041dc7084c468b87ec1eddb841d0cd-0-28\" class=\"displacy-label\" startOffset=\"50%\" side=\"left\" fill=\"currentColor\" text-anchor=\"middle\">xcomp</textPath>\n",
       "    </text>\n",
       "    <path class=\"displacy-arrowhead\" d=\"M5625.0,529.0 L5633.0,517.0 5617.0,517.0\" fill=\"currentColor\"/>\n",
       "</g>\n",
       "\n",
       "<g class=\"displacy-arrow\">\n",
       "    <path class=\"displacy-arc\" id=\"arrow-be041dc7084c468b87ec1eddb841d0cd-0-29\" stroke-width=\"2px\" d=\"M5670,527.0 C5670,439.5 5800.0,439.5 5800.0,527.0\" fill=\"none\" stroke=\"currentColor\"/>\n",
       "    <text dy=\"1.25em\" style=\"font-size: 0.8em; letter-spacing: 1px\">\n",
       "        <textPath xlink:href=\"#arrow-be041dc7084c468b87ec1eddb841d0cd-0-29\" class=\"displacy-label\" startOffset=\"50%\" side=\"left\" fill=\"currentColor\" text-anchor=\"middle\">nmod</textPath>\n",
       "    </text>\n",
       "    <path class=\"displacy-arrowhead\" d=\"M5800.0,529.0 L5808.0,517.0 5792.0,517.0\" fill=\"currentColor\"/>\n",
       "</g>\n",
       "\n",
       "<g class=\"displacy-arrow\">\n",
       "    <path class=\"displacy-arc\" id=\"arrow-be041dc7084c468b87ec1eddb841d0cd-0-30\" stroke-width=\"2px\" d=\"M6020,527.0 C6020,439.5 6150.0,439.5 6150.0,527.0\" fill=\"none\" stroke=\"currentColor\"/>\n",
       "    <text dy=\"1.25em\" style=\"font-size: 0.8em; letter-spacing: 1px\">\n",
       "        <textPath xlink:href=\"#arrow-be041dc7084c468b87ec1eddb841d0cd-0-30\" class=\"displacy-label\" startOffset=\"50%\" side=\"left\" fill=\"currentColor\" text-anchor=\"middle\">cc</textPath>\n",
       "    </text>\n",
       "    <path class=\"displacy-arrowhead\" d=\"M6020,529.0 L6012,517.0 6028,517.0\" fill=\"currentColor\"/>\n",
       "</g>\n",
       "\n",
       "<g class=\"displacy-arrow\">\n",
       "    <path class=\"displacy-arc\" id=\"arrow-be041dc7084c468b87ec1eddb841d0cd-0-31\" stroke-width=\"2px\" d=\"M5845,527.0 C5845,352.0 6155.0,352.0 6155.0,527.0\" fill=\"none\" stroke=\"currentColor\"/>\n",
       "    <text dy=\"1.25em\" style=\"font-size: 0.8em; letter-spacing: 1px\">\n",
       "        <textPath xlink:href=\"#arrow-be041dc7084c468b87ec1eddb841d0cd-0-31\" class=\"displacy-label\" startOffset=\"50%\" side=\"left\" fill=\"currentColor\" text-anchor=\"middle\">conj</textPath>\n",
       "    </text>\n",
       "    <path class=\"displacy-arrowhead\" d=\"M6155.0,529.0 L6163.0,517.0 6147.0,517.0\" fill=\"currentColor\"/>\n",
       "</g>\n",
       "\n",
       "<g class=\"displacy-arrow\">\n",
       "    <path class=\"displacy-arc\" id=\"arrow-be041dc7084c468b87ec1eddb841d0cd-0-32\" stroke-width=\"2px\" d=\"M6370,527.0 C6370,177.0 7040.0,177.0 7040.0,527.0\" fill=\"none\" stroke=\"currentColor\"/>\n",
       "    <text dy=\"1.25em\" style=\"font-size: 0.8em; letter-spacing: 1px\">\n",
       "        <textPath xlink:href=\"#arrow-be041dc7084c468b87ec1eddb841d0cd-0-32\" class=\"displacy-label\" startOffset=\"50%\" side=\"left\" fill=\"currentColor\" text-anchor=\"middle\">cc</textPath>\n",
       "    </text>\n",
       "    <path class=\"displacy-arrowhead\" d=\"M6370,529.0 L6362,517.0 6378,517.0\" fill=\"currentColor\"/>\n",
       "</g>\n",
       "\n",
       "<g class=\"displacy-arrow\">\n",
       "    <path class=\"displacy-arc\" id=\"arrow-be041dc7084c468b87ec1eddb841d0cd-0-33\" stroke-width=\"2px\" d=\"M6370,527.0 C6370,439.5 6500.0,439.5 6500.0,527.0\" fill=\"none\" stroke=\"currentColor\"/>\n",
       "    <text dy=\"1.25em\" style=\"font-size: 0.8em; letter-spacing: 1px\">\n",
       "        <textPath xlink:href=\"#arrow-be041dc7084c468b87ec1eddb841d0cd-0-33\" class=\"displacy-label\" startOffset=\"50%\" side=\"left\" fill=\"currentColor\" text-anchor=\"middle\">fixed</textPath>\n",
       "    </text>\n",
       "    <path class=\"displacy-arrowhead\" d=\"M6500.0,529.0 L6508.0,517.0 6492.0,517.0\" fill=\"currentColor\"/>\n",
       "</g>\n",
       "\n",
       "<g class=\"displacy-arrow\">\n",
       "    <path class=\"displacy-arc\" id=\"arrow-be041dc7084c468b87ec1eddb841d0cd-0-34\" stroke-width=\"2px\" d=\"M6720,527.0 C6720,352.0 7030.0,352.0 7030.0,527.0\" fill=\"none\" stroke=\"currentColor\"/>\n",
       "    <text dy=\"1.25em\" style=\"font-size: 0.8em; letter-spacing: 1px\">\n",
       "        <textPath xlink:href=\"#arrow-be041dc7084c468b87ec1eddb841d0cd-0-34\" class=\"displacy-label\" startOffset=\"50%\" side=\"left\" fill=\"currentColor\" text-anchor=\"middle\">amod</textPath>\n",
       "    </text>\n",
       "    <path class=\"displacy-arrowhead\" d=\"M6720,529.0 L6712,517.0 6728,517.0\" fill=\"currentColor\"/>\n",
       "</g>\n",
       "\n",
       "<g class=\"displacy-arrow\">\n",
       "    <path class=\"displacy-arc\" id=\"arrow-be041dc7084c468b87ec1eddb841d0cd-0-35\" stroke-width=\"2px\" d=\"M6895,527.0 C6895,439.5 7025.0,439.5 7025.0,527.0\" fill=\"none\" stroke=\"currentColor\"/>\n",
       "    <text dy=\"1.25em\" style=\"font-size: 0.8em; letter-spacing: 1px\">\n",
       "        <textPath xlink:href=\"#arrow-be041dc7084c468b87ec1eddb841d0cd-0-35\" class=\"displacy-label\" startOffset=\"50%\" side=\"left\" fill=\"currentColor\" text-anchor=\"middle\">amod</textPath>\n",
       "    </text>\n",
       "    <path class=\"displacy-arrowhead\" d=\"M6895,529.0 L6887,517.0 6903,517.0\" fill=\"currentColor\"/>\n",
       "</g>\n",
       "\n",
       "<g class=\"displacy-arrow\">\n",
       "    <path class=\"displacy-arc\" id=\"arrow-be041dc7084c468b87ec1eddb841d0cd-0-36\" stroke-width=\"2px\" d=\"M5670,527.0 C5670,2.0 7050.0,2.0 7050.0,527.0\" fill=\"none\" stroke=\"currentColor\"/>\n",
       "    <text dy=\"1.25em\" style=\"font-size: 0.8em; letter-spacing: 1px\">\n",
       "        <textPath xlink:href=\"#arrow-be041dc7084c468b87ec1eddb841d0cd-0-36\" class=\"displacy-label\" startOffset=\"50%\" side=\"left\" fill=\"currentColor\" text-anchor=\"middle\">conj</textPath>\n",
       "    </text>\n",
       "    <path class=\"displacy-arrowhead\" d=\"M7050.0,529.0 L7058.0,517.0 7042.0,517.0\" fill=\"currentColor\"/>\n",
       "</g>\n",
       "</svg></span>"
      ],
      "text/plain": [
       "<IPython.core.display.HTML object>"
      ]
     },
     "metadata": {},
     "output_type": "display_data"
    }
   ],
   "source": [
    "#Разбор предложения  提案分析\n",
    "from spacy import displacy\n",
    "displacy.render(spacy_text1, style='dep', jupyter=True)"
   ]
  },
  {
   "cell_type": "code",
   "execution_count": 46,
   "id": "1939e412",
   "metadata": {},
   "outputs": [
    {
     "data": {
      "text/html": [
       "<span class=\"tex2jax_ignore\"><svg xmlns=\"http://www.w3.org/2000/svg\" xmlns:xlink=\"http://www.w3.org/1999/xlink\" xml:lang=\"ru\" id=\"80e5b35ee6154947a2d615b0af534fc2-0\" class=\"displacy\" width=\"3200\" height=\"662.0\" direction=\"ltr\" style=\"max-width: none; height: 662.0px; color: #000000; background: #ffffff; font-family: Arial; direction: ltr\">\n",
       "<text class=\"displacy-token\" fill=\"currentColor\" text-anchor=\"middle\" y=\"572.0\">\n",
       "    <tspan class=\"displacy-word\" fill=\"currentColor\" x=\"50\">Китай</tspan>\n",
       "    <tspan class=\"displacy-tag\" dy=\"2em\" fill=\"currentColor\" x=\"50\">PROPN</tspan>\n",
       "</text>\n",
       "\n",
       "<text class=\"displacy-token\" fill=\"currentColor\" text-anchor=\"middle\" y=\"572.0\">\n",
       "    <tspan class=\"displacy-word\" fill=\"currentColor\" x=\"225\">или</tspan>\n",
       "    <tspan class=\"displacy-tag\" dy=\"2em\" fill=\"currentColor\" x=\"225\">CCONJ</tspan>\n",
       "</text>\n",
       "\n",
       "<text class=\"displacy-token\" fill=\"currentColor\" text-anchor=\"middle\" y=\"572.0\">\n",
       "    <tspan class=\"displacy-word\" fill=\"currentColor\" x=\"400\">Чжун</tspan>\n",
       "    <tspan class=\"displacy-tag\" dy=\"2em\" fill=\"currentColor\" x=\"400\">PROPN</tspan>\n",
       "</text>\n",
       "\n",
       "<text class=\"displacy-token\" fill=\"currentColor\" text-anchor=\"middle\" y=\"572.0\">\n",
       "    <tspan class=\"displacy-word\" fill=\"currentColor\" x=\"575\">Го,</tspan>\n",
       "    <tspan class=\"displacy-tag\" dy=\"2em\" fill=\"currentColor\" x=\"575\">PROPN</tspan>\n",
       "</text>\n",
       "\n",
       "<text class=\"displacy-token\" fill=\"currentColor\" text-anchor=\"middle\" y=\"572.0\">\n",
       "    <tspan class=\"displacy-word\" fill=\"currentColor\" x=\"750\">как</tspan>\n",
       "    <tspan class=\"displacy-tag\" dy=\"2em\" fill=\"currentColor\" x=\"750\">SCONJ</tspan>\n",
       "</text>\n",
       "\n",
       "<text class=\"displacy-token\" fill=\"currentColor\" text-anchor=\"middle\" y=\"572.0\">\n",
       "    <tspan class=\"displacy-word\" fill=\"currentColor\" x=\"925\">его</tspan>\n",
       "    <tspan class=\"displacy-tag\" dy=\"2em\" fill=\"currentColor\" x=\"925\">PRON</tspan>\n",
       "</text>\n",
       "\n",
       "<text class=\"displacy-token\" fill=\"currentColor\" text-anchor=\"middle\" y=\"572.0\">\n",
       "    <tspan class=\"displacy-word\" fill=\"currentColor\" x=\"1100\">называют</tspan>\n",
       "    <tspan class=\"displacy-tag\" dy=\"2em\" fill=\"currentColor\" x=\"1100\">VERB</tspan>\n",
       "</text>\n",
       "\n",
       "<text class=\"displacy-token\" fill=\"currentColor\" text-anchor=\"middle\" y=\"572.0\">\n",
       "    <tspan class=\"displacy-word\" fill=\"currentColor\" x=\"1275\">сами</tspan>\n",
       "    <tspan class=\"displacy-tag\" dy=\"2em\" fill=\"currentColor\" x=\"1275\">ADJ</tspan>\n",
       "</text>\n",
       "\n",
       "<text class=\"displacy-token\" fill=\"currentColor\" text-anchor=\"middle\" y=\"572.0\">\n",
       "    <tspan class=\"displacy-word\" fill=\"currentColor\" x=\"1450\">китайцы,</tspan>\n",
       "    <tspan class=\"displacy-tag\" dy=\"2em\" fill=\"currentColor\" x=\"1450\">NOUN</tspan>\n",
       "</text>\n",
       "\n",
       "<text class=\"displacy-token\" fill=\"currentColor\" text-anchor=\"middle\" y=\"572.0\">\n",
       "    <tspan class=\"displacy-word\" fill=\"currentColor\" x=\"1625\">является</tspan>\n",
       "    <tspan class=\"displacy-tag\" dy=\"2em\" fill=\"currentColor\" x=\"1625\">VERB</tspan>\n",
       "</text>\n",
       "\n",
       "<text class=\"displacy-token\" fill=\"currentColor\" text-anchor=\"middle\" y=\"572.0\">\n",
       "    <tspan class=\"displacy-word\" fill=\"currentColor\" x=\"1800\">одной</tspan>\n",
       "    <tspan class=\"displacy-tag\" dy=\"2em\" fill=\"currentColor\" x=\"1800\">NUM</tspan>\n",
       "</text>\n",
       "\n",
       "<text class=\"displacy-token\" fill=\"currentColor\" text-anchor=\"middle\" y=\"572.0\">\n",
       "    <tspan class=\"displacy-word\" fill=\"currentColor\" x=\"1975\">из</tspan>\n",
       "    <tspan class=\"displacy-tag\" dy=\"2em\" fill=\"currentColor\" x=\"1975\">ADP</tspan>\n",
       "</text>\n",
       "\n",
       "<text class=\"displacy-token\" fill=\"currentColor\" text-anchor=\"middle\" y=\"572.0\">\n",
       "    <tspan class=\"displacy-word\" fill=\"currentColor\" x=\"2150\">самых</tspan>\n",
       "    <tspan class=\"displacy-tag\" dy=\"2em\" fill=\"currentColor\" x=\"2150\">ADJ</tspan>\n",
       "</text>\n",
       "\n",
       "<text class=\"displacy-token\" fill=\"currentColor\" text-anchor=\"middle\" y=\"572.0\">\n",
       "    <tspan class=\"displacy-word\" fill=\"currentColor\" x=\"2325\">удивительных</tspan>\n",
       "    <tspan class=\"displacy-tag\" dy=\"2em\" fill=\"currentColor\" x=\"2325\">ADJ</tspan>\n",
       "</text>\n",
       "\n",
       "<text class=\"displacy-token\" fill=\"currentColor\" text-anchor=\"middle\" y=\"572.0\">\n",
       "    <tspan class=\"displacy-word\" fill=\"currentColor\" x=\"2500\">и</tspan>\n",
       "    <tspan class=\"displacy-tag\" dy=\"2em\" fill=\"currentColor\" x=\"2500\">CCONJ</tspan>\n",
       "</text>\n",
       "\n",
       "<text class=\"displacy-token\" fill=\"currentColor\" text-anchor=\"middle\" y=\"572.0\">\n",
       "    <tspan class=\"displacy-word\" fill=\"currentColor\" x=\"2675\">загадочных</tspan>\n",
       "    <tspan class=\"displacy-tag\" dy=\"2em\" fill=\"currentColor\" x=\"2675\">ADJ</tspan>\n",
       "</text>\n",
       "\n",
       "<text class=\"displacy-token\" fill=\"currentColor\" text-anchor=\"middle\" y=\"572.0\">\n",
       "    <tspan class=\"displacy-word\" fill=\"currentColor\" x=\"2850\">стран</tspan>\n",
       "    <tspan class=\"displacy-tag\" dy=\"2em\" fill=\"currentColor\" x=\"2850\">NOUN</tspan>\n",
       "</text>\n",
       "\n",
       "<text class=\"displacy-token\" fill=\"currentColor\" text-anchor=\"middle\" y=\"572.0\">\n",
       "    <tspan class=\"displacy-word\" fill=\"currentColor\" x=\"3025\">мира</tspan>\n",
       "    <tspan class=\"displacy-tag\" dy=\"2em\" fill=\"currentColor\" x=\"3025\">NOUN</tspan>\n",
       "</text>\n",
       "\n",
       "<g class=\"displacy-arrow\">\n",
       "    <path class=\"displacy-arc\" id=\"arrow-80e5b35ee6154947a2d615b0af534fc2-0-0\" stroke-width=\"2px\" d=\"M70,527.0 C70,2.0 1625.0,2.0 1625.0,527.0\" fill=\"none\" stroke=\"currentColor\"/>\n",
       "    <text dy=\"1.25em\" style=\"font-size: 0.8em; letter-spacing: 1px\">\n",
       "        <textPath xlink:href=\"#arrow-80e5b35ee6154947a2d615b0af534fc2-0-0\" class=\"displacy-label\" startOffset=\"50%\" side=\"left\" fill=\"currentColor\" text-anchor=\"middle\">nsubj</textPath>\n",
       "    </text>\n",
       "    <path class=\"displacy-arrowhead\" d=\"M70,529.0 L62,517.0 78,517.0\" fill=\"currentColor\"/>\n",
       "</g>\n",
       "\n",
       "<g class=\"displacy-arrow\">\n",
       "    <path class=\"displacy-arc\" id=\"arrow-80e5b35ee6154947a2d615b0af534fc2-0-1\" stroke-width=\"2px\" d=\"M245,527.0 C245,439.5 375.0,439.5 375.0,527.0\" fill=\"none\" stroke=\"currentColor\"/>\n",
       "    <text dy=\"1.25em\" style=\"font-size: 0.8em; letter-spacing: 1px\">\n",
       "        <textPath xlink:href=\"#arrow-80e5b35ee6154947a2d615b0af534fc2-0-1\" class=\"displacy-label\" startOffset=\"50%\" side=\"left\" fill=\"currentColor\" text-anchor=\"middle\">cc</textPath>\n",
       "    </text>\n",
       "    <path class=\"displacy-arrowhead\" d=\"M245,529.0 L237,517.0 253,517.0\" fill=\"currentColor\"/>\n",
       "</g>\n",
       "\n",
       "<g class=\"displacy-arrow\">\n",
       "    <path class=\"displacy-arc\" id=\"arrow-80e5b35ee6154947a2d615b0af534fc2-0-2\" stroke-width=\"2px\" d=\"M70,527.0 C70,352.0 380.0,352.0 380.0,527.0\" fill=\"none\" stroke=\"currentColor\"/>\n",
       "    <text dy=\"1.25em\" style=\"font-size: 0.8em; letter-spacing: 1px\">\n",
       "        <textPath xlink:href=\"#arrow-80e5b35ee6154947a2d615b0af534fc2-0-2\" class=\"displacy-label\" startOffset=\"50%\" side=\"left\" fill=\"currentColor\" text-anchor=\"middle\">conj</textPath>\n",
       "    </text>\n",
       "    <path class=\"displacy-arrowhead\" d=\"M380.0,529.0 L388.0,517.0 372.0,517.0\" fill=\"currentColor\"/>\n",
       "</g>\n",
       "\n",
       "<g class=\"displacy-arrow\">\n",
       "    <path class=\"displacy-arc\" id=\"arrow-80e5b35ee6154947a2d615b0af534fc2-0-3\" stroke-width=\"2px\" d=\"M420,527.0 C420,439.5 550.0,439.5 550.0,527.0\" fill=\"none\" stroke=\"currentColor\"/>\n",
       "    <text dy=\"1.25em\" style=\"font-size: 0.8em; letter-spacing: 1px\">\n",
       "        <textPath xlink:href=\"#arrow-80e5b35ee6154947a2d615b0af534fc2-0-3\" class=\"displacy-label\" startOffset=\"50%\" side=\"left\" fill=\"currentColor\" text-anchor=\"middle\">flat:name</textPath>\n",
       "    </text>\n",
       "    <path class=\"displacy-arrowhead\" d=\"M550.0,529.0 L558.0,517.0 542.0,517.0\" fill=\"currentColor\"/>\n",
       "</g>\n",
       "\n",
       "<g class=\"displacy-arrow\">\n",
       "    <path class=\"displacy-arc\" id=\"arrow-80e5b35ee6154947a2d615b0af534fc2-0-4\" stroke-width=\"2px\" d=\"M770,527.0 C770,352.0 1080.0,352.0 1080.0,527.0\" fill=\"none\" stroke=\"currentColor\"/>\n",
       "    <text dy=\"1.25em\" style=\"font-size: 0.8em; letter-spacing: 1px\">\n",
       "        <textPath xlink:href=\"#arrow-80e5b35ee6154947a2d615b0af534fc2-0-4\" class=\"displacy-label\" startOffset=\"50%\" side=\"left\" fill=\"currentColor\" text-anchor=\"middle\">mark</textPath>\n",
       "    </text>\n",
       "    <path class=\"displacy-arrowhead\" d=\"M770,529.0 L762,517.0 778,517.0\" fill=\"currentColor\"/>\n",
       "</g>\n",
       "\n",
       "<g class=\"displacy-arrow\">\n",
       "    <path class=\"displacy-arc\" id=\"arrow-80e5b35ee6154947a2d615b0af534fc2-0-5\" stroke-width=\"2px\" d=\"M945,527.0 C945,439.5 1075.0,439.5 1075.0,527.0\" fill=\"none\" stroke=\"currentColor\"/>\n",
       "    <text dy=\"1.25em\" style=\"font-size: 0.8em; letter-spacing: 1px\">\n",
       "        <textPath xlink:href=\"#arrow-80e5b35ee6154947a2d615b0af534fc2-0-5\" class=\"displacy-label\" startOffset=\"50%\" side=\"left\" fill=\"currentColor\" text-anchor=\"middle\">obj</textPath>\n",
       "    </text>\n",
       "    <path class=\"displacy-arrowhead\" d=\"M945,529.0 L937,517.0 953,517.0\" fill=\"currentColor\"/>\n",
       "</g>\n",
       "\n",
       "<g class=\"displacy-arrow\">\n",
       "    <path class=\"displacy-arc\" id=\"arrow-80e5b35ee6154947a2d615b0af534fc2-0-6\" stroke-width=\"2px\" d=\"M70,527.0 C70,89.5 1095.0,89.5 1095.0,527.0\" fill=\"none\" stroke=\"currentColor\"/>\n",
       "    <text dy=\"1.25em\" style=\"font-size: 0.8em; letter-spacing: 1px\">\n",
       "        <textPath xlink:href=\"#arrow-80e5b35ee6154947a2d615b0af534fc2-0-6\" class=\"displacy-label\" startOffset=\"50%\" side=\"left\" fill=\"currentColor\" text-anchor=\"middle\">acl:relcl</textPath>\n",
       "    </text>\n",
       "    <path class=\"displacy-arrowhead\" d=\"M1095.0,529.0 L1103.0,517.0 1087.0,517.0\" fill=\"currentColor\"/>\n",
       "</g>\n",
       "\n",
       "<g class=\"displacy-arrow\">\n",
       "    <path class=\"displacy-arc\" id=\"arrow-80e5b35ee6154947a2d615b0af534fc2-0-7\" stroke-width=\"2px\" d=\"M1295,527.0 C1295,439.5 1425.0,439.5 1425.0,527.0\" fill=\"none\" stroke=\"currentColor\"/>\n",
       "    <text dy=\"1.25em\" style=\"font-size: 0.8em; letter-spacing: 1px\">\n",
       "        <textPath xlink:href=\"#arrow-80e5b35ee6154947a2d615b0af534fc2-0-7\" class=\"displacy-label\" startOffset=\"50%\" side=\"left\" fill=\"currentColor\" text-anchor=\"middle\">amod</textPath>\n",
       "    </text>\n",
       "    <path class=\"displacy-arrowhead\" d=\"M1295,529.0 L1287,517.0 1303,517.0\" fill=\"currentColor\"/>\n",
       "</g>\n",
       "\n",
       "<g class=\"displacy-arrow\">\n",
       "    <path class=\"displacy-arc\" id=\"arrow-80e5b35ee6154947a2d615b0af534fc2-0-8\" stroke-width=\"2px\" d=\"M1120,527.0 C1120,352.0 1430.0,352.0 1430.0,527.0\" fill=\"none\" stroke=\"currentColor\"/>\n",
       "    <text dy=\"1.25em\" style=\"font-size: 0.8em; letter-spacing: 1px\">\n",
       "        <textPath xlink:href=\"#arrow-80e5b35ee6154947a2d615b0af534fc2-0-8\" class=\"displacy-label\" startOffset=\"50%\" side=\"left\" fill=\"currentColor\" text-anchor=\"middle\">nsubj</textPath>\n",
       "    </text>\n",
       "    <path class=\"displacy-arrowhead\" d=\"M1430.0,529.0 L1438.0,517.0 1422.0,517.0\" fill=\"currentColor\"/>\n",
       "</g>\n",
       "\n",
       "<g class=\"displacy-arrow\">\n",
       "    <path class=\"displacy-arc\" id=\"arrow-80e5b35ee6154947a2d615b0af534fc2-0-9\" stroke-width=\"2px\" d=\"M1645,527.0 C1645,439.5 1775.0,439.5 1775.0,527.0\" fill=\"none\" stroke=\"currentColor\"/>\n",
       "    <text dy=\"1.25em\" style=\"font-size: 0.8em; letter-spacing: 1px\">\n",
       "        <textPath xlink:href=\"#arrow-80e5b35ee6154947a2d615b0af534fc2-0-9\" class=\"displacy-label\" startOffset=\"50%\" side=\"left\" fill=\"currentColor\" text-anchor=\"middle\">xcomp</textPath>\n",
       "    </text>\n",
       "    <path class=\"displacy-arrowhead\" d=\"M1775.0,529.0 L1783.0,517.0 1767.0,517.0\" fill=\"currentColor\"/>\n",
       "</g>\n",
       "\n",
       "<g class=\"displacy-arrow\">\n",
       "    <path class=\"displacy-arc\" id=\"arrow-80e5b35ee6154947a2d615b0af534fc2-0-10\" stroke-width=\"2px\" d=\"M1995,527.0 C1995,177.0 2840.0,177.0 2840.0,527.0\" fill=\"none\" stroke=\"currentColor\"/>\n",
       "    <text dy=\"1.25em\" style=\"font-size: 0.8em; letter-spacing: 1px\">\n",
       "        <textPath xlink:href=\"#arrow-80e5b35ee6154947a2d615b0af534fc2-0-10\" class=\"displacy-label\" startOffset=\"50%\" side=\"left\" fill=\"currentColor\" text-anchor=\"middle\">case</textPath>\n",
       "    </text>\n",
       "    <path class=\"displacy-arrowhead\" d=\"M1995,529.0 L1987,517.0 2003,517.0\" fill=\"currentColor\"/>\n",
       "</g>\n",
       "\n",
       "<g class=\"displacy-arrow\">\n",
       "    <path class=\"displacy-arc\" id=\"arrow-80e5b35ee6154947a2d615b0af534fc2-0-11\" stroke-width=\"2px\" d=\"M2170,527.0 C2170,439.5 2300.0,439.5 2300.0,527.0\" fill=\"none\" stroke=\"currentColor\"/>\n",
       "    <text dy=\"1.25em\" style=\"font-size: 0.8em; letter-spacing: 1px\">\n",
       "        <textPath xlink:href=\"#arrow-80e5b35ee6154947a2d615b0af534fc2-0-11\" class=\"displacy-label\" startOffset=\"50%\" side=\"left\" fill=\"currentColor\" text-anchor=\"middle\">amod</textPath>\n",
       "    </text>\n",
       "    <path class=\"displacy-arrowhead\" d=\"M2170,529.0 L2162,517.0 2178,517.0\" fill=\"currentColor\"/>\n",
       "</g>\n",
       "\n",
       "<g class=\"displacy-arrow\">\n",
       "    <path class=\"displacy-arc\" id=\"arrow-80e5b35ee6154947a2d615b0af534fc2-0-12\" stroke-width=\"2px\" d=\"M2345,527.0 C2345,264.5 2835.0,264.5 2835.0,527.0\" fill=\"none\" stroke=\"currentColor\"/>\n",
       "    <text dy=\"1.25em\" style=\"font-size: 0.8em; letter-spacing: 1px\">\n",
       "        <textPath xlink:href=\"#arrow-80e5b35ee6154947a2d615b0af534fc2-0-12\" class=\"displacy-label\" startOffset=\"50%\" side=\"left\" fill=\"currentColor\" text-anchor=\"middle\">amod</textPath>\n",
       "    </text>\n",
       "    <path class=\"displacy-arrowhead\" d=\"M2345,529.0 L2337,517.0 2353,517.0\" fill=\"currentColor\"/>\n",
       "</g>\n",
       "\n",
       "<g class=\"displacy-arrow\">\n",
       "    <path class=\"displacy-arc\" id=\"arrow-80e5b35ee6154947a2d615b0af534fc2-0-13\" stroke-width=\"2px\" d=\"M2520,527.0 C2520,439.5 2650.0,439.5 2650.0,527.0\" fill=\"none\" stroke=\"currentColor\"/>\n",
       "    <text dy=\"1.25em\" style=\"font-size: 0.8em; letter-spacing: 1px\">\n",
       "        <textPath xlink:href=\"#arrow-80e5b35ee6154947a2d615b0af534fc2-0-13\" class=\"displacy-label\" startOffset=\"50%\" side=\"left\" fill=\"currentColor\" text-anchor=\"middle\">cc</textPath>\n",
       "    </text>\n",
       "    <path class=\"displacy-arrowhead\" d=\"M2520,529.0 L2512,517.0 2528,517.0\" fill=\"currentColor\"/>\n",
       "</g>\n",
       "\n",
       "<g class=\"displacy-arrow\">\n",
       "    <path class=\"displacy-arc\" id=\"arrow-80e5b35ee6154947a2d615b0af534fc2-0-14\" stroke-width=\"2px\" d=\"M2345,527.0 C2345,352.0 2655.0,352.0 2655.0,527.0\" fill=\"none\" stroke=\"currentColor\"/>\n",
       "    <text dy=\"1.25em\" style=\"font-size: 0.8em; letter-spacing: 1px\">\n",
       "        <textPath xlink:href=\"#arrow-80e5b35ee6154947a2d615b0af534fc2-0-14\" class=\"displacy-label\" startOffset=\"50%\" side=\"left\" fill=\"currentColor\" text-anchor=\"middle\">conj</textPath>\n",
       "    </text>\n",
       "    <path class=\"displacy-arrowhead\" d=\"M2655.0,529.0 L2663.0,517.0 2647.0,517.0\" fill=\"currentColor\"/>\n",
       "</g>\n",
       "\n",
       "<g class=\"displacy-arrow\">\n",
       "    <path class=\"displacy-arc\" id=\"arrow-80e5b35ee6154947a2d615b0af534fc2-0-15\" stroke-width=\"2px\" d=\"M1820,527.0 C1820,89.5 2845.0,89.5 2845.0,527.0\" fill=\"none\" stroke=\"currentColor\"/>\n",
       "    <text dy=\"1.25em\" style=\"font-size: 0.8em; letter-spacing: 1px\">\n",
       "        <textPath xlink:href=\"#arrow-80e5b35ee6154947a2d615b0af534fc2-0-15\" class=\"displacy-label\" startOffset=\"50%\" side=\"left\" fill=\"currentColor\" text-anchor=\"middle\">nmod</textPath>\n",
       "    </text>\n",
       "    <path class=\"displacy-arrowhead\" d=\"M2845.0,529.0 L2853.0,517.0 2837.0,517.0\" fill=\"currentColor\"/>\n",
       "</g>\n",
       "\n",
       "<g class=\"displacy-arrow\">\n",
       "    <path class=\"displacy-arc\" id=\"arrow-80e5b35ee6154947a2d615b0af534fc2-0-16\" stroke-width=\"2px\" d=\"M2870,527.0 C2870,439.5 3000.0,439.5 3000.0,527.0\" fill=\"none\" stroke=\"currentColor\"/>\n",
       "    <text dy=\"1.25em\" style=\"font-size: 0.8em; letter-spacing: 1px\">\n",
       "        <textPath xlink:href=\"#arrow-80e5b35ee6154947a2d615b0af534fc2-0-16\" class=\"displacy-label\" startOffset=\"50%\" side=\"left\" fill=\"currentColor\" text-anchor=\"middle\">nmod</textPath>\n",
       "    </text>\n",
       "    <path class=\"displacy-arrowhead\" d=\"M3000.0,529.0 L3008.0,517.0 2992.0,517.0\" fill=\"currentColor\"/>\n",
       "</g>\n",
       "</svg></span>"
      ],
      "text/plain": [
       "<IPython.core.display.HTML object>"
      ]
     },
     "metadata": {},
     "output_type": "display_data"
    }
   ],
   "source": [
    "displacy.render(spacy_text2, style='dep', jupyter=True)"
   ]
  },
  {
   "cell_type": "code",
   "execution_count": 47,
   "id": "86b82ffa",
   "metadata": {},
   "outputs": [
    {
     "name": "stdout",
     "output_type": "stream",
     "text": [
      "noun\n"
     ]
    }
   ],
   "source": [
    "print(spacy.explain(\"NOUN\"))"
   ]
  },
  {
   "cell_type": "code",
   "execution_count": 48,
   "id": "1ab2d323",
   "metadata": {},
   "outputs": [
    {
     "name": "stdout",
     "output_type": "stream",
     "text": [
      "adjectival modifier\n"
     ]
    }
   ],
   "source": [
    "print(spacy.explain(\"amod\"))"
   ]
  },
  {
   "cell_type": "code",
   "execution_count": 49,
   "id": "2dc7c48e",
   "metadata": {},
   "outputs": [
    {
     "data": {
      "text/html": [
       "<span class=\"tex2jax_ignore\"><svg xmlns=\"http://www.w3.org/2000/svg\" xmlns:xlink=\"http://www.w3.org/1999/xlink\" xml:lang=\"ru\" id=\"eea824ee22c7453a8b39b4924e984c79-0\" class=\"displacy\" width=\"2850\" height=\"574.5\" direction=\"ltr\" style=\"max-width: none; height: 574.5px; color: #000000; background: #ffffff; font-family: Arial; direction: ltr\">\n",
       "<text class=\"displacy-token\" fill=\"currentColor\" text-anchor=\"middle\" y=\"484.5\">\n",
       "    <tspan class=\"displacy-word\" fill=\"currentColor\" x=\"50\">Топография</tspan>\n",
       "    <tspan class=\"displacy-tag\" dy=\"2em\" fill=\"currentColor\" x=\"50\">NOUN</tspan>\n",
       "</text>\n",
       "\n",
       "<text class=\"displacy-token\" fill=\"currentColor\" text-anchor=\"middle\" y=\"484.5\">\n",
       "    <tspan class=\"displacy-word\" fill=\"currentColor\" x=\"225\">Китая</tspan>\n",
       "    <tspan class=\"displacy-tag\" dy=\"2em\" fill=\"currentColor\" x=\"225\">PROPN</tspan>\n",
       "</text>\n",
       "\n",
       "<text class=\"displacy-token\" fill=\"currentColor\" text-anchor=\"middle\" y=\"484.5\">\n",
       "    <tspan class=\"displacy-word\" fill=\"currentColor\" x=\"400\">очень</tspan>\n",
       "    <tspan class=\"displacy-tag\" dy=\"2em\" fill=\"currentColor\" x=\"400\">ADV</tspan>\n",
       "</text>\n",
       "\n",
       "<text class=\"displacy-token\" fill=\"currentColor\" text-anchor=\"middle\" y=\"484.5\">\n",
       "    <tspan class=\"displacy-word\" fill=\"currentColor\" x=\"575\">разнообразна,</tspan>\n",
       "    <tspan class=\"displacy-tag\" dy=\"2em\" fill=\"currentColor\" x=\"575\">ADJ</tspan>\n",
       "</text>\n",
       "\n",
       "<text class=\"displacy-token\" fill=\"currentColor\" text-anchor=\"middle\" y=\"484.5\">\n",
       "    <tspan class=\"displacy-word\" fill=\"currentColor\" x=\"750\">на</tspan>\n",
       "    <tspan class=\"displacy-tag\" dy=\"2em\" fill=\"currentColor\" x=\"750\">ADP</tspan>\n",
       "</text>\n",
       "\n",
       "<text class=\"displacy-token\" fill=\"currentColor\" text-anchor=\"middle\" y=\"484.5\">\n",
       "    <tspan class=\"displacy-word\" fill=\"currentColor\" x=\"925\">его</tspan>\n",
       "    <tspan class=\"displacy-tag\" dy=\"2em\" fill=\"currentColor\" x=\"925\">DET</tspan>\n",
       "</text>\n",
       "\n",
       "<text class=\"displacy-token\" fill=\"currentColor\" text-anchor=\"middle\" y=\"484.5\">\n",
       "    <tspan class=\"displacy-word\" fill=\"currentColor\" x=\"1100\">территории</tspan>\n",
       "    <tspan class=\"displacy-tag\" dy=\"2em\" fill=\"currentColor\" x=\"1100\">NOUN</tspan>\n",
       "</text>\n",
       "\n",
       "<text class=\"displacy-token\" fill=\"currentColor\" text-anchor=\"middle\" y=\"484.5\">\n",
       "    <tspan class=\"displacy-word\" fill=\"currentColor\" x=\"1275\">имеются</tspan>\n",
       "    <tspan class=\"displacy-tag\" dy=\"2em\" fill=\"currentColor\" x=\"1275\">VERB</tspan>\n",
       "</text>\n",
       "\n",
       "<text class=\"displacy-token\" fill=\"currentColor\" text-anchor=\"middle\" y=\"484.5\">\n",
       "    <tspan class=\"displacy-word\" fill=\"currentColor\" x=\"1450\">высокие</tspan>\n",
       "    <tspan class=\"displacy-tag\" dy=\"2em\" fill=\"currentColor\" x=\"1450\">ADJ</tspan>\n",
       "</text>\n",
       "\n",
       "<text class=\"displacy-token\" fill=\"currentColor\" text-anchor=\"middle\" y=\"484.5\">\n",
       "    <tspan class=\"displacy-word\" fill=\"currentColor\" x=\"1625\">горы,</tspan>\n",
       "    <tspan class=\"displacy-tag\" dy=\"2em\" fill=\"currentColor\" x=\"1625\">NOUN</tspan>\n",
       "</text>\n",
       "\n",
       "<text class=\"displacy-token\" fill=\"currentColor\" text-anchor=\"middle\" y=\"484.5\">\n",
       "    <tspan class=\"displacy-word\" fill=\"currentColor\" x=\"1800\">плато,</tspan>\n",
       "    <tspan class=\"displacy-tag\" dy=\"2em\" fill=\"currentColor\" x=\"1800\">NOUN</tspan>\n",
       "</text>\n",
       "\n",
       "<text class=\"displacy-token\" fill=\"currentColor\" text-anchor=\"middle\" y=\"484.5\">\n",
       "    <tspan class=\"displacy-word\" fill=\"currentColor\" x=\"1975\">впадины,</tspan>\n",
       "    <tspan class=\"displacy-tag\" dy=\"2em\" fill=\"currentColor\" x=\"1975\">NOUN</tspan>\n",
       "</text>\n",
       "\n",
       "<text class=\"displacy-token\" fill=\"currentColor\" text-anchor=\"middle\" y=\"484.5\">\n",
       "    <tspan class=\"displacy-word\" fill=\"currentColor\" x=\"2150\">пустыни</tspan>\n",
       "    <tspan class=\"displacy-tag\" dy=\"2em\" fill=\"currentColor\" x=\"2150\">NOUN</tspan>\n",
       "</text>\n",
       "\n",
       "<text class=\"displacy-token\" fill=\"currentColor\" text-anchor=\"middle\" y=\"484.5\">\n",
       "    <tspan class=\"displacy-word\" fill=\"currentColor\" x=\"2325\">и</tspan>\n",
       "    <tspan class=\"displacy-tag\" dy=\"2em\" fill=\"currentColor\" x=\"2325\">CCONJ</tspan>\n",
       "</text>\n",
       "\n",
       "<text class=\"displacy-token\" fill=\"currentColor\" text-anchor=\"middle\" y=\"484.5\">\n",
       "    <tspan class=\"displacy-word\" fill=\"currentColor\" x=\"2500\">обширные</tspan>\n",
       "    <tspan class=\"displacy-tag\" dy=\"2em\" fill=\"currentColor\" x=\"2500\">ADJ</tspan>\n",
       "</text>\n",
       "\n",
       "<text class=\"displacy-token\" fill=\"currentColor\" text-anchor=\"middle\" y=\"484.5\">\n",
       "    <tspan class=\"displacy-word\" fill=\"currentColor\" x=\"2675\">равнины.</tspan>\n",
       "    <tspan class=\"displacy-tag\" dy=\"2em\" fill=\"currentColor\" x=\"2675\">NOUN</tspan>\n",
       "</text>\n",
       "\n",
       "<g class=\"displacy-arrow\">\n",
       "    <path class=\"displacy-arc\" id=\"arrow-eea824ee22c7453a8b39b4924e984c79-0-0\" stroke-width=\"2px\" d=\"M70,439.5 C70,177.0 565.0,177.0 565.0,439.5\" fill=\"none\" stroke=\"currentColor\"/>\n",
       "    <text dy=\"1.25em\" style=\"font-size: 0.8em; letter-spacing: 1px\">\n",
       "        <textPath xlink:href=\"#arrow-eea824ee22c7453a8b39b4924e984c79-0-0\" class=\"displacy-label\" startOffset=\"50%\" side=\"left\" fill=\"currentColor\" text-anchor=\"middle\">nsubj</textPath>\n",
       "    </text>\n",
       "    <path class=\"displacy-arrowhead\" d=\"M70,441.5 L62,429.5 78,429.5\" fill=\"currentColor\"/>\n",
       "</g>\n",
       "\n",
       "<g class=\"displacy-arrow\">\n",
       "    <path class=\"displacy-arc\" id=\"arrow-eea824ee22c7453a8b39b4924e984c79-0-1\" stroke-width=\"2px\" d=\"M70,439.5 C70,352.0 205.0,352.0 205.0,439.5\" fill=\"none\" stroke=\"currentColor\"/>\n",
       "    <text dy=\"1.25em\" style=\"font-size: 0.8em; letter-spacing: 1px\">\n",
       "        <textPath xlink:href=\"#arrow-eea824ee22c7453a8b39b4924e984c79-0-1\" class=\"displacy-label\" startOffset=\"50%\" side=\"left\" fill=\"currentColor\" text-anchor=\"middle\">nmod</textPath>\n",
       "    </text>\n",
       "    <path class=\"displacy-arrowhead\" d=\"M205.0,441.5 L213.0,429.5 197.0,429.5\" fill=\"currentColor\"/>\n",
       "</g>\n",
       "\n",
       "<g class=\"displacy-arrow\">\n",
       "    <path class=\"displacy-arc\" id=\"arrow-eea824ee22c7453a8b39b4924e984c79-0-2\" stroke-width=\"2px\" d=\"M420,439.5 C420,352.0 555.0,352.0 555.0,439.5\" fill=\"none\" stroke=\"currentColor\"/>\n",
       "    <text dy=\"1.25em\" style=\"font-size: 0.8em; letter-spacing: 1px\">\n",
       "        <textPath xlink:href=\"#arrow-eea824ee22c7453a8b39b4924e984c79-0-2\" class=\"displacy-label\" startOffset=\"50%\" side=\"left\" fill=\"currentColor\" text-anchor=\"middle\">advmod</textPath>\n",
       "    </text>\n",
       "    <path class=\"displacy-arrowhead\" d=\"M420,441.5 L412,429.5 428,429.5\" fill=\"currentColor\"/>\n",
       "</g>\n",
       "\n",
       "<g class=\"displacy-arrow\">\n",
       "    <path class=\"displacy-arc\" id=\"arrow-eea824ee22c7453a8b39b4924e984c79-0-3\" stroke-width=\"2px\" d=\"M770,439.5 C770,264.5 1085.0,264.5 1085.0,439.5\" fill=\"none\" stroke=\"currentColor\"/>\n",
       "    <text dy=\"1.25em\" style=\"font-size: 0.8em; letter-spacing: 1px\">\n",
       "        <textPath xlink:href=\"#arrow-eea824ee22c7453a8b39b4924e984c79-0-3\" class=\"displacy-label\" startOffset=\"50%\" side=\"left\" fill=\"currentColor\" text-anchor=\"middle\">case</textPath>\n",
       "    </text>\n",
       "    <path class=\"displacy-arrowhead\" d=\"M770,441.5 L762,429.5 778,429.5\" fill=\"currentColor\"/>\n",
       "</g>\n",
       "\n",
       "<g class=\"displacy-arrow\">\n",
       "    <path class=\"displacy-arc\" id=\"arrow-eea824ee22c7453a8b39b4924e984c79-0-4\" stroke-width=\"2px\" d=\"M945,439.5 C945,352.0 1080.0,352.0 1080.0,439.5\" fill=\"none\" stroke=\"currentColor\"/>\n",
       "    <text dy=\"1.25em\" style=\"font-size: 0.8em; letter-spacing: 1px\">\n",
       "        <textPath xlink:href=\"#arrow-eea824ee22c7453a8b39b4924e984c79-0-4\" class=\"displacy-label\" startOffset=\"50%\" side=\"left\" fill=\"currentColor\" text-anchor=\"middle\">det</textPath>\n",
       "    </text>\n",
       "    <path class=\"displacy-arrowhead\" d=\"M945,441.5 L937,429.5 953,429.5\" fill=\"currentColor\"/>\n",
       "</g>\n",
       "\n",
       "<g class=\"displacy-arrow\">\n",
       "    <path class=\"displacy-arc\" id=\"arrow-eea824ee22c7453a8b39b4924e984c79-0-5\" stroke-width=\"2px\" d=\"M1120,439.5 C1120,352.0 1255.0,352.0 1255.0,439.5\" fill=\"none\" stroke=\"currentColor\"/>\n",
       "    <text dy=\"1.25em\" style=\"font-size: 0.8em; letter-spacing: 1px\">\n",
       "        <textPath xlink:href=\"#arrow-eea824ee22c7453a8b39b4924e984c79-0-5\" class=\"displacy-label\" startOffset=\"50%\" side=\"left\" fill=\"currentColor\" text-anchor=\"middle\">obl</textPath>\n",
       "    </text>\n",
       "    <path class=\"displacy-arrowhead\" d=\"M1120,441.5 L1112,429.5 1128,429.5\" fill=\"currentColor\"/>\n",
       "</g>\n",
       "\n",
       "<g class=\"displacy-arrow\">\n",
       "    <path class=\"displacy-arc\" id=\"arrow-eea824ee22c7453a8b39b4924e984c79-0-6\" stroke-width=\"2px\" d=\"M595,439.5 C595,89.5 1270.0,89.5 1270.0,439.5\" fill=\"none\" stroke=\"currentColor\"/>\n",
       "    <text dy=\"1.25em\" style=\"font-size: 0.8em; letter-spacing: 1px\">\n",
       "        <textPath xlink:href=\"#arrow-eea824ee22c7453a8b39b4924e984c79-0-6\" class=\"displacy-label\" startOffset=\"50%\" side=\"left\" fill=\"currentColor\" text-anchor=\"middle\">conj</textPath>\n",
       "    </text>\n",
       "    <path class=\"displacy-arrowhead\" d=\"M1270.0,441.5 L1278.0,429.5 1262.0,429.5\" fill=\"currentColor\"/>\n",
       "</g>\n",
       "\n",
       "<g class=\"displacy-arrow\">\n",
       "    <path class=\"displacy-arc\" id=\"arrow-eea824ee22c7453a8b39b4924e984c79-0-7\" stroke-width=\"2px\" d=\"M1470,439.5 C1470,352.0 1605.0,352.0 1605.0,439.5\" fill=\"none\" stroke=\"currentColor\"/>\n",
       "    <text dy=\"1.25em\" style=\"font-size: 0.8em; letter-spacing: 1px\">\n",
       "        <textPath xlink:href=\"#arrow-eea824ee22c7453a8b39b4924e984c79-0-7\" class=\"displacy-label\" startOffset=\"50%\" side=\"left\" fill=\"currentColor\" text-anchor=\"middle\">amod</textPath>\n",
       "    </text>\n",
       "    <path class=\"displacy-arrowhead\" d=\"M1470,441.5 L1462,429.5 1478,429.5\" fill=\"currentColor\"/>\n",
       "</g>\n",
       "\n",
       "<g class=\"displacy-arrow\">\n",
       "    <path class=\"displacy-arc\" id=\"arrow-eea824ee22c7453a8b39b4924e984c79-0-8\" stroke-width=\"2px\" d=\"M1295,439.5 C1295,264.5 1610.0,264.5 1610.0,439.5\" fill=\"none\" stroke=\"currentColor\"/>\n",
       "    <text dy=\"1.25em\" style=\"font-size: 0.8em; letter-spacing: 1px\">\n",
       "        <textPath xlink:href=\"#arrow-eea824ee22c7453a8b39b4924e984c79-0-8\" class=\"displacy-label\" startOffset=\"50%\" side=\"left\" fill=\"currentColor\" text-anchor=\"middle\">nsubj</textPath>\n",
       "    </text>\n",
       "    <path class=\"displacy-arrowhead\" d=\"M1610.0,441.5 L1618.0,429.5 1602.0,429.5\" fill=\"currentColor\"/>\n",
       "</g>\n",
       "\n",
       "<g class=\"displacy-arrow\">\n",
       "    <path class=\"displacy-arc\" id=\"arrow-eea824ee22c7453a8b39b4924e984c79-0-9\" stroke-width=\"2px\" d=\"M1645,439.5 C1645,352.0 1780.0,352.0 1780.0,439.5\" fill=\"none\" stroke=\"currentColor\"/>\n",
       "    <text dy=\"1.25em\" style=\"font-size: 0.8em; letter-spacing: 1px\">\n",
       "        <textPath xlink:href=\"#arrow-eea824ee22c7453a8b39b4924e984c79-0-9\" class=\"displacy-label\" startOffset=\"50%\" side=\"left\" fill=\"currentColor\" text-anchor=\"middle\">conj</textPath>\n",
       "    </text>\n",
       "    <path class=\"displacy-arrowhead\" d=\"M1780.0,441.5 L1788.0,429.5 1772.0,429.5\" fill=\"currentColor\"/>\n",
       "</g>\n",
       "\n",
       "<g class=\"displacy-arrow\">\n",
       "    <path class=\"displacy-arc\" id=\"arrow-eea824ee22c7453a8b39b4924e984c79-0-10\" stroke-width=\"2px\" d=\"M1645,439.5 C1645,264.5 1960.0,264.5 1960.0,439.5\" fill=\"none\" stroke=\"currentColor\"/>\n",
       "    <text dy=\"1.25em\" style=\"font-size: 0.8em; letter-spacing: 1px\">\n",
       "        <textPath xlink:href=\"#arrow-eea824ee22c7453a8b39b4924e984c79-0-10\" class=\"displacy-label\" startOffset=\"50%\" side=\"left\" fill=\"currentColor\" text-anchor=\"middle\">conj</textPath>\n",
       "    </text>\n",
       "    <path class=\"displacy-arrowhead\" d=\"M1960.0,441.5 L1968.0,429.5 1952.0,429.5\" fill=\"currentColor\"/>\n",
       "</g>\n",
       "\n",
       "<g class=\"displacy-arrow\">\n",
       "    <path class=\"displacy-arc\" id=\"arrow-eea824ee22c7453a8b39b4924e984c79-0-11\" stroke-width=\"2px\" d=\"M1645,439.5 C1645,177.0 2140.0,177.0 2140.0,439.5\" fill=\"none\" stroke=\"currentColor\"/>\n",
       "    <text dy=\"1.25em\" style=\"font-size: 0.8em; letter-spacing: 1px\">\n",
       "        <textPath xlink:href=\"#arrow-eea824ee22c7453a8b39b4924e984c79-0-11\" class=\"displacy-label\" startOffset=\"50%\" side=\"left\" fill=\"currentColor\" text-anchor=\"middle\">conj</textPath>\n",
       "    </text>\n",
       "    <path class=\"displacy-arrowhead\" d=\"M2140.0,441.5 L2148.0,429.5 2132.0,429.5\" fill=\"currentColor\"/>\n",
       "</g>\n",
       "\n",
       "<g class=\"displacy-arrow\">\n",
       "    <path class=\"displacy-arc\" id=\"arrow-eea824ee22c7453a8b39b4924e984c79-0-12\" stroke-width=\"2px\" d=\"M2345,439.5 C2345,264.5 2660.0,264.5 2660.0,439.5\" fill=\"none\" stroke=\"currentColor\"/>\n",
       "    <text dy=\"1.25em\" style=\"font-size: 0.8em; letter-spacing: 1px\">\n",
       "        <textPath xlink:href=\"#arrow-eea824ee22c7453a8b39b4924e984c79-0-12\" class=\"displacy-label\" startOffset=\"50%\" side=\"left\" fill=\"currentColor\" text-anchor=\"middle\">cc</textPath>\n",
       "    </text>\n",
       "    <path class=\"displacy-arrowhead\" d=\"M2345,441.5 L2337,429.5 2353,429.5\" fill=\"currentColor\"/>\n",
       "</g>\n",
       "\n",
       "<g class=\"displacy-arrow\">\n",
       "    <path class=\"displacy-arc\" id=\"arrow-eea824ee22c7453a8b39b4924e984c79-0-13\" stroke-width=\"2px\" d=\"M2520,439.5 C2520,352.0 2655.0,352.0 2655.0,439.5\" fill=\"none\" stroke=\"currentColor\"/>\n",
       "    <text dy=\"1.25em\" style=\"font-size: 0.8em; letter-spacing: 1px\">\n",
       "        <textPath xlink:href=\"#arrow-eea824ee22c7453a8b39b4924e984c79-0-13\" class=\"displacy-label\" startOffset=\"50%\" side=\"left\" fill=\"currentColor\" text-anchor=\"middle\">amod</textPath>\n",
       "    </text>\n",
       "    <path class=\"displacy-arrowhead\" d=\"M2520,441.5 L2512,429.5 2528,429.5\" fill=\"currentColor\"/>\n",
       "</g>\n",
       "\n",
       "<g class=\"displacy-arrow\">\n",
       "    <path class=\"displacy-arc\" id=\"arrow-eea824ee22c7453a8b39b4924e984c79-0-14\" stroke-width=\"2px\" d=\"M1645,439.5 C1645,2.0 2675.0,2.0 2675.0,439.5\" fill=\"none\" stroke=\"currentColor\"/>\n",
       "    <text dy=\"1.25em\" style=\"font-size: 0.8em; letter-spacing: 1px\">\n",
       "        <textPath xlink:href=\"#arrow-eea824ee22c7453a8b39b4924e984c79-0-14\" class=\"displacy-label\" startOffset=\"50%\" side=\"left\" fill=\"currentColor\" text-anchor=\"middle\">conj</textPath>\n",
       "    </text>\n",
       "    <path class=\"displacy-arrowhead\" d=\"M2675.0,441.5 L2683.0,429.5 2667.0,429.5\" fill=\"currentColor\"/>\n",
       "</g>\n",
       "</svg></span>"
      ],
      "text/plain": [
       "<IPython.core.display.HTML object>"
      ]
     },
     "metadata": {},
     "output_type": "display_data"
    }
   ],
   "source": [
    "displacy.render(spacy_text3, style='dep', jupyter=True)"
   ]
  },
  {
   "cell_type": "code",
   "execution_count": 50,
   "id": "c25741e1",
   "metadata": {},
   "outputs": [],
   "source": [
    "#natasha\n",
    "from natasha import NewsSyntaxParser"
   ]
  },
  {
   "cell_type": "code",
   "execution_count": 51,
   "id": "e8891b3d",
   "metadata": {},
   "outputs": [],
   "source": [
    "emb = NewsEmbedding()\n",
    "syntax_parser = NewsSyntaxParser(emb)"
   ]
  },
  {
   "cell_type": "code",
   "execution_count": 52,
   "id": "002e2a9e",
   "metadata": {},
   "outputs": [
    {
     "name": "stdout",
     "output_type": "stream",
     "text": [
      "      ┌────► Шэньчжэнь     nsubj\n",
      "      │      —             \n",
      "      │ ┌──► крупный       amod\n",
      "      │ │ ┌► китайский     amod\n",
      "┌─┌───└─└─└─ город         \n",
      "│ │   │   ┌► ,             punct\n",
      "│ │ ┌─└──►└─ расположенный amod\n",
      "│ │ │     ┌► на            case\n",
      "│ │ └──►┌─└─ юге           obl\n",
      "│ │     └──► страны        nmod\n",
      "│ │     ┌──► ,             punct\n",
      "│ │     │ ┌► возле         case\n",
      "│ └──►┌─└─└─ границы       conj\n",
      "│     │   ┌► с             case\n",
      "│     └──►└─ Гонконгом     nmod\n",
      "└──────────► .             punct\n"
     ]
    }
   ],
   "source": [
    "n_doc1.parse_syntax(syntax_parser)\n",
    "n_doc1.sents[0].syntax.print()"
   ]
  },
  {
   "cell_type": "code",
   "execution_count": 53,
   "id": "fbf50944",
   "metadata": {},
   "outputs": [
    {
     "name": "stdout",
     "output_type": "stream",
     "text": [
      "        ┌► Он              nsubj:pass\n",
      "┌─────┌─└─ построен        \n",
      "│     │ ┌► в               case\n",
      "│ ┌─┌─└►└─ устье           obl\n",
      "│ │ │   ┌► Жемчужной       amod\n",
      "│ │ └──►└─ реки            nmod\n",
      "│ │   ┌──► ,               punct\n",
      "│ │   │ ┌► на              case\n",
      "│ └►┌─└─└─ побережье       conj\n",
      "│   │   ┌► Южно-Китайского amod\n",
      "│   └──►└─ моря            nmod\n",
      "└────────► .               punct\n"
     ]
    }
   ],
   "source": [
    "n_doc1.parse_syntax(syntax_parser)\n",
    "n_doc1.sents[1].syntax.print()"
   ]
  },
  {
   "cell_type": "code",
   "execution_count": 54,
   "id": "1893be0c",
   "metadata": {},
   "outputs": [
    {
     "name": "stdout",
     "output_type": "stream",
     "text": [
      "┌──────────► Китай        nsubj\n",
      "│         ┌► или          cc\n",
      "│       ┌─└─ Чжун         \n",
      "│       └──► Го           flat:name\n",
      "│     ┌────► ,            punct\n",
      "│     │ ┌──► как          advmod\n",
      "│     │ │ ┌► его          obj\n",
      "│ ┌►┌─└─└─└─ называют     parataxis\n",
      "│ │ │ │   ┌► сами         amod\n",
      "│ │ │ └──►└─ китайцы      nsubj\n",
      "│ │ └──────► ,            punct\n",
      "└─└───────┌─ является     \n",
      "  ┌───────└► одной        xcomp\n",
      "  │ ┌──────► из           case\n",
      "  │ │     ┌► самых        amod\n",
      "  │ │ ┌►┌─└─ удивительных amod\n",
      "  │ │ │ │ ┌► и            cc\n",
      "  │ │ │ └►└─ загадочных   conj\n",
      "  └►└─└───┌─ стран        nmod\n",
      "          └► мира         nmod\n"
     ]
    }
   ],
   "source": [
    "n_doc2.parse_syntax(syntax_parser)\n",
    "n_doc2.sents[0].syntax.print()"
   ]
  },
  {
   "cell_type": "code",
   "execution_count": 55,
   "id": "6719519b",
   "metadata": {},
   "outputs": [
    {
     "name": "stdout",
     "output_type": "stream",
     "text": [
      "            ┌──► Топография   nsubj\n",
      "            │    Китая        \n",
      "            │ ┌► очень        advmod\n",
      "┌───────────└─└─ разнообразна \n",
      "│         ┌────► ,            punct\n",
      "│         │ ┌──► на           case\n",
      "│         │ │ ┌► его          det\n",
      "│         │ └─└─ территории   obl\n",
      "│         └─└─── имеются      \n",
      "│         │   ┌► высокие      amod\n",
      "│ ┌─┌─┌─┌─└──►└─ горы         nsubj\n",
      "│ │ │ │ │     ┌► ,            punct\n",
      "│ │ │ │ └────►└─ плато        conj\n",
      "│ │ │ │       ┌► ,            punct\n",
      "│ │ │ └──────►└─ впадины      conj\n",
      "│ │ │         ┌► ,            punct\n",
      "│ │ └────────►└─ пустыни      conj\n",
      "│ │         ┌──► и            cc\n",
      "│ │         │ ┌► обширные     amod\n",
      "│ └────────►└─└─ равнины      conj\n",
      "└──────────────► .            punct\n"
     ]
    }
   ],
   "source": [
    "n_doc3.parse_syntax(syntax_parser)\n",
    "n_doc3.sents[0].syntax.print()"
   ]
  },
  {
   "cell_type": "code",
   "execution_count": 1,
   "id": "f7896edc",
   "metadata": {},
   "outputs": [],
   "source": [
    "import gensim\n",
    "from gensim.models import word2vec"
   ]
  },
  {
   "cell_type": "code",
   "execution_count": 2,
   "id": "10153d45",
   "metadata": {},
   "outputs": [
    {
     "name": "stderr",
     "output_type": "stream",
     "text": [
      "[nltk_data] Downloading package stopwords to\n",
      "[nltk_data]     C:\\Users\\92883\\AppData\\Roaming\\nltk_data...\n",
      "[nltk_data]   Package stopwords is already up-to-date!\n"
     ]
    },
    {
     "data": {
      "text/plain": [
       "True"
      ]
     },
     "execution_count": 2,
     "metadata": {},
     "output_type": "execute_result"
    }
   ],
   "source": [
    "import re\n",
    "import pandas as pd\n",
    "import numpy as np\n",
    "from typing import Dict, Tuple\n",
    "from sklearn.metrics import accuracy_score, balanced_accuracy_score\n",
    "from sklearn.feature_extraction.text import CountVectorizer, TfidfVectorizer\n",
    "from sklearn.linear_model import LogisticRegression\n",
    "from sklearn.pipeline import Pipeline\n",
    "from nltk import WordPunctTokenizer\n",
    "from nltk.corpus import stopwords\n",
    "import nltk\n",
    "nltk.download('stopwords')"
   ]
  },
  {
   "cell_type": "code",
   "execution_count": 3,
   "id": "8fd9e2c0",
   "metadata": {},
   "outputs": [
    {
     "name": "stderr",
     "output_type": "stream",
     "text": [
      "D:\\AppIntasll\\Anaconda\\lib\\site-packages\\pandas\\util\\_decorators.py:311: ParserWarning: Falling back to the 'python' engine because the 'c' engine does not support regex separators (separators > 1 char and different from '\\s+' are interpreted as regex); you can avoid this warning by specifying engine='python'.\n",
      "  return func(*args, **kwargs)\n"
     ]
    },
    {
     "data": {
      "text/html": [
       "<div>\n",
       "<style scoped>\n",
       "    .dataframe tbody tr th:only-of-type {\n",
       "        vertical-align: middle;\n",
       "    }\n",
       "\n",
       "    .dataframe tbody tr th {\n",
       "        vertical-align: top;\n",
       "    }\n",
       "\n",
       "    .dataframe thead th {\n",
       "        text-align: right;\n",
       "    }\n",
       "</style>\n",
       "<table border=\"1\" class=\"dataframe\">\n",
       "  <thead>\n",
       "    <tr style=\"text-align: right;\">\n",
       "      <th></th>\n",
       "      <th>value</th>\n",
       "      <th>text</th>\n",
       "    </tr>\n",
       "  </thead>\n",
       "  <tbody>\n",
       "    <tr>\n",
       "      <th>0</th>\n",
       "      <td>2</td>\n",
       "      <td>Great CD: My lovely Pat has one of the GREAT v...</td>\n",
       "    </tr>\n",
       "    <tr>\n",
       "      <th>1</th>\n",
       "      <td>2</td>\n",
       "      <td>One of the best game music soundtracks - for a...</td>\n",
       "    </tr>\n",
       "    <tr>\n",
       "      <th>2</th>\n",
       "      <td>1</td>\n",
       "      <td>Batteries died within a year ...: I bought thi...</td>\n",
       "    </tr>\n",
       "    <tr>\n",
       "      <th>3</th>\n",
       "      <td>2</td>\n",
       "      <td>works fine, but Maha Energy is better: Check o...</td>\n",
       "    </tr>\n",
       "    <tr>\n",
       "      <th>4</th>\n",
       "      <td>2</td>\n",
       "      <td>Great for the non-audiophile: Reviewed quite a...</td>\n",
       "    </tr>\n",
       "  </tbody>\n",
       "</table>\n",
       "</div>"
      ],
      "text/plain": [
       "   value                                               text\n",
       "0      2  Great CD: My lovely Pat has one of the GREAT v...\n",
       "1      2  One of the best game music soundtracks - for a...\n",
       "2      1  Batteries died within a year ...: I bought thi...\n",
       "3      2  works fine, but Maha Energy is better: Check o...\n",
       "4      2  Great for the non-audiophile: Reviewed quite a..."
      ]
     },
     "execution_count": 3,
     "metadata": {},
     "output_type": "execute_result"
    }
   ],
   "source": [
    "# Загрузка данных\n",
    "imdb_df = pd.read_csv(\"./sen.txt\", delimiter='__label__ ', header=None, names=['value', 'text'])\n",
    "imdb_df.head()"
   ]
  },
  {
   "cell_type": "code",
   "execution_count": 4,
   "id": "58b82a3c",
   "metadata": {},
   "outputs": [],
   "source": [
    "# Подготовим корпус  让我们准备好身体\n",
    "corpus = []\n",
    "stop_words = stopwords.words('english')\n",
    "tok = WordPunctTokenizer()\n",
    "for line in imdb_df['text'].values:\n",
    "    line1 = line.strip().lower()\n",
    "    line1 = re.sub(\"[^a-zA-Z]\",\" \", line1)\n",
    "    text_tok = tok.tokenize(line1)\n",
    "    text_tok1 = [w for w in text_tok if not w in stop_words]\n",
    "    corpus.append(text_tok1)"
   ]
  },
  {
   "cell_type": "code",
   "execution_count": 5,
   "id": "bf66da41",
   "metadata": {},
   "outputs": [
    {
     "data": {
      "text/plain": [
       "[['great',\n",
       "  'cd',\n",
       "  'lovely',\n",
       "  'pat',\n",
       "  'one',\n",
       "  'great',\n",
       "  'voices',\n",
       "  'generation',\n",
       "  'listened',\n",
       "  'cd',\n",
       "  'years',\n",
       "  'still',\n",
       "  'love',\n",
       "  'good',\n",
       "  'mood',\n",
       "  'makes',\n",
       "  'feel',\n",
       "  'better',\n",
       "  'bad',\n",
       "  'mood',\n",
       "  'evaporates',\n",
       "  'like',\n",
       "  'sugar',\n",
       "  'rain',\n",
       "  'cd',\n",
       "  'oozes',\n",
       "  'life',\n",
       "  'vocals',\n",
       "  'jusat',\n",
       "  'stuunning',\n",
       "  'lyrics',\n",
       "  'kill',\n",
       "  'one',\n",
       "  'life',\n",
       "  'hidden',\n",
       "  'gems',\n",
       "  'desert',\n",
       "  'isle',\n",
       "  'cd',\n",
       "  'book',\n",
       "  'never',\n",
       "  'made',\n",
       "  'big',\n",
       "  'beyond',\n",
       "  'everytime',\n",
       "  'play',\n",
       "  'matter',\n",
       "  'black',\n",
       "  'white',\n",
       "  'young',\n",
       "  'old',\n",
       "  'male',\n",
       "  'female',\n",
       "  'everybody',\n",
       "  'says',\n",
       "  'one',\n",
       "  'thing',\n",
       "  'singing'],\n",
       " ['one',\n",
       "  'best',\n",
       "  'game',\n",
       "  'music',\n",
       "  'soundtracks',\n",
       "  'game',\n",
       "  'really',\n",
       "  'play',\n",
       "  'despite',\n",
       "  'fact',\n",
       "  'played',\n",
       "  'small',\n",
       "  'portion',\n",
       "  'game',\n",
       "  'music',\n",
       "  'heard',\n",
       "  'plus',\n",
       "  'connection',\n",
       "  'chrono',\n",
       "  'trigger',\n",
       "  'great',\n",
       "  'well',\n",
       "  'led',\n",
       "  'purchase',\n",
       "  'soundtrack',\n",
       "  'remains',\n",
       "  'one',\n",
       "  'favorite',\n",
       "  'albums',\n",
       "  'incredible',\n",
       "  'mix',\n",
       "  'fun',\n",
       "  'epic',\n",
       "  'emotional',\n",
       "  'songs',\n",
       "  'sad',\n",
       "  'beautiful',\n",
       "  'tracks',\n",
       "  'especially',\n",
       "  'like',\n",
       "  'many',\n",
       "  'kinds',\n",
       "  'songs',\n",
       "  'video',\n",
       "  'game',\n",
       "  'soundtracks',\n",
       "  'must',\n",
       "  'admit',\n",
       "  'one',\n",
       "  'songs',\n",
       "  'life',\n",
       "  'distant',\n",
       "  'promise',\n",
       "  'brought',\n",
       "  'tears',\n",
       "  'eyes',\n",
       "  'many',\n",
       "  'occasions',\n",
       "  'one',\n",
       "  'complaint',\n",
       "  'soundtrack',\n",
       "  'use',\n",
       "  'guitar',\n",
       "  'fretting',\n",
       "  'effects',\n",
       "  'many',\n",
       "  'songs',\n",
       "  'find',\n",
       "  'distracting',\n",
       "  'even',\n",
       "  'included',\n",
       "  'would',\n",
       "  'still',\n",
       "  'consider',\n",
       "  'collection',\n",
       "  'worth'],\n",
       " ['batteries',\n",
       "  'died',\n",
       "  'within',\n",
       "  'year',\n",
       "  'bought',\n",
       "  'charger',\n",
       "  'jul',\n",
       "  'worked',\n",
       "  'ok',\n",
       "  'design',\n",
       "  'nice',\n",
       "  'convenient',\n",
       "  'however',\n",
       "  'year',\n",
       "  'batteries',\n",
       "  'would',\n",
       "  'hold',\n",
       "  'charge',\n",
       "  'might',\n",
       "  'well',\n",
       "  'get',\n",
       "  'alkaline',\n",
       "  'disposables',\n",
       "  'look',\n",
       "  'elsewhere',\n",
       "  'charger',\n",
       "  'comes',\n",
       "  'batteries',\n",
       "  'better',\n",
       "  'staying',\n",
       "  'power'],\n",
       " ['works',\n",
       "  'fine',\n",
       "  'maha',\n",
       "  'energy',\n",
       "  'better',\n",
       "  'check',\n",
       "  'maha',\n",
       "  'energy',\n",
       "  'website',\n",
       "  'powerex',\n",
       "  'mh',\n",
       "  'c',\n",
       "  'f',\n",
       "  'charger',\n",
       "  'works',\n",
       "  'minutes',\n",
       "  'rapid',\n",
       "  'charge',\n",
       "  'option',\n",
       "  'slower',\n",
       "  'charge',\n",
       "  'better',\n",
       "  'batteries',\n",
       "  'mah',\n",
       "  'batteries'],\n",
       " ['great',\n",
       "  'non',\n",
       "  'audiophile',\n",
       "  'reviewed',\n",
       "  'quite',\n",
       "  'bit',\n",
       "  'combo',\n",
       "  'players',\n",
       "  'hesitant',\n",
       "  'due',\n",
       "  'unfavorable',\n",
       "  'reviews',\n",
       "  'size',\n",
       "  'machines',\n",
       "  'weaning',\n",
       "  'vhs',\n",
       "  'collection',\n",
       "  'want',\n",
       "  'replace',\n",
       "  'dvd',\n",
       "  'unit',\n",
       "  'well',\n",
       "  'built',\n",
       "  'easy',\n",
       "  'setup',\n",
       "  'resolution',\n",
       "  'special',\n",
       "  'effects',\n",
       "  'progressive',\n",
       "  'scan',\n",
       "  'hdtv',\n",
       "  'owners',\n",
       "  'suitable',\n",
       "  'many',\n",
       "  'people',\n",
       "  'looking',\n",
       "  'versatile',\n",
       "  'product',\n",
       "  'cons',\n",
       "  'universal',\n",
       "  'remote']]"
      ]
     },
     "execution_count": 5,
     "metadata": {},
     "output_type": "execute_result"
    }
   ],
   "source": [
    "corpus[:5]"
   ]
  },
  {
   "cell_type": "code",
   "execution_count": 6,
   "id": "c25d235d",
   "metadata": {},
   "outputs": [],
   "source": [
    "# количество текстов в корпусе не изменилось и соответствует целевому признаку\n",
    "#语料库中的文本数量没有变化，与目标特征相对应\n",
    "assert imdb_df.shape[0]==len(corpus)"
   ]
  },
  {
   "cell_type": "code",
   "execution_count": 7,
   "id": "510a2265",
   "metadata": {},
   "outputs": [
    {
     "name": "stdout",
     "output_type": "stream",
     "text": [
      "Wall time: 673 ms\n"
     ]
    }
   ],
   "source": [
    "%time model_imdb = word2vec.Word2Vec(corpus, workers=4, min_count=10, window=10, sample=1e-3)"
   ]
  },
  {
   "cell_type": "code",
   "execution_count": 8,
   "id": "5a98bbdc",
   "metadata": {},
   "outputs": [
    {
     "name": "stdout",
     "output_type": "stream",
     "text": [
      "[('also', 0.9997166395187378), ('high', 0.9996911883354187), ('get', 0.9996903538703918), ('never', 0.9996834993362427), ('way', 0.9996824860572815)]\n"
     ]
    }
   ],
   "source": [
    "# Проверим, что модель обучилась\n",
    "print(model_imdb.wv.most_similar(positive=['great'], topn=5))"
   ]
  },
  {
   "cell_type": "code",
   "execution_count": 9,
   "id": "3feeb611",
   "metadata": {},
   "outputs": [],
   "source": [
    "#基于word2vec模型解决文本情感分析问题\n",
    "\n",
    "def sentiment(v, c):\n",
    "    model = Pipeline(\n",
    "        [(\"vectorizer\", v), \n",
    "         (\"classifier\", c)])\n",
    "    model.fit(X_train, y_train)\n",
    "    y_pred = model.predict(X_test)\n",
    "    print_accuracy_score_for_classes(y_test, y_pred)"
   ]
  },
  {
   "cell_type": "code",
   "execution_count": 10,
   "id": "046b8479",
   "metadata": {},
   "outputs": [],
   "source": [
    "def accuracy_score_for_classes(\n",
    "    y_true: np.ndarray, \n",
    "    y_pred: np.ndarray) -> Dict[int, float]:\n",
    "    \"\"\"\n",
    "    Вычисление метрики accuracy для каждого класса\n",
    "    y_true - истинные значения классов\n",
    "    y_pred - предсказанные значения классов\n",
    "    Возвращает словарь: ключ - метка класса, \n",
    "    значение - Accuracy для данного класса\n",
    "    \"\"\"\n",
    "    # Для удобства фильтрации сформируем Pandas DataFrame \n",
    "    d = {'t': y_true, 'p': y_pred}\n",
    "    df = pd.DataFrame(data=d)\n",
    "    # Метки классов\n",
    "    classes = np.unique(y_true)\n",
    "    # Результирующий словарь\n",
    "    res = dict()\n",
    "    # Перебор меток классов\n",
    "    for c in classes:\n",
    "        # отфильтруем данные, которые соответствуют \n",
    "        # текущей метке класса в истинных значениях\n",
    "        temp_data_flt = df[df['t']==c]\n",
    "        # расчет accuracy для заданной метки класса\n",
    "        temp_acc = accuracy_score(\n",
    "            temp_data_flt['t'].values, \n",
    "            temp_data_flt['p'].values)\n",
    "        # сохранение результата в словарь\n",
    "        res[c] = temp_acc\n",
    "    return res\n",
    "\n",
    "def print_accuracy_score_for_classes(\n",
    "    y_true: np.ndarray, \n",
    "    y_pred: np.ndarray):\n",
    "    \"\"\"\n",
    "    Вывод метрики accuracy для каждого класса\n",
    "    \"\"\"\n",
    "    accs = accuracy_score_for_classes(y_true, y_pred)\n",
    "    if len(accs)>0:\n",
    "        print('Метка \\t Accuracy')\n",
    "    for i in accs:\n",
    "        print('{} \\t {}'.format(i, accs[i]))"
   ]
  },
  {
   "cell_type": "code",
   "execution_count": 11,
   "id": "a36165f5",
   "metadata": {},
   "outputs": [],
   "source": [
    "class EmbeddingVectorizer(object):\n",
    "    '''\n",
    "    Для текста усредним вектора входящих в него слов\n",
    "    '''\n",
    "    def __init__(self, model):\n",
    "        self.model = model\n",
    "        self.size = model.vector_size\n",
    "\n",
    "    def fit(self, X, y):\n",
    "        return self\n",
    "\n",
    "    def transform(self, X):\n",
    "        return np.array([np.mean(\n",
    "            [self.model[w] for w in words if w in self.model] \n",
    "            or [np.zeros(self.size)], axis=0)\n",
    "            for words in X])"
   ]
  },
  {
   "cell_type": "code",
   "execution_count": 12,
   "id": "8308e028",
   "metadata": {},
   "outputs": [],
   "source": [
    "# Обучающая и тестовая выборки  训练和测试集\n",
    "boundary = 700\n",
    "X_train = corpus[:boundary] \n",
    "X_test = corpus[boundary:]\n",
    "y_train = imdb_df.value.values[:boundary]\n",
    "y_test = imdb_df.value.values[boundary:]"
   ]
  },
  {
   "cell_type": "code",
   "execution_count": 13,
   "id": "9c0fdca6",
   "metadata": {},
   "outputs": [
    {
     "name": "stdout",
     "output_type": "stream",
     "text": [
      "Метка \t Accuracy\n",
      "1 \t 0.905829596412556\n",
      "2 \t 0.2729044834307992\n"
     ]
    }
   ],
   "source": [
    "sentiment(EmbeddingVectorizer(model_imdb.wv), LogisticRegression(C=5.0))"
   ]
  },
  {
   "cell_type": "code",
   "execution_count": 14,
   "id": "8e266bd7",
   "metadata": {},
   "outputs": [
    {
     "data": {
      "text/plain": [
       "(1659, 2)"
      ]
     },
     "execution_count": 14,
     "metadata": {},
     "output_type": "execute_result"
    }
   ],
   "source": [
    "imdb_df.shape"
   ]
  },
  {
   "cell_type": "code",
   "execution_count": 15,
   "id": "e35edee9",
   "metadata": {},
   "outputs": [
    {
     "data": {
      "text/plain": [
       "[\"One of the best game music soundtracks - for a game I didn't really play: Despite the fact that I have only played a small portion of the game, the music I heard (plus the connection to Chrono Trigger which was great as well) led me to purchase the soundtrack, and it remains one of my favorite albums. There is an incredible mix of fun, epic, and emotional songs. Those sad and beautiful tracks I especially like, as there's not too many of those kinds of songs in my other video game soundtracks. I must admit that one of the songs (Life-A Distant Promise) has brought tears to my eyes on many occasions.My one complaint about this soundtrack is that they use guitar fretting effects in many of the songs, which I find distracting. But even if those weren't included I would still consider the collection worth it.\",\n",
       " 'Batteries died within a year ...: I bought this charger in Jul 2003 and it worked OK for a while. The design is nice and convenient. However, after about a year, the batteries would not hold a charge. Might as well just get alkaline disposables, or look elsewhere for a charger that comes with batteries that have better staying power.',\n",
       " \"works fine, but Maha Energy is better: Check out Maha Energy's website. Their Powerex MH-C204F charger works in 100 minutes for rapid charge, with option for slower charge (better for batteries). And they have 2200 mAh batteries.\",\n",
       " \"Great for the non-audiophile: Reviewed quite a bit of the combo players and was hesitant due to unfavorable reviews and size of machines. I am weaning off my VHS collection, but don't want to replace them with DVD's. This unit is well built, easy to setup and resolution and special effects (no progressive scan for HDTV owners) suitable for many people looking for a versatile product.Cons- No universal remote.\",\n",
       " \"DVD Player crapped out after one year: I also began having the incorrect disc problems that I've read about on here. The VCR still works, but hte DVD side is useless. I understand that DVD players sometimes just quit on you, but after not even one year? To me that's a sign on bad quality. I'm giving up JVC after this as well. I'm sticking to Sony or giving another brand a shot.\",\n",
       " \"Incorrect Disc: I love the style of this, but after a couple years, the DVD is giving me problems. It doesn't even work anymore and I use my broken PS2 Now. I wouldn't recommend this, I'm just going to upgrade to a recorder now. I wish it would work but I guess i'm giving up on JVC. I really did like this one... before it stopped working. The dvd player gave me problems probably after a year of having it.\",\n",
       " \"DVD menu select problems: I cannot scroll through a DVD menu that is set up vertically. The triangle keys will only select horizontally. So I cannot select anything on most DVD's besides play. No special features, no language select, nothing, just play.\",\n",
       " 'Unique Weird Orientalia from the 1930\\'s: Exotic tales of the Orient from the 1930\\'s. \"Dr Shen Fu\", a Weird Tales magazine reprint, is about the elixir of life that grants immortality at a price. If you\\'re tired of modern authors who all sound alike, this is the antidote for you. Owen\\'s palette is loaded with splashes of Chinese and Japanese colours. Marvelous.',\n",
       " 'Not an \"ultimate guide\": Firstly,I enjoyed the format and tone of the book (how the author addressed the reader). However, I did not feel that she imparted any insider secrets that the book promised to reveal. If you are just starting to research law school, and do not know all the requirements of admission, then this book may be a tremendous help. If you have done your homework and are looking for an edge when it comes to admissions, I recommend some more topic-specific books. For example, books on how to write your personal statment, books geared specifically towards LSAT preparation (Powerscore books were the most helpful for me), and there are some websites with great advice geared towards aiding the individuals whom you are asking to write letters of recommendation. Yet, for those new to the entire affair, this book can definitely clarify the requirements for you.']"
      ]
     },
     "execution_count": 15,
     "metadata": {},
     "output_type": "execute_result"
    }
   ],
   "source": [
    "# Сформируем общий словарь для обучения моделей из обучающей и тестовой выборки\n",
    "#让我们从训练集和测试集中为训练模型构建一个通用字典\n",
    "#基于“词袋”模型的文本情感分析问题解决\n",
    "#使用交叉验证，我们将尝试将各种矢量化和分类选项应用于文本语料库。\n",
    "vocab_list = imdb_df['text'].tolist()\n",
    "vocab_list[1:10]"
   ]
  },
  {
   "cell_type": "code",
   "execution_count": 16,
   "id": "6f4b31a8",
   "metadata": {},
   "outputs": [
    {
     "name": "stdout",
     "output_type": "stream",
     "text": [
      "Количество сформированных признаков - 12348\n"
     ]
    }
   ],
   "source": [
    "vocabVect = CountVectorizer()\n",
    "vocabVect.fit(vocab_list)\n",
    "corpusVocab = vocabVect.vocabulary_\n",
    "print('Количество сформированных признаков - {}'.format(len(corpusVocab)))"
   ]
  },
  {
   "cell_type": "code",
   "execution_count": 17,
   "id": "22a558fa",
   "metadata": {},
   "outputs": [
    {
     "name": "stdout",
     "output_type": "stream",
     "text": [
      "cd=1819\n",
      "my=7178\n",
      "lovely=6453\n",
      "pat=7875\n",
      "has=4990\n",
      "one=7552\n",
      "of=7503\n",
      "the=10919\n",
      "voices=11806\n"
     ]
    }
   ],
   "source": [
    "for i in list(corpusVocab)[1:10]:\n",
    "    print('{}={}'.format(i, corpusVocab[i]))"
   ]
  },
  {
   "cell_type": "code",
   "execution_count": 18,
   "id": "7cc65e5e",
   "metadata": {},
   "outputs": [],
   "source": [
    "def VectorizeAndClassify(vectorizers_list, classifiers_list):\n",
    "    for v in vectorizers_list:\n",
    "        for c in classifiers_list:\n",
    "            pipeline1 = Pipeline([(\"vectorizer\", v), (\"classifier\", c)])\n",
    "            score = cross_val_score(pipeline1, imdb_df['text'], imdb_df['value'], scoring='accuracy', cv=3).mean()\n",
    "            print('Векторизация - {}'.format(v))\n",
    "            print('Модель для классификации - {}'.format(c))\n",
    "            print('Accuracy = {}'.format(score))\n",
    "            print('===========================')"
   ]
  },
  {
   "cell_type": "code",
   "execution_count": 19,
   "id": "9c010d64",
   "metadata": {},
   "outputs": [],
   "source": [
    "import numpy as np\n",
    "import pandas as pd\n",
    "from typing import Dict, Tuple\n",
    "from scipy import stats\n",
    "from IPython.display import Image\n",
    "from sklearn.datasets import load_iris, load_boston\n",
    "from sklearn.feature_extraction.text import CountVectorizer, TfidfVectorizer\n",
    "from sklearn.model_selection import train_test_split\n",
    "from sklearn.neighbors import KNeighborsRegressor, KNeighborsClassifier\n",
    "from sklearn.linear_model import LogisticRegression\n",
    "from sklearn.model_selection import GridSearchCV, RandomizedSearchCV\n",
    "from sklearn.metrics import accuracy_score, balanced_accuracy_score\n",
    "from sklearn.metrics import precision_score, recall_score, f1_score, classification_report\n",
    "from sklearn.metrics import confusion_matrix\n",
    "from sklearn.model_selection import cross_val_score\n",
    "from sklearn.pipeline import Pipeline\n",
    "from sklearn.metrics import mean_absolute_error, mean_squared_error, mean_squared_log_error, median_absolute_error, r2_score \n",
    "from sklearn.metrics import roc_curve, roc_auc_score\n",
    "from sklearn.svm import SVC, NuSVC, LinearSVC, OneClassSVM, SVR, NuSVR, LinearSVR\n",
    "import seaborn as sns\n",
    "import matplotlib.pyplot as plt\n",
    "%matplotlib inline \n",
    "sns.set(style=\"ticks\")"
   ]
  },
  {
   "cell_type": "code",
   "execution_count": 20,
   "id": "e4abd370",
   "metadata": {},
   "outputs": [
    {
     "name": "stderr",
     "output_type": "stream",
     "text": [
      "D:\\AppIntasll\\Anaconda\\lib\\site-packages\\sklearn\\linear_model\\_logistic.py:763: ConvergenceWarning: lbfgs failed to converge (status=1):\n",
      "STOP: TOTAL NO. of ITERATIONS REACHED LIMIT.\n",
      "\n",
      "Increase the number of iterations (max_iter) or scale the data as shown in:\n",
      "    https://scikit-learn.org/stable/modules/preprocessing.html\n",
      "Please also refer to the documentation for alternative solver options:\n",
      "    https://scikit-learn.org/stable/modules/linear_model.html#logistic-regression\n",
      "  n_iter_i = _check_optimize_result(\n",
      "D:\\AppIntasll\\Anaconda\\lib\\site-packages\\sklearn\\linear_model\\_logistic.py:763: ConvergenceWarning: lbfgs failed to converge (status=1):\n",
      "STOP: TOTAL NO. of ITERATIONS REACHED LIMIT.\n",
      "\n",
      "Increase the number of iterations (max_iter) or scale the data as shown in:\n",
      "    https://scikit-learn.org/stable/modules/preprocessing.html\n",
      "Please also refer to the documentation for alternative solver options:\n",
      "    https://scikit-learn.org/stable/modules/linear_model.html#logistic-regression\n",
      "  n_iter_i = _check_optimize_result(\n",
      "D:\\AppIntasll\\Anaconda\\lib\\site-packages\\sklearn\\linear_model\\_logistic.py:763: ConvergenceWarning: lbfgs failed to converge (status=1):\n",
      "STOP: TOTAL NO. of ITERATIONS REACHED LIMIT.\n",
      "\n",
      "Increase the number of iterations (max_iter) or scale the data as shown in:\n",
      "    https://scikit-learn.org/stable/modules/preprocessing.html\n",
      "Please also refer to the documentation for alternative solver options:\n",
      "    https://scikit-learn.org/stable/modules/linear_model.html#logistic-regression\n",
      "  n_iter_i = _check_optimize_result(\n"
     ]
    },
    {
     "name": "stdout",
     "output_type": "stream",
     "text": [
      "Векторизация - CountVectorizer(vocabulary={'00': 0, '000': 1, '00000': 2, '02': 3, '03': 4,\n",
      "                            '04': 5, '05': 6, '09': 7, '0zero0': 8, '10': 9,\n",
      "                            '100': 10, '1000': 11, '10000': 12, '10000000': 13,\n",
      "                            '100bucks': 14, '100ft': 15, '100x': 16, '101': 17,\n",
      "                            '1020': 18, '10off': 19, '10th': 20, '11': 21,\n",
      "                            '1100': 22, '112': 23, '11th': 24, '12': 25,\n",
      "                            '120lbs': 26, '1215': 27, '123': 28, '124': 29, ...})\n",
      "Модель для классификации - LogisticRegression(C=3.0)\n",
      "Accuracy = 0.7763713080168776\n",
      "===========================\n",
      "Векторизация - CountVectorizer(vocabulary={'00': 0, '000': 1, '00000': 2, '02': 3, '03': 4,\n",
      "                            '04': 5, '05': 6, '09': 7, '0zero0': 8, '10': 9,\n",
      "                            '100': 10, '1000': 11, '10000': 12, '10000000': 13,\n",
      "                            '100bucks': 14, '100ft': 15, '100x': 16, '101': 17,\n",
      "                            '1020': 18, '10off': 19, '10th': 20, '11': 21,\n",
      "                            '1100': 22, '112': 23, '11th': 24, '12': 25,\n",
      "                            '120lbs': 26, '1215': 27, '123': 28, '124': 29, ...})\n",
      "Модель для классификации - LinearSVC()\n",
      "Accuracy = 0.7643158529234478\n",
      "===========================\n",
      "Векторизация - CountVectorizer(vocabulary={'00': 0, '000': 1, '00000': 2, '02': 3, '03': 4,\n",
      "                            '04': 5, '05': 6, '09': 7, '0zero0': 8, '10': 9,\n",
      "                            '100': 10, '1000': 11, '10000': 12, '10000000': 13,\n",
      "                            '100bucks': 14, '100ft': 15, '100x': 16, '101': 17,\n",
      "                            '1020': 18, '10off': 19, '10th': 20, '11': 21,\n",
      "                            '1100': 22, '112': 23, '11th': 24, '12': 25,\n",
      "                            '120lbs': 26, '1215': 27, '123': 28, '124': 29, ...})\n",
      "Модель для классификации - KNeighborsClassifier()\n",
      "Accuracy = 0.5762507534659433\n",
      "===========================\n",
      "Векторизация - TfidfVectorizer(vocabulary={'00': 0, '000': 1, '00000': 2, '02': 3, '03': 4,\n",
      "                            '04': 5, '05': 6, '09': 7, '0zero0': 8, '10': 9,\n",
      "                            '100': 10, '1000': 11, '10000': 12, '10000000': 13,\n",
      "                            '100bucks': 14, '100ft': 15, '100x': 16, '101': 17,\n",
      "                            '1020': 18, '10off': 19, '10th': 20, '11': 21,\n",
      "                            '1100': 22, '112': 23, '11th': 24, '12': 25,\n",
      "                            '120lbs': 26, '1215': 27, '123': 28, '124': 29, ...})\n",
      "Модель для классификации - LogisticRegression(C=3.0)\n",
      "Accuracy = 0.7974683544303797\n",
      "===========================\n",
      "Векторизация - TfidfVectorizer(vocabulary={'00': 0, '000': 1, '00000': 2, '02': 3, '03': 4,\n",
      "                            '04': 5, '05': 6, '09': 7, '0zero0': 8, '10': 9,\n",
      "                            '100': 10, '1000': 11, '10000': 12, '10000000': 13,\n",
      "                            '100bucks': 14, '100ft': 15, '100x': 16, '101': 17,\n",
      "                            '1020': 18, '10off': 19, '10th': 20, '11': 21,\n",
      "                            '1100': 22, '112': 23, '11th': 24, '12': 25,\n",
      "                            '120lbs': 26, '1215': 27, '123': 28, '124': 29, ...})\n",
      "Модель для классификации - LinearSVC()\n",
      "Accuracy = 0.7920433996383364\n",
      "===========================\n",
      "Векторизация - TfidfVectorizer(vocabulary={'00': 0, '000': 1, '00000': 2, '02': 3, '03': 4,\n",
      "                            '04': 5, '05': 6, '09': 7, '0zero0': 8, '10': 9,\n",
      "                            '100': 10, '1000': 11, '10000': 12, '10000000': 13,\n",
      "                            '100bucks': 14, '100ft': 15, '100x': 16, '101': 17,\n",
      "                            '1020': 18, '10off': 19, '10th': 20, '11': 21,\n",
      "                            '1100': 22, '112': 23, '11th': 24, '12': 25,\n",
      "                            '120lbs': 26, '1215': 27, '123': 28, '124': 29, ...})\n",
      "Модель для классификации - KNeighborsClassifier()\n",
      "Accuracy = 0.6449668474984931\n",
      "===========================\n"
     ]
    }
   ],
   "source": [
    "vectorizers_list = [CountVectorizer(vocabulary = corpusVocab), TfidfVectorizer(vocabulary = corpusVocab)]\n",
    "classifiers_list = [LogisticRegression(C=3.0), LinearSVC(), KNeighborsClassifier()]\n",
    "VectorizeAndClassify(vectorizers_list, classifiers_list)"
   ]
  },
  {
   "cell_type": "code",
   "execution_count": 21,
   "id": "b877947a",
   "metadata": {},
   "outputs": [],
   "source": [
    "X_train, X_test, y_train, y_test = train_test_split(imdb_df['text'], imdb_df['value'], test_size=0.5, random_state=1)"
   ]
  },
  {
   "cell_type": "code",
   "execution_count": 22,
   "id": "f73da21b",
   "metadata": {},
   "outputs": [],
   "source": [
    "def sentiment(v, c):\n",
    "    model = Pipeline(\n",
    "        [(\"vectorizer\", v), \n",
    "         (\"classifier\", c)])\n",
    "    model.fit(X_train, y_train)\n",
    "    y_pred = model.predict(X_test)\n",
    "    print_accuracy_score_for_classes(y_test, y_pred)"
   ]
  },
  {
   "cell_type": "code",
   "execution_count": 23,
   "id": "81fe6a80",
   "metadata": {},
   "outputs": [
    {
     "name": "stdout",
     "output_type": "stream",
     "text": [
      "Метка \t Accuracy\n",
      "1 \t 0.8034398034398035\n",
      "2 \t 0.8250591016548463\n"
     ]
    }
   ],
   "source": [
    "sentiment(TfidfVectorizer(), LogisticRegression(C=5.0))"
   ]
  },
  {
   "cell_type": "code",
   "execution_count": 28,
   "id": "ec1c267f",
   "metadata": {},
   "outputs": [
    {
     "name": "stdout",
     "output_type": "stream",
     "text": [
      "Метка \t Accuracy\n",
      "1 \t 0.7936117936117936\n",
      "2 \t 0.8037825059101655\n"
     ]
    }
   ],
   "source": [
    "sentiment(TfidfVectorizer(ngram_range=(1,3)),  LogisticRegression(C=5.0))"
   ]
  },
  {
   "cell_type": "code",
   "execution_count": 25,
   "id": "40bdb8fb",
   "metadata": {},
   "outputs": [
    {
     "name": "stdout",
     "output_type": "stream",
     "text": [
      "Метка \t Accuracy\n",
      "1 \t 0.6953316953316954\n",
      "2 \t 0.8392434988179669\n"
     ]
    }
   ],
   "source": [
    "sentiment(TfidfVectorizer(ngram_range=(2,3)), LogisticRegression(C=5.0))"
   ]
  },
  {
   "cell_type": "code",
   "execution_count": 26,
   "id": "6150ca40",
   "metadata": {},
   "outputs": [
    {
     "name": "stdout",
     "output_type": "stream",
     "text": [
      "Метка \t Accuracy\n",
      "1 \t 0.7960687960687961\n",
      "2 \t 0.8014184397163121\n"
     ]
    }
   ],
   "source": [
    "sentiment(TfidfVectorizer(ngram_range=(1,4)), LogisticRegression(C=5.0))"
   ]
  },
  {
   "cell_type": "code",
   "execution_count": 27,
   "id": "d0fac38c",
   "metadata": {},
   "outputs": [
    {
     "name": "stdout",
     "output_type": "stream",
     "text": [
      "Метка \t Accuracy\n",
      "1 \t 0.6093366093366094\n",
      "2 \t 0.8865248226950354\n"
     ]
    }
   ],
   "source": [
    "sentiment(TfidfVectorizer(ngram_range=(2,6)), LogisticRegression(C=5.0))"
   ]
  },
  {
   "cell_type": "code",
   "execution_count": null,
   "id": "9661bad0",
   "metadata": {},
   "outputs": [],
   "source": []
  }
 ],
 "metadata": {
  "kernelspec": {
   "display_name": "Python 3 (ipykernel)",
   "language": "python",
   "name": "python3"
  },
  "language_info": {
   "codemirror_mode": {
    "name": "ipython",
    "version": 3
   },
   "file_extension": ".py",
   "mimetype": "text/x-python",
   "name": "python",
   "nbconvert_exporter": "python",
   "pygments_lexer": "ipython3",
   "version": "3.9.7"
  }
 },
 "nbformat": 4,
 "nbformat_minor": 5
}
